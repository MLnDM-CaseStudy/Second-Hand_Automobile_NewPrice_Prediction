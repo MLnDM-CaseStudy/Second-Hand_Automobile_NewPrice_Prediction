{
  "nbformat": 4,
  "nbformat_minor": 0,
  "metadata": {
    "colab": {
      "name": "Second_Hand_Automobile_Price_Prediction_ML&DM_Project_Group_8.ipynb",
      "provenance": [],
      "collapsed_sections": [],
      "authorship_tag": "ABX9TyMTJclCRWI8H7nQHFFPb3MI",
      "include_colab_link": true
    },
    "kernelspec": {
      "name": "python3",
      "display_name": "Python 3"
    },
    "language_info": {
      "name": "python"
    }
  },
  "cells": [
    {
      "cell_type": "markdown",
      "metadata": {
        "id": "view-in-github",
        "colab_type": "text"
      },
      "source": [
        "<a href=\"https://colab.research.google.com/github/sudar-coder321/Second-Hand_Automobile_NewPrice_Prediction/blob/main/Second_Hand_Automobile_Price_Prediction_ML%26DM_Project_Group_8.ipynb\" target=\"_parent\"><img src=\"https://colab.research.google.com/assets/colab-badge.svg\" alt=\"Open In Colab\"/></a>"
      ]
    },
    {
      "cell_type": "markdown",
      "metadata": {
        "id": "BKD6YlGOYCv0"
      },
      "source": [
        "\n",
        "# Second_Hand_Price_Prediction_ML&DM_Project_Group_8\n"
      ]
    },
    {
      "cell_type": "markdown",
      "metadata": {
        "id": "Ay3mV0bbX0rb"
      },
      "source": [
        "## (i) Importing Necessary Libraries/Utilities and observing basic features from Dataset"
      ]
    },
    {
      "cell_type": "markdown",
      "metadata": {
        "id": "GGUcOyUF1hah"
      },
      "source": [
        "##### **Importing Libraries**"
      ]
    },
    {
      "cell_type": "code",
      "metadata": {
        "id": "nouIaCSQu6vK"
      },
      "source": [
        "import pandas as pd\n",
        "import numpy as np\n",
        "import matplotlib.pyplot as plt\n",
        "import seaborn as sns\n",
        "import keras\n",
        "import tensorflow as tf\n",
        "from scipy import stats\n",
        "from sklearn import preprocessing\n",
        "import copy "
      ],
      "execution_count": 133,
      "outputs": []
    },
    {
      "cell_type": "markdown",
      "metadata": {
        "id": "vAkAXEcK1q2y"
      },
      "source": [
        "#### Loading the dataset"
      ]
    },
    {
      "cell_type": "markdown",
      "metadata": {
        "id": "upl3Xche3VHa"
      },
      "source": [
        "##### This dataset has been split into train and test dataset before preprocessing itself"
      ]
    },
    {
      "cell_type": "code",
      "metadata": {
        "id": "IKwCoeHNvLEi"
      },
      "source": [
        "shcp_train_data = pd.read_csv('Data_Train.csv') # to read csv"
      ],
      "execution_count": 134,
      "outputs": []
    },
    {
      "cell_type": "code",
      "metadata": {
        "id": "o6qlQ2HSLuUb"
      },
      "source": [
        "shcp_train_copy = copy.copy(shcp_train_data)"
      ],
      "execution_count": 135,
      "outputs": []
    },
    {
      "cell_type": "code",
      "metadata": {
        "id": "RhE_Ff9TMJbc",
        "colab": {
          "base_uri": "https://localhost:8080/"
        },
        "outputId": "96330b4e-f143-400d-8f5d-4399ae87be17"
      },
      "source": [
        "print(shcp_train_copy)"
      ],
      "execution_count": 136,
      "outputs": [
        {
          "output_type": "stream",
          "text": [
            "                                  Name    Location  ...  New_Price  Price\n",
            "0               Maruti Wagon R LXI CNG      Mumbai  ...        NaN   1.75\n",
            "1     Hyundai Creta 1.6 CRDi SX Option        Pune  ...        NaN  12.50\n",
            "2                         Honda Jazz V     Chennai  ...  8.61 Lakh   4.50\n",
            "3                    Maruti Ertiga VDI     Chennai  ...        NaN   6.00\n",
            "4      Audi A4 New 2.0 TDI Multitronic  Coimbatore  ...        NaN  17.74\n",
            "...                                ...         ...  ...        ...    ...\n",
            "6014                  Maruti Swift VDI       Delhi  ...  7.88 Lakh   4.75\n",
            "6015          Hyundai Xcent 1.1 CRDi S      Jaipur  ...        NaN   4.00\n",
            "6016             Mahindra Xylo D4 BSIV      Jaipur  ...        NaN   2.90\n",
            "6017                Maruti Wagon R VXI     Kolkata  ...        NaN   2.65\n",
            "6018             Chevrolet Beat Diesel   Hyderabad  ...        NaN   2.50\n",
            "\n",
            "[6019 rows x 13 columns]\n"
          ],
          "name": "stdout"
        }
      ]
    },
    {
      "cell_type": "code",
      "metadata": {
        "id": "xg46iWwP2FeX"
      },
      "source": [
        "shcp_test_data = pd.read_csv('Data_Test.csv') # to read csv"
      ],
      "execution_count": 137,
      "outputs": []
    },
    {
      "cell_type": "markdown",
      "metadata": {
        "id": "iS6ClHU6VjhF"
      },
      "source": [
        "**Note:-** This data was split as train and test manually before preprocessing because the there are a lot of target values missing( due to it being a New price in the market)"
      ]
    },
    {
      "cell_type": "markdown",
      "metadata": {
        "id": "gNL8OVQA5AXy"
      },
      "source": [
        "#### Train Data"
      ]
    },
    {
      "cell_type": "code",
      "metadata": {
        "id": "c5DLJLhd3iHl",
        "colab": {
          "base_uri": "https://localhost:8080/"
        },
        "outputId": "2a4552f3-f2a9-4d3d-a7b2-4abe48d56bdb"
      },
      "source": [
        "print(shcp_train_data)"
      ],
      "execution_count": 138,
      "outputs": [
        {
          "output_type": "stream",
          "text": [
            "                                  Name    Location  ...  New_Price  Price\n",
            "0               Maruti Wagon R LXI CNG      Mumbai  ...        NaN   1.75\n",
            "1     Hyundai Creta 1.6 CRDi SX Option        Pune  ...        NaN  12.50\n",
            "2                         Honda Jazz V     Chennai  ...  8.61 Lakh   4.50\n",
            "3                    Maruti Ertiga VDI     Chennai  ...        NaN   6.00\n",
            "4      Audi A4 New 2.0 TDI Multitronic  Coimbatore  ...        NaN  17.74\n",
            "...                                ...         ...  ...        ...    ...\n",
            "6014                  Maruti Swift VDI       Delhi  ...  7.88 Lakh   4.75\n",
            "6015          Hyundai Xcent 1.1 CRDi S      Jaipur  ...        NaN   4.00\n",
            "6016             Mahindra Xylo D4 BSIV      Jaipur  ...        NaN   2.90\n",
            "6017                Maruti Wagon R VXI     Kolkata  ...        NaN   2.65\n",
            "6018             Chevrolet Beat Diesel   Hyderabad  ...        NaN   2.50\n",
            "\n",
            "[6019 rows x 13 columns]\n"
          ],
          "name": "stdout"
        }
      ]
    },
    {
      "cell_type": "code",
      "metadata": {
        "id": "4TBlljUrk88h",
        "colab": {
          "base_uri": "https://localhost:8080/"
        },
        "outputId": "b1fb5315-a427-4024-ae15-b317d8da0920"
      },
      "source": [
        "shcp_train_data.shape"
      ],
      "execution_count": 139,
      "outputs": [
        {
          "output_type": "execute_result",
          "data": {
            "text/plain": [
              "(6019, 13)"
            ]
          },
          "metadata": {},
          "execution_count": 139
        }
      ]
    },
    {
      "cell_type": "markdown",
      "metadata": {
        "id": "oW7FXMEA5fhM"
      },
      "source": [
        "#### Test Data"
      ]
    },
    {
      "cell_type": "code",
      "metadata": {
        "id": "TfUyXNLv3lYG",
        "colab": {
          "base_uri": "https://localhost:8080/"
        },
        "outputId": "8db2971b-d589-43c3-daf3-3d64f9c1ae8a"
      },
      "source": [
        "print(shcp_test_data)"
      ],
      "execution_count": 140,
      "outputs": [
        {
          "output_type": "stream",
          "text": [
            "                                                   Name  ...   New_Price\n",
            "0                               Maruti Alto K10 LXI CNG  ...         NaN\n",
            "1                         Maruti Alto 800 2016-2019 LXI  ...         NaN\n",
            "2             Toyota Innova Crysta Touring Sport 2.4 MT  ...  25.27 Lakh\n",
            "3                                  Toyota Etios Liva GD  ...         NaN\n",
            "4                                     Hyundai i20 Magna  ...         NaN\n",
            "...                                                 ...  ...         ...\n",
            "1229                  Volkswagen Vento Diesel Trendline  ...         NaN\n",
            "1230                             Volkswagen Polo GT TSI  ...         NaN\n",
            "1231                             Nissan Micra Diesel XV  ...         NaN\n",
            "1232                             Volkswagen Polo GT TSI  ...         NaN\n",
            "1233  Mercedes-Benz E-Class 2009-2013 E 220 CDI Avan...  ...         NaN\n",
            "\n",
            "[1234 rows x 12 columns]\n"
          ],
          "name": "stdout"
        }
      ]
    },
    {
      "cell_type": "code",
      "metadata": {
        "id": "qce6f8bYlCLJ",
        "colab": {
          "base_uri": "https://localhost:8080/"
        },
        "outputId": "796c43d8-a3f4-4ba1-d84f-2e3a4a0bbfc8"
      },
      "source": [
        "shcp_test_data.shape"
      ],
      "execution_count": 141,
      "outputs": [
        {
          "output_type": "execute_result",
          "data": {
            "text/plain": [
              "(1234, 12)"
            ]
          },
          "metadata": {},
          "execution_count": 141
        }
      ]
    },
    {
      "cell_type": "code",
      "metadata": {
        "id": "rCvL5XnA49Rv",
        "colab": {
          "base_uri": "https://localhost:8080/"
        },
        "outputId": "a6f63cf7-25f4-42f8-a584-6bee7a144290"
      },
      "source": [
        "print(shcp_train_data.head())"
      ],
      "execution_count": 142,
      "outputs": [
        {
          "output_type": "stream",
          "text": [
            "                               Name    Location  Year  ...  Seats  New_Price  Price\n",
            "0            Maruti Wagon R LXI CNG      Mumbai  2010  ...    5.0        NaN   1.75\n",
            "1  Hyundai Creta 1.6 CRDi SX Option        Pune  2015  ...    5.0        NaN  12.50\n",
            "2                      Honda Jazz V     Chennai  2011  ...    5.0  8.61 Lakh   4.50\n",
            "3                 Maruti Ertiga VDI     Chennai  2012  ...    7.0        NaN   6.00\n",
            "4   Audi A4 New 2.0 TDI Multitronic  Coimbatore  2013  ...    5.0        NaN  17.74\n",
            "\n",
            "[5 rows x 13 columns]\n"
          ],
          "name": "stdout"
        }
      ]
    },
    {
      "cell_type": "code",
      "metadata": {
        "id": "gZLC7jJN5ojA",
        "colab": {
          "base_uri": "https://localhost:8080/"
        },
        "outputId": "68b867fd-7c69-4228-d92e-9eb91fefcb1a"
      },
      "source": [
        "print(shcp_train_data.tail())"
      ],
      "execution_count": 143,
      "outputs": [
        {
          "output_type": "stream",
          "text": [
            "                          Name   Location  Year  ...  Seats  New_Price Price\n",
            "6014          Maruti Swift VDI      Delhi  2014  ...    5.0  7.88 Lakh  4.75\n",
            "6015  Hyundai Xcent 1.1 CRDi S     Jaipur  2015  ...    5.0        NaN  4.00\n",
            "6016     Mahindra Xylo D4 BSIV     Jaipur  2012  ...    8.0        NaN  2.90\n",
            "6017        Maruti Wagon R VXI    Kolkata  2013  ...    5.0        NaN  2.65\n",
            "6018     Chevrolet Beat Diesel  Hyderabad  2011  ...    5.0        NaN  2.50\n",
            "\n",
            "[5 rows x 13 columns]\n"
          ],
          "name": "stdout"
        }
      ]
    },
    {
      "cell_type": "code",
      "metadata": {
        "id": "8s6eGoWn55jP",
        "colab": {
          "base_uri": "https://localhost:8080/"
        },
        "outputId": "102d57e2-aedd-48b4-e3d1-541d8299a574"
      },
      "source": [
        "print(len(shcp_train_data))"
      ],
      "execution_count": 144,
      "outputs": [
        {
          "output_type": "stream",
          "text": [
            "6019\n"
          ],
          "name": "stdout"
        }
      ]
    },
    {
      "cell_type": "code",
      "metadata": {
        "colab": {
          "base_uri": "https://localhost:8080/"
        },
        "id": "SGjk4yOH6Ma3",
        "outputId": "b2739382-1b86-47bb-9ce5-36964a36aaed"
      },
      "source": [
        "shcp_train_data.columns"
      ],
      "execution_count": 145,
      "outputs": [
        {
          "output_type": "execute_result",
          "data": {
            "text/plain": [
              "Index(['Name', 'Location', 'Year', 'Kilometers_Driven', 'Fuel_Type',\n",
              "       'Transmission', 'Owner_Type', 'Mileage', 'Engine', 'Power', 'Seats',\n",
              "       'New_Price', 'Price'],\n",
              "      dtype='object')"
            ]
          },
          "metadata": {},
          "execution_count": 145
        }
      ]
    },
    {
      "cell_type": "code",
      "metadata": {
        "colab": {
          "base_uri": "https://localhost:8080/"
        },
        "id": "lkzrXiJ_8a8v",
        "outputId": "16e29722-5b5b-48f8-d447-9043fbf50d49"
      },
      "source": [
        "len(shcp_train_data.columns)"
      ],
      "execution_count": 146,
      "outputs": [
        {
          "output_type": "execute_result",
          "data": {
            "text/plain": [
              "13"
            ]
          },
          "metadata": {},
          "execution_count": 146
        }
      ]
    },
    {
      "cell_type": "code",
      "metadata": {
        "colab": {
          "base_uri": "https://localhost:8080/"
        },
        "id": "NHwbxdN08eUn",
        "outputId": "75fca1b8-f9ec-46eb-e4ce-042e82cee488"
      },
      "source": [
        "shcp_train_data.shape"
      ],
      "execution_count": 147,
      "outputs": [
        {
          "output_type": "execute_result",
          "data": {
            "text/plain": [
              "(6019, 13)"
            ]
          },
          "metadata": {},
          "execution_count": 147
        }
      ]
    },
    {
      "cell_type": "markdown",
      "metadata": {
        "id": "s4Fy-6qfchd9"
      },
      "source": [
        "#### Number of Records"
      ]
    },
    {
      "cell_type": "code",
      "metadata": {
        "colab": {
          "base_uri": "https://localhost:8080/"
        },
        "id": "6C5C6_lZ8rkw",
        "outputId": "f35bda34-706b-46d7-d2fd-07891e74ebb3"
      },
      "source": [
        "print(\"No of Records(rows) \",shcp_train_data.shape[0])"
      ],
      "execution_count": 148,
      "outputs": [
        {
          "output_type": "stream",
          "text": [
            "No of Records(rows)  6019\n"
          ],
          "name": "stdout"
        }
      ]
    },
    {
      "cell_type": "markdown",
      "metadata": {
        "id": "IShN7iKZclgk"
      },
      "source": [
        "#### Number of Attributes"
      ]
    },
    {
      "cell_type": "code",
      "metadata": {
        "colab": {
          "base_uri": "https://localhost:8080/"
        },
        "id": "qJZ8ukVZ82S4",
        "outputId": "823284fc-9b27-484c-d717-f0a2ace3b308"
      },
      "source": [
        "print(\"No of Attributes(columns) \",shcp_train_data.shape[1])"
      ],
      "execution_count": 149,
      "outputs": [
        {
          "output_type": "stream",
          "text": [
            "No of Attributes(columns)  13\n"
          ],
          "name": "stdout"
        }
      ]
    },
    {
      "cell_type": "code",
      "metadata": {
        "colab": {
          "base_uri": "https://localhost:8080/"
        },
        "id": "n9KK5es-85Jw",
        "outputId": "9507d7bd-2d46-4b84-8a0f-b56b545b4515"
      },
      "source": [
        "list(shcp_train_data.columns)"
      ],
      "execution_count": 150,
      "outputs": [
        {
          "output_type": "execute_result",
          "data": {
            "text/plain": [
              "['Name',\n",
              " 'Location',\n",
              " 'Year',\n",
              " 'Kilometers_Driven',\n",
              " 'Fuel_Type',\n",
              " 'Transmission',\n",
              " 'Owner_Type',\n",
              " 'Mileage',\n",
              " 'Engine',\n",
              " 'Power',\n",
              " 'Seats',\n",
              " 'New_Price',\n",
              " 'Price']"
            ]
          },
          "metadata": {},
          "execution_count": 150
        }
      ]
    },
    {
      "cell_type": "code",
      "metadata": {
        "colab": {
          "base_uri": "https://localhost:8080/"
        },
        "id": "fHiJd1sv74xQ",
        "outputId": "b96e0830-173e-492a-e5f2-c01215fceae4"
      },
      "source": [
        "print(\"The attributes present in the Dataset are \\n\")\n",
        "shcp_list = list(shcp_train_data.columns)\n",
        "for item in shcp_list:\n",
        "  print(item)"
      ],
      "execution_count": 151,
      "outputs": [
        {
          "output_type": "stream",
          "text": [
            "The attributes present in the Dataset are \n",
            "\n",
            "Name\n",
            "Location\n",
            "Year\n",
            "Kilometers_Driven\n",
            "Fuel_Type\n",
            "Transmission\n",
            "Owner_Type\n",
            "Mileage\n",
            "Engine\n",
            "Power\n",
            "Seats\n",
            "New_Price\n",
            "Price\n"
          ],
          "name": "stdout"
        }
      ]
    },
    {
      "cell_type": "code",
      "metadata": {
        "id": "Dl_sKtsL9I0Y"
      },
      "source": [
        "shcp_train_data = shcp_train_data.loc[:, ~shcp_train_data.columns.str.contains('^Unnamed')]"
      ],
      "execution_count": 152,
      "outputs": []
    },
    {
      "cell_type": "code",
      "metadata": {
        "colab": {
          "base_uri": "https://localhost:8080/",
          "height": 297
        },
        "id": "Wu0cw6_UfEhj",
        "outputId": "58f8fc08-fd4c-446e-d1d9-689d44e42e11"
      },
      "source": [
        "shcp_train_data.describe()"
      ],
      "execution_count": 153,
      "outputs": [
        {
          "output_type": "execute_result",
          "data": {
            "text/html": [
              "<div>\n",
              "<style scoped>\n",
              "    .dataframe tbody tr th:only-of-type {\n",
              "        vertical-align: middle;\n",
              "    }\n",
              "\n",
              "    .dataframe tbody tr th {\n",
              "        vertical-align: top;\n",
              "    }\n",
              "\n",
              "    .dataframe thead th {\n",
              "        text-align: right;\n",
              "    }\n",
              "</style>\n",
              "<table border=\"1\" class=\"dataframe\">\n",
              "  <thead>\n",
              "    <tr style=\"text-align: right;\">\n",
              "      <th></th>\n",
              "      <th>Year</th>\n",
              "      <th>Kilometers_Driven</th>\n",
              "      <th>Seats</th>\n",
              "      <th>Price</th>\n",
              "    </tr>\n",
              "  </thead>\n",
              "  <tbody>\n",
              "    <tr>\n",
              "      <th>count</th>\n",
              "      <td>6019.000000</td>\n",
              "      <td>6.019000e+03</td>\n",
              "      <td>5977.000000</td>\n",
              "      <td>6019.000000</td>\n",
              "    </tr>\n",
              "    <tr>\n",
              "      <th>mean</th>\n",
              "      <td>2013.358199</td>\n",
              "      <td>5.873838e+04</td>\n",
              "      <td>5.278735</td>\n",
              "      <td>9.479468</td>\n",
              "    </tr>\n",
              "    <tr>\n",
              "      <th>std</th>\n",
              "      <td>3.269742</td>\n",
              "      <td>9.126884e+04</td>\n",
              "      <td>0.808840</td>\n",
              "      <td>11.187917</td>\n",
              "    </tr>\n",
              "    <tr>\n",
              "      <th>min</th>\n",
              "      <td>1998.000000</td>\n",
              "      <td>1.710000e+02</td>\n",
              "      <td>0.000000</td>\n",
              "      <td>0.440000</td>\n",
              "    </tr>\n",
              "    <tr>\n",
              "      <th>25%</th>\n",
              "      <td>2011.000000</td>\n",
              "      <td>3.400000e+04</td>\n",
              "      <td>5.000000</td>\n",
              "      <td>3.500000</td>\n",
              "    </tr>\n",
              "    <tr>\n",
              "      <th>50%</th>\n",
              "      <td>2014.000000</td>\n",
              "      <td>5.300000e+04</td>\n",
              "      <td>5.000000</td>\n",
              "      <td>5.640000</td>\n",
              "    </tr>\n",
              "    <tr>\n",
              "      <th>75%</th>\n",
              "      <td>2016.000000</td>\n",
              "      <td>7.300000e+04</td>\n",
              "      <td>5.000000</td>\n",
              "      <td>9.950000</td>\n",
              "    </tr>\n",
              "    <tr>\n",
              "      <th>max</th>\n",
              "      <td>2019.000000</td>\n",
              "      <td>6.500000e+06</td>\n",
              "      <td>10.000000</td>\n",
              "      <td>160.000000</td>\n",
              "    </tr>\n",
              "  </tbody>\n",
              "</table>\n",
              "</div>"
            ],
            "text/plain": [
              "              Year  Kilometers_Driven        Seats        Price\n",
              "count  6019.000000       6.019000e+03  5977.000000  6019.000000\n",
              "mean   2013.358199       5.873838e+04     5.278735     9.479468\n",
              "std       3.269742       9.126884e+04     0.808840    11.187917\n",
              "min    1998.000000       1.710000e+02     0.000000     0.440000\n",
              "25%    2011.000000       3.400000e+04     5.000000     3.500000\n",
              "50%    2014.000000       5.300000e+04     5.000000     5.640000\n",
              "75%    2016.000000       7.300000e+04     5.000000     9.950000\n",
              "max    2019.000000       6.500000e+06    10.000000   160.000000"
            ]
          },
          "metadata": {},
          "execution_count": 153
        }
      ]
    },
    {
      "cell_type": "markdown",
      "metadata": {
        "id": "4ASd11fwXr-s"
      },
      "source": [
        "## (ii) Preprocessing Steps "
      ]
    },
    {
      "cell_type": "markdown",
      "metadata": {
        "id": "1606wKC2-TQE"
      },
      "source": [
        "Checking Whether which of the values are NULL"
      ]
    },
    {
      "cell_type": "code",
      "metadata": {
        "id": "yHquzbya-GgH"
      },
      "source": [
        "null_status = shcp_train_data.isnull() # null_status is a dataframe to indicate places where null values are present"
      ],
      "execution_count": 154,
      "outputs": []
    },
    {
      "cell_type": "code",
      "metadata": {
        "colab": {
          "base_uri": "https://localhost:8080/",
          "height": 419
        },
        "id": "8HcsEx7MKNRm",
        "outputId": "ec1b68d6-afc4-47ff-fed6-3e439ab4f61e"
      },
      "source": [
        "null_status"
      ],
      "execution_count": 155,
      "outputs": [
        {
          "output_type": "execute_result",
          "data": {
            "text/html": [
              "<div>\n",
              "<style scoped>\n",
              "    .dataframe tbody tr th:only-of-type {\n",
              "        vertical-align: middle;\n",
              "    }\n",
              "\n",
              "    .dataframe tbody tr th {\n",
              "        vertical-align: top;\n",
              "    }\n",
              "\n",
              "    .dataframe thead th {\n",
              "        text-align: right;\n",
              "    }\n",
              "</style>\n",
              "<table border=\"1\" class=\"dataframe\">\n",
              "  <thead>\n",
              "    <tr style=\"text-align: right;\">\n",
              "      <th></th>\n",
              "      <th>Name</th>\n",
              "      <th>Location</th>\n",
              "      <th>Year</th>\n",
              "      <th>Kilometers_Driven</th>\n",
              "      <th>Fuel_Type</th>\n",
              "      <th>Transmission</th>\n",
              "      <th>Owner_Type</th>\n",
              "      <th>Mileage</th>\n",
              "      <th>Engine</th>\n",
              "      <th>Power</th>\n",
              "      <th>Seats</th>\n",
              "      <th>New_Price</th>\n",
              "      <th>Price</th>\n",
              "    </tr>\n",
              "  </thead>\n",
              "  <tbody>\n",
              "    <tr>\n",
              "      <th>0</th>\n",
              "      <td>False</td>\n",
              "      <td>False</td>\n",
              "      <td>False</td>\n",
              "      <td>False</td>\n",
              "      <td>False</td>\n",
              "      <td>False</td>\n",
              "      <td>False</td>\n",
              "      <td>False</td>\n",
              "      <td>False</td>\n",
              "      <td>False</td>\n",
              "      <td>False</td>\n",
              "      <td>True</td>\n",
              "      <td>False</td>\n",
              "    </tr>\n",
              "    <tr>\n",
              "      <th>1</th>\n",
              "      <td>False</td>\n",
              "      <td>False</td>\n",
              "      <td>False</td>\n",
              "      <td>False</td>\n",
              "      <td>False</td>\n",
              "      <td>False</td>\n",
              "      <td>False</td>\n",
              "      <td>False</td>\n",
              "      <td>False</td>\n",
              "      <td>False</td>\n",
              "      <td>False</td>\n",
              "      <td>True</td>\n",
              "      <td>False</td>\n",
              "    </tr>\n",
              "    <tr>\n",
              "      <th>2</th>\n",
              "      <td>False</td>\n",
              "      <td>False</td>\n",
              "      <td>False</td>\n",
              "      <td>False</td>\n",
              "      <td>False</td>\n",
              "      <td>False</td>\n",
              "      <td>False</td>\n",
              "      <td>False</td>\n",
              "      <td>False</td>\n",
              "      <td>False</td>\n",
              "      <td>False</td>\n",
              "      <td>False</td>\n",
              "      <td>False</td>\n",
              "    </tr>\n",
              "    <tr>\n",
              "      <th>3</th>\n",
              "      <td>False</td>\n",
              "      <td>False</td>\n",
              "      <td>False</td>\n",
              "      <td>False</td>\n",
              "      <td>False</td>\n",
              "      <td>False</td>\n",
              "      <td>False</td>\n",
              "      <td>False</td>\n",
              "      <td>False</td>\n",
              "      <td>False</td>\n",
              "      <td>False</td>\n",
              "      <td>True</td>\n",
              "      <td>False</td>\n",
              "    </tr>\n",
              "    <tr>\n",
              "      <th>4</th>\n",
              "      <td>False</td>\n",
              "      <td>False</td>\n",
              "      <td>False</td>\n",
              "      <td>False</td>\n",
              "      <td>False</td>\n",
              "      <td>False</td>\n",
              "      <td>False</td>\n",
              "      <td>False</td>\n",
              "      <td>False</td>\n",
              "      <td>False</td>\n",
              "      <td>False</td>\n",
              "      <td>True</td>\n",
              "      <td>False</td>\n",
              "    </tr>\n",
              "    <tr>\n",
              "      <th>...</th>\n",
              "      <td>...</td>\n",
              "      <td>...</td>\n",
              "      <td>...</td>\n",
              "      <td>...</td>\n",
              "      <td>...</td>\n",
              "      <td>...</td>\n",
              "      <td>...</td>\n",
              "      <td>...</td>\n",
              "      <td>...</td>\n",
              "      <td>...</td>\n",
              "      <td>...</td>\n",
              "      <td>...</td>\n",
              "      <td>...</td>\n",
              "    </tr>\n",
              "    <tr>\n",
              "      <th>6014</th>\n",
              "      <td>False</td>\n",
              "      <td>False</td>\n",
              "      <td>False</td>\n",
              "      <td>False</td>\n",
              "      <td>False</td>\n",
              "      <td>False</td>\n",
              "      <td>False</td>\n",
              "      <td>False</td>\n",
              "      <td>False</td>\n",
              "      <td>False</td>\n",
              "      <td>False</td>\n",
              "      <td>False</td>\n",
              "      <td>False</td>\n",
              "    </tr>\n",
              "    <tr>\n",
              "      <th>6015</th>\n",
              "      <td>False</td>\n",
              "      <td>False</td>\n",
              "      <td>False</td>\n",
              "      <td>False</td>\n",
              "      <td>False</td>\n",
              "      <td>False</td>\n",
              "      <td>False</td>\n",
              "      <td>False</td>\n",
              "      <td>False</td>\n",
              "      <td>False</td>\n",
              "      <td>False</td>\n",
              "      <td>True</td>\n",
              "      <td>False</td>\n",
              "    </tr>\n",
              "    <tr>\n",
              "      <th>6016</th>\n",
              "      <td>False</td>\n",
              "      <td>False</td>\n",
              "      <td>False</td>\n",
              "      <td>False</td>\n",
              "      <td>False</td>\n",
              "      <td>False</td>\n",
              "      <td>False</td>\n",
              "      <td>False</td>\n",
              "      <td>False</td>\n",
              "      <td>False</td>\n",
              "      <td>False</td>\n",
              "      <td>True</td>\n",
              "      <td>False</td>\n",
              "    </tr>\n",
              "    <tr>\n",
              "      <th>6017</th>\n",
              "      <td>False</td>\n",
              "      <td>False</td>\n",
              "      <td>False</td>\n",
              "      <td>False</td>\n",
              "      <td>False</td>\n",
              "      <td>False</td>\n",
              "      <td>False</td>\n",
              "      <td>False</td>\n",
              "      <td>False</td>\n",
              "      <td>False</td>\n",
              "      <td>False</td>\n",
              "      <td>True</td>\n",
              "      <td>False</td>\n",
              "    </tr>\n",
              "    <tr>\n",
              "      <th>6018</th>\n",
              "      <td>False</td>\n",
              "      <td>False</td>\n",
              "      <td>False</td>\n",
              "      <td>False</td>\n",
              "      <td>False</td>\n",
              "      <td>False</td>\n",
              "      <td>False</td>\n",
              "      <td>False</td>\n",
              "      <td>False</td>\n",
              "      <td>False</td>\n",
              "      <td>False</td>\n",
              "      <td>True</td>\n",
              "      <td>False</td>\n",
              "    </tr>\n",
              "  </tbody>\n",
              "</table>\n",
              "<p>6019 rows × 13 columns</p>\n",
              "</div>"
            ],
            "text/plain": [
              "       Name  Location   Year  Kilometers_Driven  ...  Power  Seats  New_Price  Price\n",
              "0     False     False  False              False  ...  False  False       True  False\n",
              "1     False     False  False              False  ...  False  False       True  False\n",
              "2     False     False  False              False  ...  False  False      False  False\n",
              "3     False     False  False              False  ...  False  False       True  False\n",
              "4     False     False  False              False  ...  False  False       True  False\n",
              "...     ...       ...    ...                ...  ...    ...    ...        ...    ...\n",
              "6014  False     False  False              False  ...  False  False      False  False\n",
              "6015  False     False  False              False  ...  False  False       True  False\n",
              "6016  False     False  False              False  ...  False  False       True  False\n",
              "6017  False     False  False              False  ...  False  False       True  False\n",
              "6018  False     False  False              False  ...  False  False       True  False\n",
              "\n",
              "[6019 rows x 13 columns]"
            ]
          },
          "metadata": {},
          "execution_count": 155
        }
      ]
    },
    {
      "cell_type": "code",
      "metadata": {
        "colab": {
          "base_uri": "https://localhost:8080/"
        },
        "id": "CWz6jsMg-PmQ",
        "outputId": "111211ae-bff6-4b89-b0a3-2291e9089199"
      },
      "source": [
        "len(shcp_train_data.isnull())"
      ],
      "execution_count": 156,
      "outputs": [
        {
          "output_type": "execute_result",
          "data": {
            "text/plain": [
              "6019"
            ]
          },
          "metadata": {},
          "execution_count": 156
        }
      ]
    },
    {
      "cell_type": "code",
      "metadata": {
        "colab": {
          "base_uri": "https://localhost:8080/"
        },
        "id": "n1DEgYef-bPY",
        "outputId": "a10cf47e-1190-4cf9-e92e-6bef6ff5bd06"
      },
      "source": [
        "shcp_train_data.isnull().sum(axis=0)"
      ],
      "execution_count": 157,
      "outputs": [
        {
          "output_type": "execute_result",
          "data": {
            "text/plain": [
              "Name                    0\n",
              "Location                0\n",
              "Year                    0\n",
              "Kilometers_Driven       0\n",
              "Fuel_Type               0\n",
              "Transmission            0\n",
              "Owner_Type              0\n",
              "Mileage                 2\n",
              "Engine                 36\n",
              "Power                  36\n",
              "Seats                  42\n",
              "New_Price            5195\n",
              "Price                   0\n",
              "dtype: int64"
            ]
          },
          "metadata": {},
          "execution_count": 157
        }
      ]
    },
    {
      "cell_type": "code",
      "metadata": {
        "colab": {
          "base_uri": "https://localhost:8080/"
        },
        "id": "wsHk5oMA3B85",
        "outputId": "71890750-8651-45cf-b5d2-ca2de5c387cf"
      },
      "source": [
        "print(\"Types of the columns are\")\n",
        "for item in shcp_list:\n",
        "  print(type(item))"
      ],
      "execution_count": 158,
      "outputs": [
        {
          "output_type": "stream",
          "text": [
            "Types of the columns are\n",
            "<class 'str'>\n",
            "<class 'str'>\n",
            "<class 'str'>\n",
            "<class 'str'>\n",
            "<class 'str'>\n",
            "<class 'str'>\n",
            "<class 'str'>\n",
            "<class 'str'>\n",
            "<class 'str'>\n",
            "<class 'str'>\n",
            "<class 'str'>\n",
            "<class 'str'>\n",
            "<class 'str'>\n"
          ],
          "name": "stdout"
        }
      ]
    },
    {
      "cell_type": "code",
      "metadata": {
        "colab": {
          "base_uri": "https://localhost:8080/"
        },
        "id": "dBnYVVI52i3m",
        "outputId": "7ada5c58-7d98-4b5a-9c87-1223675eec4b"
      },
      "source": [
        "print(\"Attributes which are NULL are \\n\")\n",
        "for col in shcp_list:\n",
        "  if(shcp_train_data[col].isnull().any() == True):\n",
        "    print(col)\n"
      ],
      "execution_count": 159,
      "outputs": [
        {
          "output_type": "stream",
          "text": [
            "Attributes which are NULL are \n",
            "\n",
            "Mileage\n",
            "Engine\n",
            "Power\n",
            "Seats\n",
            "New_Price\n"
          ],
          "name": "stdout"
        }
      ]
    },
    {
      "cell_type": "markdown",
      "metadata": {
        "id": "u99dwrnj_Fhp"
      },
      "source": [
        "Total Number of Non NULLs"
      ]
    },
    {
      "cell_type": "code",
      "metadata": {
        "colab": {
          "base_uri": "https://localhost:8080/"
        },
        "id": "Daiz_D8Q-jDA",
        "outputId": "5ed51f04-fd24-4abe-e782-cf13eff86e7e"
      },
      "source": [
        "shcp_train_data.isnull().sum().sum()"
      ],
      "execution_count": 160,
      "outputs": [
        {
          "output_type": "execute_result",
          "data": {
            "text/plain": [
              "5311"
            ]
          },
          "metadata": {},
          "execution_count": 160
        }
      ]
    },
    {
      "cell_type": "code",
      "metadata": {
        "colab": {
          "base_uri": "https://localhost:8080/"
        },
        "id": "u-KxlZCh-vuH",
        "outputId": "de2d7ecc-bcc2-4115-c22f-6acfe72c84e5"
      },
      "source": [
        "shcp_train_data.isnull().sum(axis=1)"
      ],
      "execution_count": 161,
      "outputs": [
        {
          "output_type": "execute_result",
          "data": {
            "text/plain": [
              "0       1\n",
              "1       1\n",
              "2       0\n",
              "3       1\n",
              "4       1\n",
              "       ..\n",
              "6014    0\n",
              "6015    1\n",
              "6016    1\n",
              "6017    1\n",
              "6018    1\n",
              "Length: 6019, dtype: int64"
            ]
          },
          "metadata": {},
          "execution_count": 161
        }
      ]
    },
    {
      "cell_type": "code",
      "metadata": {
        "colab": {
          "base_uri": "https://localhost:8080/",
          "height": 297
        },
        "id": "EAUpMDRs_MHI",
        "outputId": "6b71cbeb-bdf3-48cd-c0e5-aaad5fda7506"
      },
      "source": [
        "shcp_test_data.describe()"
      ],
      "execution_count": 162,
      "outputs": [
        {
          "output_type": "execute_result",
          "data": {
            "text/html": [
              "<div>\n",
              "<style scoped>\n",
              "    .dataframe tbody tr th:only-of-type {\n",
              "        vertical-align: middle;\n",
              "    }\n",
              "\n",
              "    .dataframe tbody tr th {\n",
              "        vertical-align: top;\n",
              "    }\n",
              "\n",
              "    .dataframe thead th {\n",
              "        text-align: right;\n",
              "    }\n",
              "</style>\n",
              "<table border=\"1\" class=\"dataframe\">\n",
              "  <thead>\n",
              "    <tr style=\"text-align: right;\">\n",
              "      <th></th>\n",
              "      <th>Year</th>\n",
              "      <th>Kilometers_Driven</th>\n",
              "      <th>Seats</th>\n",
              "    </tr>\n",
              "  </thead>\n",
              "  <tbody>\n",
              "    <tr>\n",
              "      <th>count</th>\n",
              "      <td>1234.000000</td>\n",
              "      <td>1234.000000</td>\n",
              "      <td>1223.000000</td>\n",
              "    </tr>\n",
              "    <tr>\n",
              "      <th>mean</th>\n",
              "      <td>2013.400324</td>\n",
              "      <td>58507.288493</td>\n",
              "      <td>5.284546</td>\n",
              "    </tr>\n",
              "    <tr>\n",
              "      <th>std</th>\n",
              "      <td>3.179700</td>\n",
              "      <td>35598.702098</td>\n",
              "      <td>0.825622</td>\n",
              "    </tr>\n",
              "    <tr>\n",
              "      <th>min</th>\n",
              "      <td>1996.000000</td>\n",
              "      <td>1000.000000</td>\n",
              "      <td>2.000000</td>\n",
              "    </tr>\n",
              "    <tr>\n",
              "      <th>25%</th>\n",
              "      <td>2011.000000</td>\n",
              "      <td>34000.000000</td>\n",
              "      <td>5.000000</td>\n",
              "    </tr>\n",
              "    <tr>\n",
              "      <th>50%</th>\n",
              "      <td>2014.000000</td>\n",
              "      <td>54572.500000</td>\n",
              "      <td>5.000000</td>\n",
              "    </tr>\n",
              "    <tr>\n",
              "      <th>75%</th>\n",
              "      <td>2016.000000</td>\n",
              "      <td>75000.000000</td>\n",
              "      <td>5.000000</td>\n",
              "    </tr>\n",
              "    <tr>\n",
              "      <th>max</th>\n",
              "      <td>2019.000000</td>\n",
              "      <td>350000.000000</td>\n",
              "      <td>10.000000</td>\n",
              "    </tr>\n",
              "  </tbody>\n",
              "</table>\n",
              "</div>"
            ],
            "text/plain": [
              "              Year  Kilometers_Driven        Seats\n",
              "count  1234.000000        1234.000000  1223.000000\n",
              "mean   2013.400324       58507.288493     5.284546\n",
              "std       3.179700       35598.702098     0.825622\n",
              "min    1996.000000        1000.000000     2.000000\n",
              "25%    2011.000000       34000.000000     5.000000\n",
              "50%    2014.000000       54572.500000     5.000000\n",
              "75%    2016.000000       75000.000000     5.000000\n",
              "max    2019.000000      350000.000000    10.000000"
            ]
          },
          "metadata": {},
          "execution_count": 162
        }
      ]
    },
    {
      "cell_type": "code",
      "metadata": {
        "colab": {
          "base_uri": "https://localhost:8080/"
        },
        "id": "3QjsM-UR_QUA",
        "outputId": "9fc83c0d-330d-4aa1-b655-a999198745c5"
      },
      "source": [
        "print(type(shcp_train_data.isnull()))"
      ],
      "execution_count": 163,
      "outputs": [
        {
          "output_type": "stream",
          "text": [
            "<class 'pandas.core.frame.DataFrame'>\n"
          ],
          "name": "stdout"
        }
      ]
    },
    {
      "cell_type": "code",
      "metadata": {
        "colab": {
          "base_uri": "https://localhost:8080/"
        },
        "id": "8WGZ8MGtBCnD",
        "outputId": "00cbafd1-fb1d-4f80-a0d8-2a774b554ea1"
      },
      "source": [
        "shcp_train_data.axes"
      ],
      "execution_count": 164,
      "outputs": [
        {
          "output_type": "execute_result",
          "data": {
            "text/plain": [
              "[RangeIndex(start=0, stop=6019, step=1),\n",
              " Index(['Name', 'Location', 'Year', 'Kilometers_Driven', 'Fuel_Type',\n",
              "        'Transmission', 'Owner_Type', 'Mileage', 'Engine', 'Power', 'Seats',\n",
              "        'New_Price', 'Price'],\n",
              "       dtype='object')]"
            ]
          },
          "metadata": {},
          "execution_count": 164
        }
      ]
    },
    {
      "cell_type": "code",
      "metadata": {
        "id": "OU9DRPlyBRvx",
        "colab": {
          "base_uri": "https://localhost:8080/"
        },
        "outputId": "ecab9610-f31f-48ef-d8f2-ce6dc258230a"
      },
      "source": [
        "shcp_train_data.nunique()"
      ],
      "execution_count": 165,
      "outputs": [
        {
          "output_type": "execute_result",
          "data": {
            "text/plain": [
              "Name                 1876\n",
              "Location               11\n",
              "Year                   22\n",
              "Kilometers_Driven    3093\n",
              "Fuel_Type               5\n",
              "Transmission            2\n",
              "Owner_Type              4\n",
              "Mileage               442\n",
              "Engine                146\n",
              "Power                 372\n",
              "Seats                   9\n",
              "New_Price             540\n",
              "Price                1373\n",
              "dtype: int64"
            ]
          },
          "metadata": {},
          "execution_count": 165
        }
      ]
    },
    {
      "cell_type": "code",
      "metadata": {
        "colab": {
          "base_uri": "https://localhost:8080/"
        },
        "id": "ahxS-fc_Biq5",
        "outputId": "1ba6d10d-f56b-4c73-be16-7bd6ba415352"
      },
      "source": [
        "shcp_test_data.nunique()"
      ],
      "execution_count": 166,
      "outputs": [
        {
          "output_type": "execute_result",
          "data": {
            "text/plain": [
              "Name                 768\n",
              "Location              11\n",
              "Year                  20\n",
              "Kilometers_Driven    755\n",
              "Fuel_Type              4\n",
              "Transmission           2\n",
              "Owner_Type             4\n",
              "Mileage              301\n",
              "Engine               104\n",
              "Power                249\n",
              "Seats                  7\n",
              "New_Price            162\n",
              "dtype: int64"
            ]
          },
          "metadata": {},
          "execution_count": 166
        }
      ]
    },
    {
      "cell_type": "markdown",
      "metadata": {
        "id": "LWBbXBpWCU2S"
      },
      "source": [
        "### Printing Data Types of *Columns*"
      ]
    },
    {
      "cell_type": "code",
      "metadata": {
        "colab": {
          "base_uri": "https://localhost:8080/"
        },
        "id": "yDlgjqzoB1vp",
        "outputId": "2fb5a901-c376-4d4d-dc7b-0f9c977ed242"
      },
      "source": [
        "for i in range(len(shcp_train_data.columns)):\n",
        "  print(\" Data: \",shcp_list[i] ,\" Type: \",shcp_train_data[shcp_list[i]].dtypes) # shcp_list --> Columns list\n",
        "                                                                                # shcp_train_data --> Original Dataframe\n",
        "  print()"
      ],
      "execution_count": 167,
      "outputs": [
        {
          "output_type": "stream",
          "text": [
            " Data:  Name  Type:  object\n",
            "\n",
            " Data:  Location  Type:  object\n",
            "\n",
            " Data:  Year  Type:  int64\n",
            "\n",
            " Data:  Kilometers_Driven  Type:  int64\n",
            "\n",
            " Data:  Fuel_Type  Type:  object\n",
            "\n",
            " Data:  Transmission  Type:  object\n",
            "\n",
            " Data:  Owner_Type  Type:  object\n",
            "\n",
            " Data:  Mileage  Type:  object\n",
            "\n",
            " Data:  Engine  Type:  object\n",
            "\n",
            " Data:  Power  Type:  object\n",
            "\n",
            " Data:  Seats  Type:  float64\n",
            "\n",
            " Data:  New_Price  Type:  object\n",
            "\n",
            " Data:  Price  Type:  float64\n",
            "\n"
          ],
          "name": "stdout"
        }
      ]
    },
    {
      "cell_type": "markdown",
      "metadata": {
        "id": "2kQxUPYxdCts"
      },
      "source": [
        "#### (i) Train_Attributes"
      ]
    },
    {
      "cell_type": "code",
      "metadata": {
        "colab": {
          "base_uri": "https://localhost:8080/"
        },
        "id": "eWnLf00iWSkk",
        "outputId": "2ea73f40-1240-46c3-d848-e38f6942ecab"
      },
      "source": [
        "shcp_train_data.info()"
      ],
      "execution_count": 168,
      "outputs": [
        {
          "output_type": "stream",
          "text": [
            "<class 'pandas.core.frame.DataFrame'>\n",
            "RangeIndex: 6019 entries, 0 to 6018\n",
            "Data columns (total 13 columns):\n",
            " #   Column             Non-Null Count  Dtype  \n",
            "---  ------             --------------  -----  \n",
            " 0   Name               6019 non-null   object \n",
            " 1   Location           6019 non-null   object \n",
            " 2   Year               6019 non-null   int64  \n",
            " 3   Kilometers_Driven  6019 non-null   int64  \n",
            " 4   Fuel_Type          6019 non-null   object \n",
            " 5   Transmission       6019 non-null   object \n",
            " 6   Owner_Type         6019 non-null   object \n",
            " 7   Mileage            6017 non-null   object \n",
            " 8   Engine             5983 non-null   object \n",
            " 9   Power              5983 non-null   object \n",
            " 10  Seats              5977 non-null   float64\n",
            " 11  New_Price          824 non-null    object \n",
            " 12  Price              6019 non-null   float64\n",
            "dtypes: float64(2), int64(2), object(9)\n",
            "memory usage: 611.4+ KB\n"
          ],
          "name": "stdout"
        }
      ]
    },
    {
      "cell_type": "markdown",
      "metadata": {
        "id": "vkSr7waSdGA8"
      },
      "source": [
        "#### (ii) Test Attributes"
      ]
    },
    {
      "cell_type": "code",
      "metadata": {
        "colab": {
          "base_uri": "https://localhost:8080/"
        },
        "id": "YjjWyKnKWY5V",
        "outputId": "d8521512-7a32-4401-cedd-e4153adf90af"
      },
      "source": [
        "shcp_test_data.info()"
      ],
      "execution_count": 169,
      "outputs": [
        {
          "output_type": "stream",
          "text": [
            "<class 'pandas.core.frame.DataFrame'>\n",
            "RangeIndex: 1234 entries, 0 to 1233\n",
            "Data columns (total 12 columns):\n",
            " #   Column             Non-Null Count  Dtype  \n",
            "---  ------             --------------  -----  \n",
            " 0   Name               1234 non-null   object \n",
            " 1   Location           1234 non-null   object \n",
            " 2   Year               1234 non-null   int64  \n",
            " 3   Kilometers_Driven  1234 non-null   int64  \n",
            " 4   Fuel_Type          1234 non-null   object \n",
            " 5   Transmission       1234 non-null   object \n",
            " 6   Owner_Type         1234 non-null   object \n",
            " 7   Mileage            1234 non-null   object \n",
            " 8   Engine             1224 non-null   object \n",
            " 9   Power              1224 non-null   object \n",
            " 10  Seats              1223 non-null   float64\n",
            " 11  New_Price          182 non-null    object \n",
            "dtypes: float64(1), int64(2), object(9)\n",
            "memory usage: 115.8+ KB\n"
          ],
          "name": "stdout"
        }
      ]
    },
    {
      "cell_type": "markdown",
      "metadata": {
        "id": "f5OEZO2vde4h"
      },
      "source": [
        "#### Finding numerical attributes in the data set"
      ]
    },
    {
      "cell_type": "code",
      "metadata": {
        "id": "nAg45SCNOdPE"
      },
      "source": [
        "shcp_numerical = shcp_train_data.select_dtypes(include = 'number', exclude = None)"
      ],
      "execution_count": 170,
      "outputs": []
    },
    {
      "cell_type": "code",
      "metadata": {
        "id": "JmKKRYdhddT6",
        "colab": {
          "base_uri": "https://localhost:8080/"
        },
        "outputId": "80b7d85b-368e-4886-9721-7b1ee29bddd1"
      },
      "source": [
        "print(shcp_numerical)"
      ],
      "execution_count": 171,
      "outputs": [
        {
          "output_type": "stream",
          "text": [
            "      Year  Kilometers_Driven  Seats  Price\n",
            "0     2010              72000    5.0   1.75\n",
            "1     2015              41000    5.0  12.50\n",
            "2     2011              46000    5.0   4.50\n",
            "3     2012              87000    7.0   6.00\n",
            "4     2013              40670    5.0  17.74\n",
            "...    ...                ...    ...    ...\n",
            "6014  2014              27365    5.0   4.75\n",
            "6015  2015             100000    5.0   4.00\n",
            "6016  2012              55000    8.0   2.90\n",
            "6017  2013              46000    5.0   2.65\n",
            "6018  2011              47000    5.0   2.50\n",
            "\n",
            "[6019 rows x 4 columns]\n"
          ],
          "name": "stdout"
        }
      ]
    },
    {
      "cell_type": "markdown",
      "metadata": {
        "id": "w2hMe8FgdNCZ"
      },
      "source": [
        "**Conclusion -** It proves to be inconsistent because some of the numerical attributes have not been recognised"
      ]
    },
    {
      "cell_type": "markdown",
      "metadata": {
        "id": "7W37DMi2qYhR"
      },
      "source": [
        "#### Finding categorical attributes in the data set"
      ]
    },
    {
      "cell_type": "code",
      "metadata": {
        "id": "XmdaJkOkdY6i"
      },
      "source": [
        "shcp_categorical = pd.concat([shcp_train_data,shcp_numerical]).drop_duplicates(keep=False)"
      ],
      "execution_count": 172,
      "outputs": []
    },
    {
      "cell_type": "code",
      "metadata": {
        "colab": {
          "base_uri": "https://localhost:8080/"
        },
        "id": "6LdbZHCRqdsI",
        "outputId": "6cd7f9b5-b679-42db-88c5-0d3deec9b44e"
      },
      "source": [
        "print(shcp_categorical)"
      ],
      "execution_count": 173,
      "outputs": [
        {
          "output_type": "stream",
          "text": [
            "                                  Name    Location  ...  New_Price  Price\n",
            "0               Maruti Wagon R LXI CNG      Mumbai  ...        NaN   1.75\n",
            "1     Hyundai Creta 1.6 CRDi SX Option        Pune  ...        NaN  12.50\n",
            "2                         Honda Jazz V     Chennai  ...  8.61 Lakh   4.50\n",
            "3                    Maruti Ertiga VDI     Chennai  ...        NaN   6.00\n",
            "4      Audi A4 New 2.0 TDI Multitronic  Coimbatore  ...        NaN  17.74\n",
            "...                                ...         ...  ...        ...    ...\n",
            "6014                               NaN         NaN  ...        NaN   4.75\n",
            "6015                               NaN         NaN  ...        NaN   4.00\n",
            "6016                               NaN         NaN  ...        NaN   2.90\n",
            "6017                               NaN         NaN  ...        NaN   2.65\n",
            "6018                               NaN         NaN  ...        NaN   2.50\n",
            "\n",
            "[11931 rows x 13 columns]\n"
          ],
          "name": "stdout"
        }
      ]
    },
    {
      "cell_type": "markdown",
      "metadata": {
        "id": "sE33aV0QdjQ8"
      },
      "source": [
        "**Conclusion -** It proves to be inconsistent because some of the categorical attributes have been recognised wrongly"
      ]
    },
    {
      "cell_type": "code",
      "metadata": {
        "colab": {
          "base_uri": "https://localhost:8080/"
        },
        "id": "odmoOHsod7OA",
        "outputId": "46b3649f-6da9-4392-82a0-cd7e83bbdb00"
      },
      "source": [
        "shcp_train_data['Mileage'].dtype"
      ],
      "execution_count": 174,
      "outputs": [
        {
          "output_type": "execute_result",
          "data": {
            "text/plain": [
              "dtype('O')"
            ]
          },
          "metadata": {},
          "execution_count": 174
        }
      ]
    },
    {
      "cell_type": "code",
      "metadata": {
        "colab": {
          "base_uri": "https://localhost:8080/"
        },
        "id": "LSwkgLBBoPkC",
        "outputId": "2e066280-3f18-4b9d-83bf-b9438bc8fa73"
      },
      "source": [
        "shcp_train_data['Mileage'].head()"
      ],
      "execution_count": 175,
      "outputs": [
        {
          "output_type": "execute_result",
          "data": {
            "text/plain": [
              "0    26.6 km/kg\n",
              "1    19.67 kmpl\n",
              "2     18.2 kmpl\n",
              "3    20.77 kmpl\n",
              "4     15.2 kmpl\n",
              "Name: Mileage, dtype: object"
            ]
          },
          "metadata": {},
          "execution_count": 175
        }
      ]
    },
    {
      "cell_type": "code",
      "metadata": {
        "colab": {
          "base_uri": "https://localhost:8080/"
        },
        "id": "FettuZ5loTx4",
        "outputId": "6d37b3f4-d180-46e6-fdc3-ab14cbeb2c45"
      },
      "source": [
        "shcp_train_data['Mileage'].tail()"
      ],
      "execution_count": 176,
      "outputs": [
        {
          "output_type": "execute_result",
          "data": {
            "text/plain": [
              "6014     28.4 kmpl\n",
              "6015     24.4 kmpl\n",
              "6016     14.0 kmpl\n",
              "6017     18.9 kmpl\n",
              "6018    25.44 kmpl\n",
              "Name: Mileage, dtype: object"
            ]
          },
          "metadata": {},
          "execution_count": 176
        }
      ]
    },
    {
      "cell_type": "code",
      "metadata": {
        "colab": {
          "base_uri": "https://localhost:8080/"
        },
        "id": "uUvW-3EAo6_v",
        "outputId": "95c40cda-cafb-4217-a35a-5869cbbd1717"
      },
      "source": [
        "shcp_train_data['New_Price'].isnull().values.any()"
      ],
      "execution_count": 177,
      "outputs": [
        {
          "output_type": "execute_result",
          "data": {
            "text/plain": [
              "True"
            ]
          },
          "metadata": {},
          "execution_count": 177
        }
      ]
    },
    {
      "cell_type": "markdown",
      "metadata": {
        "id": "dUIDELICeKmL"
      },
      "source": [
        "### The Rows which contain NULL values"
      ]
    },
    {
      "cell_type": "code",
      "metadata": {
        "colab": {
          "base_uri": "https://localhost:8080/",
          "height": 419
        },
        "id": "QZ6pTJl_pCTs",
        "outputId": "24071fe9-efb1-4feb-cf24-3c9ca2b2e8d2"
      },
      "source": [
        "shcp_train_data.loc[shcp_train_data['New_Price'].isnull() == True] "
      ],
      "execution_count": 178,
      "outputs": [
        {
          "output_type": "execute_result",
          "data": {
            "text/html": [
              "<div>\n",
              "<style scoped>\n",
              "    .dataframe tbody tr th:only-of-type {\n",
              "        vertical-align: middle;\n",
              "    }\n",
              "\n",
              "    .dataframe tbody tr th {\n",
              "        vertical-align: top;\n",
              "    }\n",
              "\n",
              "    .dataframe thead th {\n",
              "        text-align: right;\n",
              "    }\n",
              "</style>\n",
              "<table border=\"1\" class=\"dataframe\">\n",
              "  <thead>\n",
              "    <tr style=\"text-align: right;\">\n",
              "      <th></th>\n",
              "      <th>Name</th>\n",
              "      <th>Location</th>\n",
              "      <th>Year</th>\n",
              "      <th>Kilometers_Driven</th>\n",
              "      <th>Fuel_Type</th>\n",
              "      <th>Transmission</th>\n",
              "      <th>Owner_Type</th>\n",
              "      <th>Mileage</th>\n",
              "      <th>Engine</th>\n",
              "      <th>Power</th>\n",
              "      <th>Seats</th>\n",
              "      <th>New_Price</th>\n",
              "      <th>Price</th>\n",
              "    </tr>\n",
              "  </thead>\n",
              "  <tbody>\n",
              "    <tr>\n",
              "      <th>0</th>\n",
              "      <td>Maruti Wagon R LXI CNG</td>\n",
              "      <td>Mumbai</td>\n",
              "      <td>2010</td>\n",
              "      <td>72000</td>\n",
              "      <td>CNG</td>\n",
              "      <td>Manual</td>\n",
              "      <td>First</td>\n",
              "      <td>26.6 km/kg</td>\n",
              "      <td>998 CC</td>\n",
              "      <td>58.16 bhp</td>\n",
              "      <td>5.0</td>\n",
              "      <td>NaN</td>\n",
              "      <td>1.75</td>\n",
              "    </tr>\n",
              "    <tr>\n",
              "      <th>1</th>\n",
              "      <td>Hyundai Creta 1.6 CRDi SX Option</td>\n",
              "      <td>Pune</td>\n",
              "      <td>2015</td>\n",
              "      <td>41000</td>\n",
              "      <td>Diesel</td>\n",
              "      <td>Manual</td>\n",
              "      <td>First</td>\n",
              "      <td>19.67 kmpl</td>\n",
              "      <td>1582 CC</td>\n",
              "      <td>126.2 bhp</td>\n",
              "      <td>5.0</td>\n",
              "      <td>NaN</td>\n",
              "      <td>12.50</td>\n",
              "    </tr>\n",
              "    <tr>\n",
              "      <th>3</th>\n",
              "      <td>Maruti Ertiga VDI</td>\n",
              "      <td>Chennai</td>\n",
              "      <td>2012</td>\n",
              "      <td>87000</td>\n",
              "      <td>Diesel</td>\n",
              "      <td>Manual</td>\n",
              "      <td>First</td>\n",
              "      <td>20.77 kmpl</td>\n",
              "      <td>1248 CC</td>\n",
              "      <td>88.76 bhp</td>\n",
              "      <td>7.0</td>\n",
              "      <td>NaN</td>\n",
              "      <td>6.00</td>\n",
              "    </tr>\n",
              "    <tr>\n",
              "      <th>4</th>\n",
              "      <td>Audi A4 New 2.0 TDI Multitronic</td>\n",
              "      <td>Coimbatore</td>\n",
              "      <td>2013</td>\n",
              "      <td>40670</td>\n",
              "      <td>Diesel</td>\n",
              "      <td>Automatic</td>\n",
              "      <td>Second</td>\n",
              "      <td>15.2 kmpl</td>\n",
              "      <td>1968 CC</td>\n",
              "      <td>140.8 bhp</td>\n",
              "      <td>5.0</td>\n",
              "      <td>NaN</td>\n",
              "      <td>17.74</td>\n",
              "    </tr>\n",
              "    <tr>\n",
              "      <th>5</th>\n",
              "      <td>Hyundai EON LPG Era Plus Option</td>\n",
              "      <td>Hyderabad</td>\n",
              "      <td>2012</td>\n",
              "      <td>75000</td>\n",
              "      <td>LPG</td>\n",
              "      <td>Manual</td>\n",
              "      <td>First</td>\n",
              "      <td>21.1 km/kg</td>\n",
              "      <td>814 CC</td>\n",
              "      <td>55.2 bhp</td>\n",
              "      <td>5.0</td>\n",
              "      <td>NaN</td>\n",
              "      <td>2.35</td>\n",
              "    </tr>\n",
              "    <tr>\n",
              "      <th>...</th>\n",
              "      <td>...</td>\n",
              "      <td>...</td>\n",
              "      <td>...</td>\n",
              "      <td>...</td>\n",
              "      <td>...</td>\n",
              "      <td>...</td>\n",
              "      <td>...</td>\n",
              "      <td>...</td>\n",
              "      <td>...</td>\n",
              "      <td>...</td>\n",
              "      <td>...</td>\n",
              "      <td>...</td>\n",
              "      <td>...</td>\n",
              "    </tr>\n",
              "    <tr>\n",
              "      <th>6013</th>\n",
              "      <td>Honda Amaze VX i-DTEC</td>\n",
              "      <td>Coimbatore</td>\n",
              "      <td>2015</td>\n",
              "      <td>70602</td>\n",
              "      <td>Diesel</td>\n",
              "      <td>Manual</td>\n",
              "      <td>First</td>\n",
              "      <td>25.8 kmpl</td>\n",
              "      <td>1498 CC</td>\n",
              "      <td>98.6 bhp</td>\n",
              "      <td>5.0</td>\n",
              "      <td>NaN</td>\n",
              "      <td>4.83</td>\n",
              "    </tr>\n",
              "    <tr>\n",
              "      <th>6015</th>\n",
              "      <td>Hyundai Xcent 1.1 CRDi S</td>\n",
              "      <td>Jaipur</td>\n",
              "      <td>2015</td>\n",
              "      <td>100000</td>\n",
              "      <td>Diesel</td>\n",
              "      <td>Manual</td>\n",
              "      <td>First</td>\n",
              "      <td>24.4 kmpl</td>\n",
              "      <td>1120 CC</td>\n",
              "      <td>71 bhp</td>\n",
              "      <td>5.0</td>\n",
              "      <td>NaN</td>\n",
              "      <td>4.00</td>\n",
              "    </tr>\n",
              "    <tr>\n",
              "      <th>6016</th>\n",
              "      <td>Mahindra Xylo D4 BSIV</td>\n",
              "      <td>Jaipur</td>\n",
              "      <td>2012</td>\n",
              "      <td>55000</td>\n",
              "      <td>Diesel</td>\n",
              "      <td>Manual</td>\n",
              "      <td>Second</td>\n",
              "      <td>14.0 kmpl</td>\n",
              "      <td>2498 CC</td>\n",
              "      <td>112 bhp</td>\n",
              "      <td>8.0</td>\n",
              "      <td>NaN</td>\n",
              "      <td>2.90</td>\n",
              "    </tr>\n",
              "    <tr>\n",
              "      <th>6017</th>\n",
              "      <td>Maruti Wagon R VXI</td>\n",
              "      <td>Kolkata</td>\n",
              "      <td>2013</td>\n",
              "      <td>46000</td>\n",
              "      <td>Petrol</td>\n",
              "      <td>Manual</td>\n",
              "      <td>First</td>\n",
              "      <td>18.9 kmpl</td>\n",
              "      <td>998 CC</td>\n",
              "      <td>67.1 bhp</td>\n",
              "      <td>5.0</td>\n",
              "      <td>NaN</td>\n",
              "      <td>2.65</td>\n",
              "    </tr>\n",
              "    <tr>\n",
              "      <th>6018</th>\n",
              "      <td>Chevrolet Beat Diesel</td>\n",
              "      <td>Hyderabad</td>\n",
              "      <td>2011</td>\n",
              "      <td>47000</td>\n",
              "      <td>Diesel</td>\n",
              "      <td>Manual</td>\n",
              "      <td>First</td>\n",
              "      <td>25.44 kmpl</td>\n",
              "      <td>936 CC</td>\n",
              "      <td>57.6 bhp</td>\n",
              "      <td>5.0</td>\n",
              "      <td>NaN</td>\n",
              "      <td>2.50</td>\n",
              "    </tr>\n",
              "  </tbody>\n",
              "</table>\n",
              "<p>5195 rows × 13 columns</p>\n",
              "</div>"
            ],
            "text/plain": [
              "                                  Name    Location  ...  New_Price  Price\n",
              "0               Maruti Wagon R LXI CNG      Mumbai  ...        NaN   1.75\n",
              "1     Hyundai Creta 1.6 CRDi SX Option        Pune  ...        NaN  12.50\n",
              "3                    Maruti Ertiga VDI     Chennai  ...        NaN   6.00\n",
              "4      Audi A4 New 2.0 TDI Multitronic  Coimbatore  ...        NaN  17.74\n",
              "5      Hyundai EON LPG Era Plus Option   Hyderabad  ...        NaN   2.35\n",
              "...                                ...         ...  ...        ...    ...\n",
              "6013             Honda Amaze VX i-DTEC  Coimbatore  ...        NaN   4.83\n",
              "6015          Hyundai Xcent 1.1 CRDi S      Jaipur  ...        NaN   4.00\n",
              "6016             Mahindra Xylo D4 BSIV      Jaipur  ...        NaN   2.90\n",
              "6017                Maruti Wagon R VXI     Kolkata  ...        NaN   2.65\n",
              "6018             Chevrolet Beat Diesel   Hyderabad  ...        NaN   2.50\n",
              "\n",
              "[5195 rows x 13 columns]"
            ]
          },
          "metadata": {},
          "execution_count": 178
        }
      ]
    },
    {
      "cell_type": "code",
      "metadata": {
        "colab": {
          "base_uri": "https://localhost:8080/"
        },
        "id": "I2BFFHlPrCjh",
        "outputId": "d2c55fed-b5d3-4052-bc4e-0629b8785514"
      },
      "source": [
        "print(\"Number of Mileage NULL attributes\",len(shcp_train_data.loc[shcp_train_data['Mileage'].isnull() == True])) "
      ],
      "execution_count": 179,
      "outputs": [
        {
          "output_type": "stream",
          "text": [
            "Number of Mileage NULL attributes 2\n"
          ],
          "name": "stdout"
        }
      ]
    },
    {
      "cell_type": "code",
      "metadata": {
        "id": "5rFhoLvLrKqF"
      },
      "source": [
        "df_temp = shcp_train_data.loc[shcp_train_data['Mileage'].isnull() == True]"
      ],
      "execution_count": 180,
      "outputs": []
    },
    {
      "cell_type": "code",
      "metadata": {
        "colab": {
          "base_uri": "https://localhost:8080/",
          "height": 111
        },
        "id": "wNec7uYWn43n",
        "outputId": "188be2bd-4cc4-4e4f-aa09-62bf1fe1de00"
      },
      "source": [
        "df_temp"
      ],
      "execution_count": 181,
      "outputs": [
        {
          "output_type": "execute_result",
          "data": {
            "text/html": [
              "<div>\n",
              "<style scoped>\n",
              "    .dataframe tbody tr th:only-of-type {\n",
              "        vertical-align: middle;\n",
              "    }\n",
              "\n",
              "    .dataframe tbody tr th {\n",
              "        vertical-align: top;\n",
              "    }\n",
              "\n",
              "    .dataframe thead th {\n",
              "        text-align: right;\n",
              "    }\n",
              "</style>\n",
              "<table border=\"1\" class=\"dataframe\">\n",
              "  <thead>\n",
              "    <tr style=\"text-align: right;\">\n",
              "      <th></th>\n",
              "      <th>Name</th>\n",
              "      <th>Location</th>\n",
              "      <th>Year</th>\n",
              "      <th>Kilometers_Driven</th>\n",
              "      <th>Fuel_Type</th>\n",
              "      <th>Transmission</th>\n",
              "      <th>Owner_Type</th>\n",
              "      <th>Mileage</th>\n",
              "      <th>Engine</th>\n",
              "      <th>Power</th>\n",
              "      <th>Seats</th>\n",
              "      <th>New_Price</th>\n",
              "      <th>Price</th>\n",
              "    </tr>\n",
              "  </thead>\n",
              "  <tbody>\n",
              "    <tr>\n",
              "      <th>4446</th>\n",
              "      <td>Mahindra E Verito D4</td>\n",
              "      <td>Chennai</td>\n",
              "      <td>2016</td>\n",
              "      <td>50000</td>\n",
              "      <td>Electric</td>\n",
              "      <td>Automatic</td>\n",
              "      <td>First</td>\n",
              "      <td>NaN</td>\n",
              "      <td>72 CC</td>\n",
              "      <td>41 bhp</td>\n",
              "      <td>5.0</td>\n",
              "      <td>13.58 Lakh</td>\n",
              "      <td>13.00</td>\n",
              "    </tr>\n",
              "    <tr>\n",
              "      <th>4904</th>\n",
              "      <td>Toyota Prius 2009-2016 Z4</td>\n",
              "      <td>Mumbai</td>\n",
              "      <td>2011</td>\n",
              "      <td>44000</td>\n",
              "      <td>Electric</td>\n",
              "      <td>Automatic</td>\n",
              "      <td>First</td>\n",
              "      <td>NaN</td>\n",
              "      <td>1798 CC</td>\n",
              "      <td>73 bhp</td>\n",
              "      <td>5.0</td>\n",
              "      <td>NaN</td>\n",
              "      <td>12.75</td>\n",
              "    </tr>\n",
              "  </tbody>\n",
              "</table>\n",
              "</div>"
            ],
            "text/plain": [
              "                           Name Location  Year  ...  Seats   New_Price  Price\n",
              "4446       Mahindra E Verito D4  Chennai  2016  ...    5.0  13.58 Lakh  13.00\n",
              "4904  Toyota Prius 2009-2016 Z4   Mumbai  2011  ...    5.0         NaN  12.75\n",
              "\n",
              "[2 rows x 13 columns]"
            ]
          },
          "metadata": {},
          "execution_count": 181
        }
      ]
    },
    {
      "cell_type": "code",
      "metadata": {
        "id": "gv75k2DSn6__"
      },
      "source": [
        "temp_list = df_temp['Mileage']"
      ],
      "execution_count": 182,
      "outputs": []
    },
    {
      "cell_type": "code",
      "metadata": {
        "colab": {
          "base_uri": "https://localhost:8080/"
        },
        "id": "Mts5KCzLoemd",
        "outputId": "ce4d6555-711d-4875-8031-88d64df87127"
      },
      "source": [
        "temp_list"
      ],
      "execution_count": 183,
      "outputs": [
        {
          "output_type": "execute_result",
          "data": {
            "text/plain": [
              "4446    NaN\n",
              "4904    NaN\n",
              "Name: Mileage, dtype: object"
            ]
          },
          "metadata": {},
          "execution_count": 183
        }
      ]
    },
    {
      "cell_type": "code",
      "metadata": {
        "id": "JWzyg2xEpmLc"
      },
      "source": [
        "df_temp_notnull = shcp_train_data.loc[shcp_train_data['Mileage'].isnull() == False]"
      ],
      "execution_count": 184,
      "outputs": []
    },
    {
      "cell_type": "code",
      "metadata": {
        "colab": {
          "base_uri": "https://localhost:8080/",
          "height": 419
        },
        "id": "SYQl21sapplg",
        "outputId": "132b17ba-5d66-4f38-dd16-6b61818d9254"
      },
      "source": [
        "df_temp_notnull"
      ],
      "execution_count": 185,
      "outputs": [
        {
          "output_type": "execute_result",
          "data": {
            "text/html": [
              "<div>\n",
              "<style scoped>\n",
              "    .dataframe tbody tr th:only-of-type {\n",
              "        vertical-align: middle;\n",
              "    }\n",
              "\n",
              "    .dataframe tbody tr th {\n",
              "        vertical-align: top;\n",
              "    }\n",
              "\n",
              "    .dataframe thead th {\n",
              "        text-align: right;\n",
              "    }\n",
              "</style>\n",
              "<table border=\"1\" class=\"dataframe\">\n",
              "  <thead>\n",
              "    <tr style=\"text-align: right;\">\n",
              "      <th></th>\n",
              "      <th>Name</th>\n",
              "      <th>Location</th>\n",
              "      <th>Year</th>\n",
              "      <th>Kilometers_Driven</th>\n",
              "      <th>Fuel_Type</th>\n",
              "      <th>Transmission</th>\n",
              "      <th>Owner_Type</th>\n",
              "      <th>Mileage</th>\n",
              "      <th>Engine</th>\n",
              "      <th>Power</th>\n",
              "      <th>Seats</th>\n",
              "      <th>New_Price</th>\n",
              "      <th>Price</th>\n",
              "    </tr>\n",
              "  </thead>\n",
              "  <tbody>\n",
              "    <tr>\n",
              "      <th>0</th>\n",
              "      <td>Maruti Wagon R LXI CNG</td>\n",
              "      <td>Mumbai</td>\n",
              "      <td>2010</td>\n",
              "      <td>72000</td>\n",
              "      <td>CNG</td>\n",
              "      <td>Manual</td>\n",
              "      <td>First</td>\n",
              "      <td>26.6 km/kg</td>\n",
              "      <td>998 CC</td>\n",
              "      <td>58.16 bhp</td>\n",
              "      <td>5.0</td>\n",
              "      <td>NaN</td>\n",
              "      <td>1.75</td>\n",
              "    </tr>\n",
              "    <tr>\n",
              "      <th>1</th>\n",
              "      <td>Hyundai Creta 1.6 CRDi SX Option</td>\n",
              "      <td>Pune</td>\n",
              "      <td>2015</td>\n",
              "      <td>41000</td>\n",
              "      <td>Diesel</td>\n",
              "      <td>Manual</td>\n",
              "      <td>First</td>\n",
              "      <td>19.67 kmpl</td>\n",
              "      <td>1582 CC</td>\n",
              "      <td>126.2 bhp</td>\n",
              "      <td>5.0</td>\n",
              "      <td>NaN</td>\n",
              "      <td>12.50</td>\n",
              "    </tr>\n",
              "    <tr>\n",
              "      <th>2</th>\n",
              "      <td>Honda Jazz V</td>\n",
              "      <td>Chennai</td>\n",
              "      <td>2011</td>\n",
              "      <td>46000</td>\n",
              "      <td>Petrol</td>\n",
              "      <td>Manual</td>\n",
              "      <td>First</td>\n",
              "      <td>18.2 kmpl</td>\n",
              "      <td>1199 CC</td>\n",
              "      <td>88.7 bhp</td>\n",
              "      <td>5.0</td>\n",
              "      <td>8.61 Lakh</td>\n",
              "      <td>4.50</td>\n",
              "    </tr>\n",
              "    <tr>\n",
              "      <th>3</th>\n",
              "      <td>Maruti Ertiga VDI</td>\n",
              "      <td>Chennai</td>\n",
              "      <td>2012</td>\n",
              "      <td>87000</td>\n",
              "      <td>Diesel</td>\n",
              "      <td>Manual</td>\n",
              "      <td>First</td>\n",
              "      <td>20.77 kmpl</td>\n",
              "      <td>1248 CC</td>\n",
              "      <td>88.76 bhp</td>\n",
              "      <td>7.0</td>\n",
              "      <td>NaN</td>\n",
              "      <td>6.00</td>\n",
              "    </tr>\n",
              "    <tr>\n",
              "      <th>4</th>\n",
              "      <td>Audi A4 New 2.0 TDI Multitronic</td>\n",
              "      <td>Coimbatore</td>\n",
              "      <td>2013</td>\n",
              "      <td>40670</td>\n",
              "      <td>Diesel</td>\n",
              "      <td>Automatic</td>\n",
              "      <td>Second</td>\n",
              "      <td>15.2 kmpl</td>\n",
              "      <td>1968 CC</td>\n",
              "      <td>140.8 bhp</td>\n",
              "      <td>5.0</td>\n",
              "      <td>NaN</td>\n",
              "      <td>17.74</td>\n",
              "    </tr>\n",
              "    <tr>\n",
              "      <th>...</th>\n",
              "      <td>...</td>\n",
              "      <td>...</td>\n",
              "      <td>...</td>\n",
              "      <td>...</td>\n",
              "      <td>...</td>\n",
              "      <td>...</td>\n",
              "      <td>...</td>\n",
              "      <td>...</td>\n",
              "      <td>...</td>\n",
              "      <td>...</td>\n",
              "      <td>...</td>\n",
              "      <td>...</td>\n",
              "      <td>...</td>\n",
              "    </tr>\n",
              "    <tr>\n",
              "      <th>6014</th>\n",
              "      <td>Maruti Swift VDI</td>\n",
              "      <td>Delhi</td>\n",
              "      <td>2014</td>\n",
              "      <td>27365</td>\n",
              "      <td>Diesel</td>\n",
              "      <td>Manual</td>\n",
              "      <td>First</td>\n",
              "      <td>28.4 kmpl</td>\n",
              "      <td>1248 CC</td>\n",
              "      <td>74 bhp</td>\n",
              "      <td>5.0</td>\n",
              "      <td>7.88 Lakh</td>\n",
              "      <td>4.75</td>\n",
              "    </tr>\n",
              "    <tr>\n",
              "      <th>6015</th>\n",
              "      <td>Hyundai Xcent 1.1 CRDi S</td>\n",
              "      <td>Jaipur</td>\n",
              "      <td>2015</td>\n",
              "      <td>100000</td>\n",
              "      <td>Diesel</td>\n",
              "      <td>Manual</td>\n",
              "      <td>First</td>\n",
              "      <td>24.4 kmpl</td>\n",
              "      <td>1120 CC</td>\n",
              "      <td>71 bhp</td>\n",
              "      <td>5.0</td>\n",
              "      <td>NaN</td>\n",
              "      <td>4.00</td>\n",
              "    </tr>\n",
              "    <tr>\n",
              "      <th>6016</th>\n",
              "      <td>Mahindra Xylo D4 BSIV</td>\n",
              "      <td>Jaipur</td>\n",
              "      <td>2012</td>\n",
              "      <td>55000</td>\n",
              "      <td>Diesel</td>\n",
              "      <td>Manual</td>\n",
              "      <td>Second</td>\n",
              "      <td>14.0 kmpl</td>\n",
              "      <td>2498 CC</td>\n",
              "      <td>112 bhp</td>\n",
              "      <td>8.0</td>\n",
              "      <td>NaN</td>\n",
              "      <td>2.90</td>\n",
              "    </tr>\n",
              "    <tr>\n",
              "      <th>6017</th>\n",
              "      <td>Maruti Wagon R VXI</td>\n",
              "      <td>Kolkata</td>\n",
              "      <td>2013</td>\n",
              "      <td>46000</td>\n",
              "      <td>Petrol</td>\n",
              "      <td>Manual</td>\n",
              "      <td>First</td>\n",
              "      <td>18.9 kmpl</td>\n",
              "      <td>998 CC</td>\n",
              "      <td>67.1 bhp</td>\n",
              "      <td>5.0</td>\n",
              "      <td>NaN</td>\n",
              "      <td>2.65</td>\n",
              "    </tr>\n",
              "    <tr>\n",
              "      <th>6018</th>\n",
              "      <td>Chevrolet Beat Diesel</td>\n",
              "      <td>Hyderabad</td>\n",
              "      <td>2011</td>\n",
              "      <td>47000</td>\n",
              "      <td>Diesel</td>\n",
              "      <td>Manual</td>\n",
              "      <td>First</td>\n",
              "      <td>25.44 kmpl</td>\n",
              "      <td>936 CC</td>\n",
              "      <td>57.6 bhp</td>\n",
              "      <td>5.0</td>\n",
              "      <td>NaN</td>\n",
              "      <td>2.50</td>\n",
              "    </tr>\n",
              "  </tbody>\n",
              "</table>\n",
              "<p>6017 rows × 13 columns</p>\n",
              "</div>"
            ],
            "text/plain": [
              "                                  Name    Location  ...  New_Price  Price\n",
              "0               Maruti Wagon R LXI CNG      Mumbai  ...        NaN   1.75\n",
              "1     Hyundai Creta 1.6 CRDi SX Option        Pune  ...        NaN  12.50\n",
              "2                         Honda Jazz V     Chennai  ...  8.61 Lakh   4.50\n",
              "3                    Maruti Ertiga VDI     Chennai  ...        NaN   6.00\n",
              "4      Audi A4 New 2.0 TDI Multitronic  Coimbatore  ...        NaN  17.74\n",
              "...                                ...         ...  ...        ...    ...\n",
              "6014                  Maruti Swift VDI       Delhi  ...  7.88 Lakh   4.75\n",
              "6015          Hyundai Xcent 1.1 CRDi S      Jaipur  ...        NaN   4.00\n",
              "6016             Mahindra Xylo D4 BSIV      Jaipur  ...        NaN   2.90\n",
              "6017                Maruti Wagon R VXI     Kolkata  ...        NaN   2.65\n",
              "6018             Chevrolet Beat Diesel   Hyderabad  ...        NaN   2.50\n",
              "\n",
              "[6017 rows x 13 columns]"
            ]
          },
          "metadata": {},
          "execution_count": 185
        }
      ]
    },
    {
      "cell_type": "code",
      "metadata": {
        "colab": {
          "base_uri": "https://localhost:8080/"
        },
        "id": "_pxJDHuipuQF",
        "outputId": "542a0b73-ba26-400a-9636-60e8cfa8a5c3"
      },
      "source": [
        "print(\"Number of NON NULL attributes\",len(df_temp_notnull)) "
      ],
      "execution_count": 186,
      "outputs": [
        {
          "output_type": "stream",
          "text": [
            "Number of NON NULL attributes 6017\n"
          ],
          "name": "stdout"
        }
      ]
    },
    {
      "cell_type": "code",
      "metadata": {
        "colab": {
          "base_uri": "https://localhost:8080/"
        },
        "id": "R1qE52odpPyg",
        "outputId": "0f02b266-e33e-4960-8569-6ca88f609523"
      },
      "source": [
        "print(\"Number of New_Price NULL attributes\",len(shcp_train_data.loc[shcp_train_data['New_Price'].isnull() == True])) "
      ],
      "execution_count": 187,
      "outputs": [
        {
          "output_type": "stream",
          "text": [
            "Number of New_Price NULL attributes 5195\n"
          ],
          "name": "stdout"
        }
      ]
    },
    {
      "cell_type": "code",
      "metadata": {
        "id": "UVPHyQceoWqv"
      },
      "source": [
        "inconsistent_mileage = df_temp_notnull.loc[df_temp_notnull['Mileage'].str.contains(\"km/kg\", case=False)]"
      ],
      "execution_count": 188,
      "outputs": []
    },
    {
      "cell_type": "code",
      "metadata": {
        "colab": {
          "base_uri": "https://localhost:8080/",
          "height": 419
        },
        "id": "5Urhg9far7XM",
        "outputId": "4e3ef36f-1116-45c7-e3a2-c3f936a03e88"
      },
      "source": [
        "inconsistent_mileage"
      ],
      "execution_count": 189,
      "outputs": [
        {
          "output_type": "execute_result",
          "data": {
            "text/html": [
              "<div>\n",
              "<style scoped>\n",
              "    .dataframe tbody tr th:only-of-type {\n",
              "        vertical-align: middle;\n",
              "    }\n",
              "\n",
              "    .dataframe tbody tr th {\n",
              "        vertical-align: top;\n",
              "    }\n",
              "\n",
              "    .dataframe thead th {\n",
              "        text-align: right;\n",
              "    }\n",
              "</style>\n",
              "<table border=\"1\" class=\"dataframe\">\n",
              "  <thead>\n",
              "    <tr style=\"text-align: right;\">\n",
              "      <th></th>\n",
              "      <th>Name</th>\n",
              "      <th>Location</th>\n",
              "      <th>Year</th>\n",
              "      <th>Kilometers_Driven</th>\n",
              "      <th>Fuel_Type</th>\n",
              "      <th>Transmission</th>\n",
              "      <th>Owner_Type</th>\n",
              "      <th>Mileage</th>\n",
              "      <th>Engine</th>\n",
              "      <th>Power</th>\n",
              "      <th>Seats</th>\n",
              "      <th>New_Price</th>\n",
              "      <th>Price</th>\n",
              "    </tr>\n",
              "  </thead>\n",
              "  <tbody>\n",
              "    <tr>\n",
              "      <th>0</th>\n",
              "      <td>Maruti Wagon R LXI CNG</td>\n",
              "      <td>Mumbai</td>\n",
              "      <td>2010</td>\n",
              "      <td>72000</td>\n",
              "      <td>CNG</td>\n",
              "      <td>Manual</td>\n",
              "      <td>First</td>\n",
              "      <td>26.6 km/kg</td>\n",
              "      <td>998 CC</td>\n",
              "      <td>58.16 bhp</td>\n",
              "      <td>5.0</td>\n",
              "      <td>NaN</td>\n",
              "      <td>1.75</td>\n",
              "    </tr>\n",
              "    <tr>\n",
              "      <th>5</th>\n",
              "      <td>Hyundai EON LPG Era Plus Option</td>\n",
              "      <td>Hyderabad</td>\n",
              "      <td>2012</td>\n",
              "      <td>75000</td>\n",
              "      <td>LPG</td>\n",
              "      <td>Manual</td>\n",
              "      <td>First</td>\n",
              "      <td>21.1 km/kg</td>\n",
              "      <td>814 CC</td>\n",
              "      <td>55.2 bhp</td>\n",
              "      <td>5.0</td>\n",
              "      <td>NaN</td>\n",
              "      <td>2.35</td>\n",
              "    </tr>\n",
              "    <tr>\n",
              "      <th>127</th>\n",
              "      <td>Maruti Wagon R LXI CNG</td>\n",
              "      <td>Pune</td>\n",
              "      <td>2013</td>\n",
              "      <td>89900</td>\n",
              "      <td>CNG</td>\n",
              "      <td>Manual</td>\n",
              "      <td>First</td>\n",
              "      <td>26.6 km/kg</td>\n",
              "      <td>998 CC</td>\n",
              "      <td>58.16 bhp</td>\n",
              "      <td>5.0</td>\n",
              "      <td>NaN</td>\n",
              "      <td>3.25</td>\n",
              "    </tr>\n",
              "    <tr>\n",
              "      <th>328</th>\n",
              "      <td>Maruti Zen Estilo LXI Green (CNG)</td>\n",
              "      <td>Pune</td>\n",
              "      <td>2008</td>\n",
              "      <td>42496</td>\n",
              "      <td>CNG</td>\n",
              "      <td>Manual</td>\n",
              "      <td>First</td>\n",
              "      <td>26.3 km/kg</td>\n",
              "      <td>998 CC</td>\n",
              "      <td>67.1 bhp</td>\n",
              "      <td>5.0</td>\n",
              "      <td>NaN</td>\n",
              "      <td>1.40</td>\n",
              "    </tr>\n",
              "    <tr>\n",
              "      <th>440</th>\n",
              "      <td>Maruti Eeco 5 STR With AC Plus HTR CNG</td>\n",
              "      <td>Kochi</td>\n",
              "      <td>2017</td>\n",
              "      <td>31841</td>\n",
              "      <td>CNG</td>\n",
              "      <td>Manual</td>\n",
              "      <td>First</td>\n",
              "      <td>15.1 km/kg</td>\n",
              "      <td>1196 CC</td>\n",
              "      <td>73 bhp</td>\n",
              "      <td>5.0</td>\n",
              "      <td>NaN</td>\n",
              "      <td>4.70</td>\n",
              "    </tr>\n",
              "    <tr>\n",
              "      <th>...</th>\n",
              "      <td>...</td>\n",
              "      <td>...</td>\n",
              "      <td>...</td>\n",
              "      <td>...</td>\n",
              "      <td>...</td>\n",
              "      <td>...</td>\n",
              "      <td>...</td>\n",
              "      <td>...</td>\n",
              "      <td>...</td>\n",
              "      <td>...</td>\n",
              "      <td>...</td>\n",
              "      <td>...</td>\n",
              "      <td>...</td>\n",
              "    </tr>\n",
              "    <tr>\n",
              "      <th>5876</th>\n",
              "      <td>Maruti Ertiga VXI CNG</td>\n",
              "      <td>Mumbai</td>\n",
              "      <td>2017</td>\n",
              "      <td>23700</td>\n",
              "      <td>CNG</td>\n",
              "      <td>Manual</td>\n",
              "      <td>First</td>\n",
              "      <td>17.5 km/kg</td>\n",
              "      <td>1373 CC</td>\n",
              "      <td>80.46 bhp</td>\n",
              "      <td>7.0</td>\n",
              "      <td>NaN</td>\n",
              "      <td>8.25</td>\n",
              "    </tr>\n",
              "    <tr>\n",
              "      <th>5881</th>\n",
              "      <td>Maruti Wagon R LXI CNG</td>\n",
              "      <td>Pune</td>\n",
              "      <td>2015</td>\n",
              "      <td>55000</td>\n",
              "      <td>CNG</td>\n",
              "      <td>Manual</td>\n",
              "      <td>First</td>\n",
              "      <td>26.6 km/kg</td>\n",
              "      <td>998 CC</td>\n",
              "      <td>58.16 bhp</td>\n",
              "      <td>5.0</td>\n",
              "      <td>NaN</td>\n",
              "      <td>3.70</td>\n",
              "    </tr>\n",
              "    <tr>\n",
              "      <th>5902</th>\n",
              "      <td>Maruti Wagon R LXI CNG</td>\n",
              "      <td>Mumbai</td>\n",
              "      <td>2012</td>\n",
              "      <td>72000</td>\n",
              "      <td>CNG</td>\n",
              "      <td>Manual</td>\n",
              "      <td>First</td>\n",
              "      <td>26.2 km/kg</td>\n",
              "      <td>998 CC</td>\n",
              "      <td>58.2 bhp</td>\n",
              "      <td>5.0</td>\n",
              "      <td>NaN</td>\n",
              "      <td>2.25</td>\n",
              "    </tr>\n",
              "    <tr>\n",
              "      <th>5935</th>\n",
              "      <td>Maruti Alto K10 LXI CNG</td>\n",
              "      <td>Pune</td>\n",
              "      <td>2015</td>\n",
              "      <td>59525</td>\n",
              "      <td>CNG</td>\n",
              "      <td>Manual</td>\n",
              "      <td>Second</td>\n",
              "      <td>32.26 km/kg</td>\n",
              "      <td>998 CC</td>\n",
              "      <td>58.2 bhp</td>\n",
              "      <td>4.0</td>\n",
              "      <td>NaN</td>\n",
              "      <td>3.10</td>\n",
              "    </tr>\n",
              "    <tr>\n",
              "      <th>5997</th>\n",
              "      <td>Maruti Wagon R Duo Lxi</td>\n",
              "      <td>Jaipur</td>\n",
              "      <td>2010</td>\n",
              "      <td>70000</td>\n",
              "      <td>LPG</td>\n",
              "      <td>Manual</td>\n",
              "      <td>First</td>\n",
              "      <td>26.2 km/kg</td>\n",
              "      <td>998 CC</td>\n",
              "      <td>58.2 bhp</td>\n",
              "      <td>5.0</td>\n",
              "      <td>NaN</td>\n",
              "      <td>2.27</td>\n",
              "    </tr>\n",
              "  </tbody>\n",
              "</table>\n",
              "<p>66 rows × 13 columns</p>\n",
              "</div>"
            ],
            "text/plain": [
              "                                        Name   Location  ...  New_Price  Price\n",
              "0                     Maruti Wagon R LXI CNG     Mumbai  ...        NaN   1.75\n",
              "5            Hyundai EON LPG Era Plus Option  Hyderabad  ...        NaN   2.35\n",
              "127                   Maruti Wagon R LXI CNG       Pune  ...        NaN   3.25\n",
              "328        Maruti Zen Estilo LXI Green (CNG)       Pune  ...        NaN   1.40\n",
              "440   Maruti Eeco 5 STR With AC Plus HTR CNG      Kochi  ...        NaN   4.70\n",
              "...                                      ...        ...  ...        ...    ...\n",
              "5876                   Maruti Ertiga VXI CNG     Mumbai  ...        NaN   8.25\n",
              "5881                  Maruti Wagon R LXI CNG       Pune  ...        NaN   3.70\n",
              "5902                  Maruti Wagon R LXI CNG     Mumbai  ...        NaN   2.25\n",
              "5935                 Maruti Alto K10 LXI CNG       Pune  ...        NaN   3.10\n",
              "5997                  Maruti Wagon R Duo Lxi     Jaipur  ...        NaN   2.27\n",
              "\n",
              "[66 rows x 13 columns]"
            ]
          },
          "metadata": {},
          "execution_count": 189
        }
      ]
    },
    {
      "cell_type": "code",
      "metadata": {
        "id": "VX7ZgyNprrBY"
      },
      "source": [
        "temp_list1 = inconsistent_mileage['Mileage']"
      ],
      "execution_count": 190,
      "outputs": []
    },
    {
      "cell_type": "code",
      "metadata": {
        "colab": {
          "base_uri": "https://localhost:8080/"
        },
        "id": "6XTcu9jZr0W9",
        "outputId": "2906b6fe-6ee4-4658-aa44-22b14cbe7c05"
      },
      "source": [
        "temp_list1"
      ],
      "execution_count": 191,
      "outputs": [
        {
          "output_type": "execute_result",
          "data": {
            "text/plain": [
              "0        26.6 km/kg\n",
              "5        21.1 km/kg\n",
              "127      26.6 km/kg\n",
              "328      26.3 km/kg\n",
              "440      15.1 km/kg\n",
              "           ...     \n",
              "5876     17.5 km/kg\n",
              "5881     26.6 km/kg\n",
              "5902     26.2 km/kg\n",
              "5935    32.26 km/kg\n",
              "5997     26.2 km/kg\n",
              "Name: Mileage, Length: 66, dtype: object"
            ]
          },
          "metadata": {},
          "execution_count": 191
        }
      ]
    },
    {
      "cell_type": "code",
      "metadata": {
        "colab": {
          "base_uri": "https://localhost:8080/"
        },
        "id": "na-tl1muqPmv",
        "outputId": "b2da2d06-d66e-4f06-9058-9765d09f2ca8"
      },
      "source": [
        "print(\"Number of incosistent records in Mileage Column \",len(inconsistent_mileage))"
      ],
      "execution_count": 192,
      "outputs": [
        {
          "output_type": "stream",
          "text": [
            "Number of incosistent records in Mileage Column  66\n"
          ],
          "name": "stdout"
        }
      ]
    },
    {
      "cell_type": "markdown",
      "metadata": {
        "id": "nggnARI2eTTi"
      },
      "source": [
        "### Making Attribute Values Consistent"
      ]
    },
    {
      "cell_type": "code",
      "metadata": {
        "colab": {
          "base_uri": "https://localhost:8080/"
        },
        "id": "w74rLBQMq7di",
        "outputId": "a61044c1-3cd6-4a20-c967-b4981ae9dc85"
      },
      "source": [
        "inconsistent_mileage['Mileage'] = inconsistent_mileage['Mileage'].str.replace(r'km/kg', '')"
      ],
      "execution_count": 193,
      "outputs": [
        {
          "output_type": "stream",
          "text": [
            "/usr/local/lib/python3.7/dist-packages/ipykernel_launcher.py:1: SettingWithCopyWarning: \n",
            "A value is trying to be set on a copy of a slice from a DataFrame.\n",
            "Try using .loc[row_indexer,col_indexer] = value instead\n",
            "\n",
            "See the caveats in the documentation: https://pandas.pydata.org/pandas-docs/stable/user_guide/indexing.html#returning-a-view-versus-a-copy\n",
            "  \"\"\"Entry point for launching an IPython kernel.\n"
          ],
          "name": "stderr"
        }
      ]
    },
    {
      "cell_type": "code",
      "metadata": {
        "colab": {
          "base_uri": "https://localhost:8080/",
          "height": 419
        },
        "id": "1eY0PQU4sLlP",
        "outputId": "c7e4956c-23e8-430d-df7e-b7438067b3c0"
      },
      "source": [
        "inconsistent_mileage"
      ],
      "execution_count": 194,
      "outputs": [
        {
          "output_type": "execute_result",
          "data": {
            "text/html": [
              "<div>\n",
              "<style scoped>\n",
              "    .dataframe tbody tr th:only-of-type {\n",
              "        vertical-align: middle;\n",
              "    }\n",
              "\n",
              "    .dataframe tbody tr th {\n",
              "        vertical-align: top;\n",
              "    }\n",
              "\n",
              "    .dataframe thead th {\n",
              "        text-align: right;\n",
              "    }\n",
              "</style>\n",
              "<table border=\"1\" class=\"dataframe\">\n",
              "  <thead>\n",
              "    <tr style=\"text-align: right;\">\n",
              "      <th></th>\n",
              "      <th>Name</th>\n",
              "      <th>Location</th>\n",
              "      <th>Year</th>\n",
              "      <th>Kilometers_Driven</th>\n",
              "      <th>Fuel_Type</th>\n",
              "      <th>Transmission</th>\n",
              "      <th>Owner_Type</th>\n",
              "      <th>Mileage</th>\n",
              "      <th>Engine</th>\n",
              "      <th>Power</th>\n",
              "      <th>Seats</th>\n",
              "      <th>New_Price</th>\n",
              "      <th>Price</th>\n",
              "    </tr>\n",
              "  </thead>\n",
              "  <tbody>\n",
              "    <tr>\n",
              "      <th>0</th>\n",
              "      <td>Maruti Wagon R LXI CNG</td>\n",
              "      <td>Mumbai</td>\n",
              "      <td>2010</td>\n",
              "      <td>72000</td>\n",
              "      <td>CNG</td>\n",
              "      <td>Manual</td>\n",
              "      <td>First</td>\n",
              "      <td>26.6</td>\n",
              "      <td>998 CC</td>\n",
              "      <td>58.16 bhp</td>\n",
              "      <td>5.0</td>\n",
              "      <td>NaN</td>\n",
              "      <td>1.75</td>\n",
              "    </tr>\n",
              "    <tr>\n",
              "      <th>5</th>\n",
              "      <td>Hyundai EON LPG Era Plus Option</td>\n",
              "      <td>Hyderabad</td>\n",
              "      <td>2012</td>\n",
              "      <td>75000</td>\n",
              "      <td>LPG</td>\n",
              "      <td>Manual</td>\n",
              "      <td>First</td>\n",
              "      <td>21.1</td>\n",
              "      <td>814 CC</td>\n",
              "      <td>55.2 bhp</td>\n",
              "      <td>5.0</td>\n",
              "      <td>NaN</td>\n",
              "      <td>2.35</td>\n",
              "    </tr>\n",
              "    <tr>\n",
              "      <th>127</th>\n",
              "      <td>Maruti Wagon R LXI CNG</td>\n",
              "      <td>Pune</td>\n",
              "      <td>2013</td>\n",
              "      <td>89900</td>\n",
              "      <td>CNG</td>\n",
              "      <td>Manual</td>\n",
              "      <td>First</td>\n",
              "      <td>26.6</td>\n",
              "      <td>998 CC</td>\n",
              "      <td>58.16 bhp</td>\n",
              "      <td>5.0</td>\n",
              "      <td>NaN</td>\n",
              "      <td>3.25</td>\n",
              "    </tr>\n",
              "    <tr>\n",
              "      <th>328</th>\n",
              "      <td>Maruti Zen Estilo LXI Green (CNG)</td>\n",
              "      <td>Pune</td>\n",
              "      <td>2008</td>\n",
              "      <td>42496</td>\n",
              "      <td>CNG</td>\n",
              "      <td>Manual</td>\n",
              "      <td>First</td>\n",
              "      <td>26.3</td>\n",
              "      <td>998 CC</td>\n",
              "      <td>67.1 bhp</td>\n",
              "      <td>5.0</td>\n",
              "      <td>NaN</td>\n",
              "      <td>1.40</td>\n",
              "    </tr>\n",
              "    <tr>\n",
              "      <th>440</th>\n",
              "      <td>Maruti Eeco 5 STR With AC Plus HTR CNG</td>\n",
              "      <td>Kochi</td>\n",
              "      <td>2017</td>\n",
              "      <td>31841</td>\n",
              "      <td>CNG</td>\n",
              "      <td>Manual</td>\n",
              "      <td>First</td>\n",
              "      <td>15.1</td>\n",
              "      <td>1196 CC</td>\n",
              "      <td>73 bhp</td>\n",
              "      <td>5.0</td>\n",
              "      <td>NaN</td>\n",
              "      <td>4.70</td>\n",
              "    </tr>\n",
              "    <tr>\n",
              "      <th>...</th>\n",
              "      <td>...</td>\n",
              "      <td>...</td>\n",
              "      <td>...</td>\n",
              "      <td>...</td>\n",
              "      <td>...</td>\n",
              "      <td>...</td>\n",
              "      <td>...</td>\n",
              "      <td>...</td>\n",
              "      <td>...</td>\n",
              "      <td>...</td>\n",
              "      <td>...</td>\n",
              "      <td>...</td>\n",
              "      <td>...</td>\n",
              "    </tr>\n",
              "    <tr>\n",
              "      <th>5876</th>\n",
              "      <td>Maruti Ertiga VXI CNG</td>\n",
              "      <td>Mumbai</td>\n",
              "      <td>2017</td>\n",
              "      <td>23700</td>\n",
              "      <td>CNG</td>\n",
              "      <td>Manual</td>\n",
              "      <td>First</td>\n",
              "      <td>17.5</td>\n",
              "      <td>1373 CC</td>\n",
              "      <td>80.46 bhp</td>\n",
              "      <td>7.0</td>\n",
              "      <td>NaN</td>\n",
              "      <td>8.25</td>\n",
              "    </tr>\n",
              "    <tr>\n",
              "      <th>5881</th>\n",
              "      <td>Maruti Wagon R LXI CNG</td>\n",
              "      <td>Pune</td>\n",
              "      <td>2015</td>\n",
              "      <td>55000</td>\n",
              "      <td>CNG</td>\n",
              "      <td>Manual</td>\n",
              "      <td>First</td>\n",
              "      <td>26.6</td>\n",
              "      <td>998 CC</td>\n",
              "      <td>58.16 bhp</td>\n",
              "      <td>5.0</td>\n",
              "      <td>NaN</td>\n",
              "      <td>3.70</td>\n",
              "    </tr>\n",
              "    <tr>\n",
              "      <th>5902</th>\n",
              "      <td>Maruti Wagon R LXI CNG</td>\n",
              "      <td>Mumbai</td>\n",
              "      <td>2012</td>\n",
              "      <td>72000</td>\n",
              "      <td>CNG</td>\n",
              "      <td>Manual</td>\n",
              "      <td>First</td>\n",
              "      <td>26.2</td>\n",
              "      <td>998 CC</td>\n",
              "      <td>58.2 bhp</td>\n",
              "      <td>5.0</td>\n",
              "      <td>NaN</td>\n",
              "      <td>2.25</td>\n",
              "    </tr>\n",
              "    <tr>\n",
              "      <th>5935</th>\n",
              "      <td>Maruti Alto K10 LXI CNG</td>\n",
              "      <td>Pune</td>\n",
              "      <td>2015</td>\n",
              "      <td>59525</td>\n",
              "      <td>CNG</td>\n",
              "      <td>Manual</td>\n",
              "      <td>Second</td>\n",
              "      <td>32.26</td>\n",
              "      <td>998 CC</td>\n",
              "      <td>58.2 bhp</td>\n",
              "      <td>4.0</td>\n",
              "      <td>NaN</td>\n",
              "      <td>3.10</td>\n",
              "    </tr>\n",
              "    <tr>\n",
              "      <th>5997</th>\n",
              "      <td>Maruti Wagon R Duo Lxi</td>\n",
              "      <td>Jaipur</td>\n",
              "      <td>2010</td>\n",
              "      <td>70000</td>\n",
              "      <td>LPG</td>\n",
              "      <td>Manual</td>\n",
              "      <td>First</td>\n",
              "      <td>26.2</td>\n",
              "      <td>998 CC</td>\n",
              "      <td>58.2 bhp</td>\n",
              "      <td>5.0</td>\n",
              "      <td>NaN</td>\n",
              "      <td>2.27</td>\n",
              "    </tr>\n",
              "  </tbody>\n",
              "</table>\n",
              "<p>66 rows × 13 columns</p>\n",
              "</div>"
            ],
            "text/plain": [
              "                                        Name   Location  ...  New_Price  Price\n",
              "0                     Maruti Wagon R LXI CNG     Mumbai  ...        NaN   1.75\n",
              "5            Hyundai EON LPG Era Plus Option  Hyderabad  ...        NaN   2.35\n",
              "127                   Maruti Wagon R LXI CNG       Pune  ...        NaN   3.25\n",
              "328        Maruti Zen Estilo LXI Green (CNG)       Pune  ...        NaN   1.40\n",
              "440   Maruti Eeco 5 STR With AC Plus HTR CNG      Kochi  ...        NaN   4.70\n",
              "...                                      ...        ...  ...        ...    ...\n",
              "5876                   Maruti Ertiga VXI CNG     Mumbai  ...        NaN   8.25\n",
              "5881                  Maruti Wagon R LXI CNG       Pune  ...        NaN   3.70\n",
              "5902                  Maruti Wagon R LXI CNG     Mumbai  ...        NaN   2.25\n",
              "5935                 Maruti Alto K10 LXI CNG       Pune  ...        NaN   3.10\n",
              "5997                  Maruti Wagon R Duo Lxi     Jaipur  ...        NaN   2.27\n",
              "\n",
              "[66 rows x 13 columns]"
            ]
          },
          "metadata": {},
          "execution_count": 194
        }
      ]
    },
    {
      "cell_type": "code",
      "metadata": {
        "colab": {
          "base_uri": "https://localhost:8080/"
        },
        "id": "KF5305UNZk3O",
        "outputId": "4a15a458-6988-4bf7-a618-736d68ca3d57"
      },
      "source": [
        "inconsistent_mileage.info()"
      ],
      "execution_count": 195,
      "outputs": [
        {
          "output_type": "stream",
          "text": [
            "<class 'pandas.core.frame.DataFrame'>\n",
            "Int64Index: 66 entries, 0 to 5997\n",
            "Data columns (total 13 columns):\n",
            " #   Column             Non-Null Count  Dtype  \n",
            "---  ------             --------------  -----  \n",
            " 0   Name               66 non-null     object \n",
            " 1   Location           66 non-null     object \n",
            " 2   Year               66 non-null     int64  \n",
            " 3   Kilometers_Driven  66 non-null     int64  \n",
            " 4   Fuel_Type          66 non-null     object \n",
            " 5   Transmission       66 non-null     object \n",
            " 6   Owner_Type         66 non-null     object \n",
            " 7   Mileage            66 non-null     object \n",
            " 8   Engine             66 non-null     object \n",
            " 9   Power              66 non-null     object \n",
            " 10  Seats              66 non-null     float64\n",
            " 11  New_Price          9 non-null      object \n",
            " 12  Price              66 non-null     float64\n",
            "dtypes: float64(2), int64(2), object(9)\n",
            "memory usage: 7.2+ KB\n"
          ],
          "name": "stdout"
        }
      ]
    },
    {
      "cell_type": "code",
      "metadata": {
        "id": "ysUYzN1AsRcR",
        "colab": {
          "base_uri": "https://localhost:8080/"
        },
        "outputId": "a8d87076-b887-44a4-c9ab-5798b0a54ea2"
      },
      "source": [
        "inconsistent_mileage['Mileage'] = inconsistent_mileage['Mileage'].str.replace(r'km/kg', '')"
      ],
      "execution_count": 196,
      "outputs": [
        {
          "output_type": "stream",
          "text": [
            "/usr/local/lib/python3.7/dist-packages/ipykernel_launcher.py:1: SettingWithCopyWarning: \n",
            "A value is trying to be set on a copy of a slice from a DataFrame.\n",
            "Try using .loc[row_indexer,col_indexer] = value instead\n",
            "\n",
            "See the caveats in the documentation: https://pandas.pydata.org/pandas-docs/stable/user_guide/indexing.html#returning-a-view-versus-a-copy\n",
            "  \"\"\"Entry point for launching an IPython kernel.\n"
          ],
          "name": "stderr"
        }
      ]
    },
    {
      "cell_type": "code",
      "metadata": {
        "colab": {
          "base_uri": "https://localhost:8080/"
        },
        "id": "rZRScpdysxut",
        "outputId": "0de287f5-5ad8-421c-9c8a-5beea1e59f2c"
      },
      "source": [
        "df_temp_notnull['Mileage'] = df_temp_notnull['Mileage'].str.replace(r'km/kg','')"
      ],
      "execution_count": 197,
      "outputs": [
        {
          "output_type": "stream",
          "text": [
            "/usr/local/lib/python3.7/dist-packages/ipykernel_launcher.py:1: SettingWithCopyWarning: \n",
            "A value is trying to be set on a copy of a slice from a DataFrame.\n",
            "Try using .loc[row_indexer,col_indexer] = value instead\n",
            "\n",
            "See the caveats in the documentation: https://pandas.pydata.org/pandas-docs/stable/user_guide/indexing.html#returning-a-view-versus-a-copy\n",
            "  \"\"\"Entry point for launching an IPython kernel.\n"
          ],
          "name": "stderr"
        }
      ]
    },
    {
      "cell_type": "code",
      "metadata": {
        "colab": {
          "base_uri": "https://localhost:8080/"
        },
        "id": "03BIP1uQtn7X",
        "outputId": "95fe6a07-41e7-49f7-992a-3cd9562ad874"
      },
      "source": [
        "df_temp_notnull['Mileage'] = df_temp_notnull['Mileage'].str.replace(r'kmpl','')"
      ],
      "execution_count": 198,
      "outputs": [
        {
          "output_type": "stream",
          "text": [
            "/usr/local/lib/python3.7/dist-packages/ipykernel_launcher.py:1: SettingWithCopyWarning: \n",
            "A value is trying to be set on a copy of a slice from a DataFrame.\n",
            "Try using .loc[row_indexer,col_indexer] = value instead\n",
            "\n",
            "See the caveats in the documentation: https://pandas.pydata.org/pandas-docs/stable/user_guide/indexing.html#returning-a-view-versus-a-copy\n",
            "  \"\"\"Entry point for launching an IPython kernel.\n"
          ],
          "name": "stderr"
        }
      ]
    },
    {
      "cell_type": "code",
      "metadata": {
        "colab": {
          "base_uri": "https://localhost:8080/",
          "height": 419
        },
        "id": "jMgkcxV_ts6d",
        "outputId": "9d11ae11-8dc4-4053-b23c-0c7bbbecc776"
      },
      "source": [
        "df_temp_notnull"
      ],
      "execution_count": 199,
      "outputs": [
        {
          "output_type": "execute_result",
          "data": {
            "text/html": [
              "<div>\n",
              "<style scoped>\n",
              "    .dataframe tbody tr th:only-of-type {\n",
              "        vertical-align: middle;\n",
              "    }\n",
              "\n",
              "    .dataframe tbody tr th {\n",
              "        vertical-align: top;\n",
              "    }\n",
              "\n",
              "    .dataframe thead th {\n",
              "        text-align: right;\n",
              "    }\n",
              "</style>\n",
              "<table border=\"1\" class=\"dataframe\">\n",
              "  <thead>\n",
              "    <tr style=\"text-align: right;\">\n",
              "      <th></th>\n",
              "      <th>Name</th>\n",
              "      <th>Location</th>\n",
              "      <th>Year</th>\n",
              "      <th>Kilometers_Driven</th>\n",
              "      <th>Fuel_Type</th>\n",
              "      <th>Transmission</th>\n",
              "      <th>Owner_Type</th>\n",
              "      <th>Mileage</th>\n",
              "      <th>Engine</th>\n",
              "      <th>Power</th>\n",
              "      <th>Seats</th>\n",
              "      <th>New_Price</th>\n",
              "      <th>Price</th>\n",
              "    </tr>\n",
              "  </thead>\n",
              "  <tbody>\n",
              "    <tr>\n",
              "      <th>0</th>\n",
              "      <td>Maruti Wagon R LXI CNG</td>\n",
              "      <td>Mumbai</td>\n",
              "      <td>2010</td>\n",
              "      <td>72000</td>\n",
              "      <td>CNG</td>\n",
              "      <td>Manual</td>\n",
              "      <td>First</td>\n",
              "      <td>26.6</td>\n",
              "      <td>998 CC</td>\n",
              "      <td>58.16 bhp</td>\n",
              "      <td>5.0</td>\n",
              "      <td>NaN</td>\n",
              "      <td>1.75</td>\n",
              "    </tr>\n",
              "    <tr>\n",
              "      <th>1</th>\n",
              "      <td>Hyundai Creta 1.6 CRDi SX Option</td>\n",
              "      <td>Pune</td>\n",
              "      <td>2015</td>\n",
              "      <td>41000</td>\n",
              "      <td>Diesel</td>\n",
              "      <td>Manual</td>\n",
              "      <td>First</td>\n",
              "      <td>19.67</td>\n",
              "      <td>1582 CC</td>\n",
              "      <td>126.2 bhp</td>\n",
              "      <td>5.0</td>\n",
              "      <td>NaN</td>\n",
              "      <td>12.50</td>\n",
              "    </tr>\n",
              "    <tr>\n",
              "      <th>2</th>\n",
              "      <td>Honda Jazz V</td>\n",
              "      <td>Chennai</td>\n",
              "      <td>2011</td>\n",
              "      <td>46000</td>\n",
              "      <td>Petrol</td>\n",
              "      <td>Manual</td>\n",
              "      <td>First</td>\n",
              "      <td>18.2</td>\n",
              "      <td>1199 CC</td>\n",
              "      <td>88.7 bhp</td>\n",
              "      <td>5.0</td>\n",
              "      <td>8.61 Lakh</td>\n",
              "      <td>4.50</td>\n",
              "    </tr>\n",
              "    <tr>\n",
              "      <th>3</th>\n",
              "      <td>Maruti Ertiga VDI</td>\n",
              "      <td>Chennai</td>\n",
              "      <td>2012</td>\n",
              "      <td>87000</td>\n",
              "      <td>Diesel</td>\n",
              "      <td>Manual</td>\n",
              "      <td>First</td>\n",
              "      <td>20.77</td>\n",
              "      <td>1248 CC</td>\n",
              "      <td>88.76 bhp</td>\n",
              "      <td>7.0</td>\n",
              "      <td>NaN</td>\n",
              "      <td>6.00</td>\n",
              "    </tr>\n",
              "    <tr>\n",
              "      <th>4</th>\n",
              "      <td>Audi A4 New 2.0 TDI Multitronic</td>\n",
              "      <td>Coimbatore</td>\n",
              "      <td>2013</td>\n",
              "      <td>40670</td>\n",
              "      <td>Diesel</td>\n",
              "      <td>Automatic</td>\n",
              "      <td>Second</td>\n",
              "      <td>15.2</td>\n",
              "      <td>1968 CC</td>\n",
              "      <td>140.8 bhp</td>\n",
              "      <td>5.0</td>\n",
              "      <td>NaN</td>\n",
              "      <td>17.74</td>\n",
              "    </tr>\n",
              "    <tr>\n",
              "      <th>...</th>\n",
              "      <td>...</td>\n",
              "      <td>...</td>\n",
              "      <td>...</td>\n",
              "      <td>...</td>\n",
              "      <td>...</td>\n",
              "      <td>...</td>\n",
              "      <td>...</td>\n",
              "      <td>...</td>\n",
              "      <td>...</td>\n",
              "      <td>...</td>\n",
              "      <td>...</td>\n",
              "      <td>...</td>\n",
              "      <td>...</td>\n",
              "    </tr>\n",
              "    <tr>\n",
              "      <th>6014</th>\n",
              "      <td>Maruti Swift VDI</td>\n",
              "      <td>Delhi</td>\n",
              "      <td>2014</td>\n",
              "      <td>27365</td>\n",
              "      <td>Diesel</td>\n",
              "      <td>Manual</td>\n",
              "      <td>First</td>\n",
              "      <td>28.4</td>\n",
              "      <td>1248 CC</td>\n",
              "      <td>74 bhp</td>\n",
              "      <td>5.0</td>\n",
              "      <td>7.88 Lakh</td>\n",
              "      <td>4.75</td>\n",
              "    </tr>\n",
              "    <tr>\n",
              "      <th>6015</th>\n",
              "      <td>Hyundai Xcent 1.1 CRDi S</td>\n",
              "      <td>Jaipur</td>\n",
              "      <td>2015</td>\n",
              "      <td>100000</td>\n",
              "      <td>Diesel</td>\n",
              "      <td>Manual</td>\n",
              "      <td>First</td>\n",
              "      <td>24.4</td>\n",
              "      <td>1120 CC</td>\n",
              "      <td>71 bhp</td>\n",
              "      <td>5.0</td>\n",
              "      <td>NaN</td>\n",
              "      <td>4.00</td>\n",
              "    </tr>\n",
              "    <tr>\n",
              "      <th>6016</th>\n",
              "      <td>Mahindra Xylo D4 BSIV</td>\n",
              "      <td>Jaipur</td>\n",
              "      <td>2012</td>\n",
              "      <td>55000</td>\n",
              "      <td>Diesel</td>\n",
              "      <td>Manual</td>\n",
              "      <td>Second</td>\n",
              "      <td>14.0</td>\n",
              "      <td>2498 CC</td>\n",
              "      <td>112 bhp</td>\n",
              "      <td>8.0</td>\n",
              "      <td>NaN</td>\n",
              "      <td>2.90</td>\n",
              "    </tr>\n",
              "    <tr>\n",
              "      <th>6017</th>\n",
              "      <td>Maruti Wagon R VXI</td>\n",
              "      <td>Kolkata</td>\n",
              "      <td>2013</td>\n",
              "      <td>46000</td>\n",
              "      <td>Petrol</td>\n",
              "      <td>Manual</td>\n",
              "      <td>First</td>\n",
              "      <td>18.9</td>\n",
              "      <td>998 CC</td>\n",
              "      <td>67.1 bhp</td>\n",
              "      <td>5.0</td>\n",
              "      <td>NaN</td>\n",
              "      <td>2.65</td>\n",
              "    </tr>\n",
              "    <tr>\n",
              "      <th>6018</th>\n",
              "      <td>Chevrolet Beat Diesel</td>\n",
              "      <td>Hyderabad</td>\n",
              "      <td>2011</td>\n",
              "      <td>47000</td>\n",
              "      <td>Diesel</td>\n",
              "      <td>Manual</td>\n",
              "      <td>First</td>\n",
              "      <td>25.44</td>\n",
              "      <td>936 CC</td>\n",
              "      <td>57.6 bhp</td>\n",
              "      <td>5.0</td>\n",
              "      <td>NaN</td>\n",
              "      <td>2.50</td>\n",
              "    </tr>\n",
              "  </tbody>\n",
              "</table>\n",
              "<p>6017 rows × 13 columns</p>\n",
              "</div>"
            ],
            "text/plain": [
              "                                  Name    Location  ...  New_Price  Price\n",
              "0               Maruti Wagon R LXI CNG      Mumbai  ...        NaN   1.75\n",
              "1     Hyundai Creta 1.6 CRDi SX Option        Pune  ...        NaN  12.50\n",
              "2                         Honda Jazz V     Chennai  ...  8.61 Lakh   4.50\n",
              "3                    Maruti Ertiga VDI     Chennai  ...        NaN   6.00\n",
              "4      Audi A4 New 2.0 TDI Multitronic  Coimbatore  ...        NaN  17.74\n",
              "...                                ...         ...  ...        ...    ...\n",
              "6014                  Maruti Swift VDI       Delhi  ...  7.88 Lakh   4.75\n",
              "6015          Hyundai Xcent 1.1 CRDi S      Jaipur  ...        NaN   4.00\n",
              "6016             Mahindra Xylo D4 BSIV      Jaipur  ...        NaN   2.90\n",
              "6017                Maruti Wagon R VXI     Kolkata  ...        NaN   2.65\n",
              "6018             Chevrolet Beat Diesel   Hyderabad  ...        NaN   2.50\n",
              "\n",
              "[6017 rows x 13 columns]"
            ]
          },
          "metadata": {},
          "execution_count": 199
        }
      ]
    },
    {
      "cell_type": "code",
      "metadata": {
        "colab": {
          "base_uri": "https://localhost:8080/"
        },
        "id": "IDZ9NSMLtxQj",
        "outputId": "22851aef-6307-41bf-aeec-8a0b0df318cb"
      },
      "source": [
        "df_temp_notnull['Engine'] = df_temp_notnull['Engine'].str.replace(r'CC','')"
      ],
      "execution_count": 200,
      "outputs": [
        {
          "output_type": "stream",
          "text": [
            "/usr/local/lib/python3.7/dist-packages/ipykernel_launcher.py:1: SettingWithCopyWarning: \n",
            "A value is trying to be set on a copy of a slice from a DataFrame.\n",
            "Try using .loc[row_indexer,col_indexer] = value instead\n",
            "\n",
            "See the caveats in the documentation: https://pandas.pydata.org/pandas-docs/stable/user_guide/indexing.html#returning-a-view-versus-a-copy\n",
            "  \"\"\"Entry point for launching an IPython kernel.\n"
          ],
          "name": "stderr"
        }
      ]
    },
    {
      "cell_type": "code",
      "metadata": {
        "colab": {
          "base_uri": "https://localhost:8080/"
        },
        "id": "y3L1YlU2CcrL",
        "outputId": "43352e2e-6de2-427e-91f5-e9acb4c8511a"
      },
      "source": [
        "df_temp_notnull['Engine'].isnull().values.any()"
      ],
      "execution_count": 201,
      "outputs": [
        {
          "output_type": "execute_result",
          "data": {
            "text/plain": [
              "True"
            ]
          },
          "metadata": {},
          "execution_count": 201
        }
      ]
    },
    {
      "cell_type": "code",
      "metadata": {
        "colab": {
          "base_uri": "https://localhost:8080/"
        },
        "id": "8IYj1YelCinH",
        "outputId": "766e00de-3141-4d61-dd27-04e6640c0222"
      },
      "source": [
        "df_temp_notnull['Engine'].isnull().values"
      ],
      "execution_count": 202,
      "outputs": [
        {
          "output_type": "execute_result",
          "data": {
            "text/plain": [
              "array([False, False, False, ..., False, False, False])"
            ]
          },
          "metadata": {},
          "execution_count": 202
        }
      ]
    },
    {
      "cell_type": "markdown",
      "metadata": {
        "id": "qCyGlDuO1dOW"
      },
      "source": [
        "## Finding Records where the attributes Mileage, Engine and Power are NaN (Incosistent)"
      ]
    },
    {
      "cell_type": "code",
      "metadata": {
        "id": "jsXTS7ecCxLu"
      },
      "source": [
        "df_temp_null = df_temp_notnull.loc[df_temp_notnull['Engine'].isnull() == True]"
      ],
      "execution_count": 203,
      "outputs": []
    },
    {
      "cell_type": "code",
      "metadata": {
        "colab": {
          "base_uri": "https://localhost:8080/"
        },
        "id": "21GSiqbG2BYA",
        "outputId": "d6a8352e-c727-47d1-ef21-a10a26b640a5"
      },
      "source": [
        "print(\"Number of records which are still NULL are \",len(df_temp_null))"
      ],
      "execution_count": 204,
      "outputs": [
        {
          "output_type": "stream",
          "text": [
            "Number of records which are still NULL are  36\n"
          ],
          "name": "stdout"
        }
      ]
    },
    {
      "cell_type": "code",
      "metadata": {
        "id": "jvUW5PWgB9If"
      },
      "source": [
        "df_temp_no_null = df_temp_notnull.loc[df_temp_notnull['Engine'].isnull() == False]"
      ],
      "execution_count": 205,
      "outputs": []
    },
    {
      "cell_type": "code",
      "metadata": {
        "colab": {
          "base_uri": "https://localhost:8080/",
          "height": 419
        },
        "id": "96MqQ2JK1yBO",
        "outputId": "54b06a57-8fa5-4caa-f1cc-329f93a46944"
      },
      "source": [
        "df_temp_no_null"
      ],
      "execution_count": 206,
      "outputs": [
        {
          "output_type": "execute_result",
          "data": {
            "text/html": [
              "<div>\n",
              "<style scoped>\n",
              "    .dataframe tbody tr th:only-of-type {\n",
              "        vertical-align: middle;\n",
              "    }\n",
              "\n",
              "    .dataframe tbody tr th {\n",
              "        vertical-align: top;\n",
              "    }\n",
              "\n",
              "    .dataframe thead th {\n",
              "        text-align: right;\n",
              "    }\n",
              "</style>\n",
              "<table border=\"1\" class=\"dataframe\">\n",
              "  <thead>\n",
              "    <tr style=\"text-align: right;\">\n",
              "      <th></th>\n",
              "      <th>Name</th>\n",
              "      <th>Location</th>\n",
              "      <th>Year</th>\n",
              "      <th>Kilometers_Driven</th>\n",
              "      <th>Fuel_Type</th>\n",
              "      <th>Transmission</th>\n",
              "      <th>Owner_Type</th>\n",
              "      <th>Mileage</th>\n",
              "      <th>Engine</th>\n",
              "      <th>Power</th>\n",
              "      <th>Seats</th>\n",
              "      <th>New_Price</th>\n",
              "      <th>Price</th>\n",
              "    </tr>\n",
              "  </thead>\n",
              "  <tbody>\n",
              "    <tr>\n",
              "      <th>0</th>\n",
              "      <td>Maruti Wagon R LXI CNG</td>\n",
              "      <td>Mumbai</td>\n",
              "      <td>2010</td>\n",
              "      <td>72000</td>\n",
              "      <td>CNG</td>\n",
              "      <td>Manual</td>\n",
              "      <td>First</td>\n",
              "      <td>26.6</td>\n",
              "      <td>998</td>\n",
              "      <td>58.16 bhp</td>\n",
              "      <td>5.0</td>\n",
              "      <td>NaN</td>\n",
              "      <td>1.75</td>\n",
              "    </tr>\n",
              "    <tr>\n",
              "      <th>1</th>\n",
              "      <td>Hyundai Creta 1.6 CRDi SX Option</td>\n",
              "      <td>Pune</td>\n",
              "      <td>2015</td>\n",
              "      <td>41000</td>\n",
              "      <td>Diesel</td>\n",
              "      <td>Manual</td>\n",
              "      <td>First</td>\n",
              "      <td>19.67</td>\n",
              "      <td>1582</td>\n",
              "      <td>126.2 bhp</td>\n",
              "      <td>5.0</td>\n",
              "      <td>NaN</td>\n",
              "      <td>12.50</td>\n",
              "    </tr>\n",
              "    <tr>\n",
              "      <th>2</th>\n",
              "      <td>Honda Jazz V</td>\n",
              "      <td>Chennai</td>\n",
              "      <td>2011</td>\n",
              "      <td>46000</td>\n",
              "      <td>Petrol</td>\n",
              "      <td>Manual</td>\n",
              "      <td>First</td>\n",
              "      <td>18.2</td>\n",
              "      <td>1199</td>\n",
              "      <td>88.7 bhp</td>\n",
              "      <td>5.0</td>\n",
              "      <td>8.61 Lakh</td>\n",
              "      <td>4.50</td>\n",
              "    </tr>\n",
              "    <tr>\n",
              "      <th>3</th>\n",
              "      <td>Maruti Ertiga VDI</td>\n",
              "      <td>Chennai</td>\n",
              "      <td>2012</td>\n",
              "      <td>87000</td>\n",
              "      <td>Diesel</td>\n",
              "      <td>Manual</td>\n",
              "      <td>First</td>\n",
              "      <td>20.77</td>\n",
              "      <td>1248</td>\n",
              "      <td>88.76 bhp</td>\n",
              "      <td>7.0</td>\n",
              "      <td>NaN</td>\n",
              "      <td>6.00</td>\n",
              "    </tr>\n",
              "    <tr>\n",
              "      <th>4</th>\n",
              "      <td>Audi A4 New 2.0 TDI Multitronic</td>\n",
              "      <td>Coimbatore</td>\n",
              "      <td>2013</td>\n",
              "      <td>40670</td>\n",
              "      <td>Diesel</td>\n",
              "      <td>Automatic</td>\n",
              "      <td>Second</td>\n",
              "      <td>15.2</td>\n",
              "      <td>1968</td>\n",
              "      <td>140.8 bhp</td>\n",
              "      <td>5.0</td>\n",
              "      <td>NaN</td>\n",
              "      <td>17.74</td>\n",
              "    </tr>\n",
              "    <tr>\n",
              "      <th>...</th>\n",
              "      <td>...</td>\n",
              "      <td>...</td>\n",
              "      <td>...</td>\n",
              "      <td>...</td>\n",
              "      <td>...</td>\n",
              "      <td>...</td>\n",
              "      <td>...</td>\n",
              "      <td>...</td>\n",
              "      <td>...</td>\n",
              "      <td>...</td>\n",
              "      <td>...</td>\n",
              "      <td>...</td>\n",
              "      <td>...</td>\n",
              "    </tr>\n",
              "    <tr>\n",
              "      <th>6014</th>\n",
              "      <td>Maruti Swift VDI</td>\n",
              "      <td>Delhi</td>\n",
              "      <td>2014</td>\n",
              "      <td>27365</td>\n",
              "      <td>Diesel</td>\n",
              "      <td>Manual</td>\n",
              "      <td>First</td>\n",
              "      <td>28.4</td>\n",
              "      <td>1248</td>\n",
              "      <td>74 bhp</td>\n",
              "      <td>5.0</td>\n",
              "      <td>7.88 Lakh</td>\n",
              "      <td>4.75</td>\n",
              "    </tr>\n",
              "    <tr>\n",
              "      <th>6015</th>\n",
              "      <td>Hyundai Xcent 1.1 CRDi S</td>\n",
              "      <td>Jaipur</td>\n",
              "      <td>2015</td>\n",
              "      <td>100000</td>\n",
              "      <td>Diesel</td>\n",
              "      <td>Manual</td>\n",
              "      <td>First</td>\n",
              "      <td>24.4</td>\n",
              "      <td>1120</td>\n",
              "      <td>71 bhp</td>\n",
              "      <td>5.0</td>\n",
              "      <td>NaN</td>\n",
              "      <td>4.00</td>\n",
              "    </tr>\n",
              "    <tr>\n",
              "      <th>6016</th>\n",
              "      <td>Mahindra Xylo D4 BSIV</td>\n",
              "      <td>Jaipur</td>\n",
              "      <td>2012</td>\n",
              "      <td>55000</td>\n",
              "      <td>Diesel</td>\n",
              "      <td>Manual</td>\n",
              "      <td>Second</td>\n",
              "      <td>14.0</td>\n",
              "      <td>2498</td>\n",
              "      <td>112 bhp</td>\n",
              "      <td>8.0</td>\n",
              "      <td>NaN</td>\n",
              "      <td>2.90</td>\n",
              "    </tr>\n",
              "    <tr>\n",
              "      <th>6017</th>\n",
              "      <td>Maruti Wagon R VXI</td>\n",
              "      <td>Kolkata</td>\n",
              "      <td>2013</td>\n",
              "      <td>46000</td>\n",
              "      <td>Petrol</td>\n",
              "      <td>Manual</td>\n",
              "      <td>First</td>\n",
              "      <td>18.9</td>\n",
              "      <td>998</td>\n",
              "      <td>67.1 bhp</td>\n",
              "      <td>5.0</td>\n",
              "      <td>NaN</td>\n",
              "      <td>2.65</td>\n",
              "    </tr>\n",
              "    <tr>\n",
              "      <th>6018</th>\n",
              "      <td>Chevrolet Beat Diesel</td>\n",
              "      <td>Hyderabad</td>\n",
              "      <td>2011</td>\n",
              "      <td>47000</td>\n",
              "      <td>Diesel</td>\n",
              "      <td>Manual</td>\n",
              "      <td>First</td>\n",
              "      <td>25.44</td>\n",
              "      <td>936</td>\n",
              "      <td>57.6 bhp</td>\n",
              "      <td>5.0</td>\n",
              "      <td>NaN</td>\n",
              "      <td>2.50</td>\n",
              "    </tr>\n",
              "  </tbody>\n",
              "</table>\n",
              "<p>5981 rows × 13 columns</p>\n",
              "</div>"
            ],
            "text/plain": [
              "                                  Name    Location  ...  New_Price  Price\n",
              "0               Maruti Wagon R LXI CNG      Mumbai  ...        NaN   1.75\n",
              "1     Hyundai Creta 1.6 CRDi SX Option        Pune  ...        NaN  12.50\n",
              "2                         Honda Jazz V     Chennai  ...  8.61 Lakh   4.50\n",
              "3                    Maruti Ertiga VDI     Chennai  ...        NaN   6.00\n",
              "4      Audi A4 New 2.0 TDI Multitronic  Coimbatore  ...        NaN  17.74\n",
              "...                                ...         ...  ...        ...    ...\n",
              "6014                  Maruti Swift VDI       Delhi  ...  7.88 Lakh   4.75\n",
              "6015          Hyundai Xcent 1.1 CRDi S      Jaipur  ...        NaN   4.00\n",
              "6016             Mahindra Xylo D4 BSIV      Jaipur  ...        NaN   2.90\n",
              "6017                Maruti Wagon R VXI     Kolkata  ...        NaN   2.65\n",
              "6018             Chevrolet Beat Diesel   Hyderabad  ...        NaN   2.50\n",
              "\n",
              "[5981 rows x 13 columns]"
            ]
          },
          "metadata": {},
          "execution_count": 206
        }
      ]
    },
    {
      "cell_type": "code",
      "metadata": {
        "colab": {
          "base_uri": "https://localhost:8080/"
        },
        "id": "kzh5LVxduEc0",
        "outputId": "7e5d0025-bdb6-4ed5-c42f-1bad32f5164a"
      },
      "source": [
        "df_temp_no_null['Power'] = df_temp_notnull['Power'].str.replace(r'bhp','')"
      ],
      "execution_count": 207,
      "outputs": [
        {
          "output_type": "stream",
          "text": [
            "/usr/local/lib/python3.7/dist-packages/ipykernel_launcher.py:1: SettingWithCopyWarning: \n",
            "A value is trying to be set on a copy of a slice from a DataFrame.\n",
            "Try using .loc[row_indexer,col_indexer] = value instead\n",
            "\n",
            "See the caveats in the documentation: https://pandas.pydata.org/pandas-docs/stable/user_guide/indexing.html#returning-a-view-versus-a-copy\n",
            "  \"\"\"Entry point for launching an IPython kernel.\n"
          ],
          "name": "stderr"
        }
      ]
    },
    {
      "cell_type": "code",
      "metadata": {
        "colab": {
          "base_uri": "https://localhost:8080/",
          "height": 419
        },
        "id": "_6FCDeS5uOUm",
        "outputId": "310f5833-91a1-4c10-bc1e-7e7c604e5eee"
      },
      "source": [
        "df_temp_notnull"
      ],
      "execution_count": 208,
      "outputs": [
        {
          "output_type": "execute_result",
          "data": {
            "text/html": [
              "<div>\n",
              "<style scoped>\n",
              "    .dataframe tbody tr th:only-of-type {\n",
              "        vertical-align: middle;\n",
              "    }\n",
              "\n",
              "    .dataframe tbody tr th {\n",
              "        vertical-align: top;\n",
              "    }\n",
              "\n",
              "    .dataframe thead th {\n",
              "        text-align: right;\n",
              "    }\n",
              "</style>\n",
              "<table border=\"1\" class=\"dataframe\">\n",
              "  <thead>\n",
              "    <tr style=\"text-align: right;\">\n",
              "      <th></th>\n",
              "      <th>Name</th>\n",
              "      <th>Location</th>\n",
              "      <th>Year</th>\n",
              "      <th>Kilometers_Driven</th>\n",
              "      <th>Fuel_Type</th>\n",
              "      <th>Transmission</th>\n",
              "      <th>Owner_Type</th>\n",
              "      <th>Mileage</th>\n",
              "      <th>Engine</th>\n",
              "      <th>Power</th>\n",
              "      <th>Seats</th>\n",
              "      <th>New_Price</th>\n",
              "      <th>Price</th>\n",
              "    </tr>\n",
              "  </thead>\n",
              "  <tbody>\n",
              "    <tr>\n",
              "      <th>0</th>\n",
              "      <td>Maruti Wagon R LXI CNG</td>\n",
              "      <td>Mumbai</td>\n",
              "      <td>2010</td>\n",
              "      <td>72000</td>\n",
              "      <td>CNG</td>\n",
              "      <td>Manual</td>\n",
              "      <td>First</td>\n",
              "      <td>26.6</td>\n",
              "      <td>998</td>\n",
              "      <td>58.16 bhp</td>\n",
              "      <td>5.0</td>\n",
              "      <td>NaN</td>\n",
              "      <td>1.75</td>\n",
              "    </tr>\n",
              "    <tr>\n",
              "      <th>1</th>\n",
              "      <td>Hyundai Creta 1.6 CRDi SX Option</td>\n",
              "      <td>Pune</td>\n",
              "      <td>2015</td>\n",
              "      <td>41000</td>\n",
              "      <td>Diesel</td>\n",
              "      <td>Manual</td>\n",
              "      <td>First</td>\n",
              "      <td>19.67</td>\n",
              "      <td>1582</td>\n",
              "      <td>126.2 bhp</td>\n",
              "      <td>5.0</td>\n",
              "      <td>NaN</td>\n",
              "      <td>12.50</td>\n",
              "    </tr>\n",
              "    <tr>\n",
              "      <th>2</th>\n",
              "      <td>Honda Jazz V</td>\n",
              "      <td>Chennai</td>\n",
              "      <td>2011</td>\n",
              "      <td>46000</td>\n",
              "      <td>Petrol</td>\n",
              "      <td>Manual</td>\n",
              "      <td>First</td>\n",
              "      <td>18.2</td>\n",
              "      <td>1199</td>\n",
              "      <td>88.7 bhp</td>\n",
              "      <td>5.0</td>\n",
              "      <td>8.61 Lakh</td>\n",
              "      <td>4.50</td>\n",
              "    </tr>\n",
              "    <tr>\n",
              "      <th>3</th>\n",
              "      <td>Maruti Ertiga VDI</td>\n",
              "      <td>Chennai</td>\n",
              "      <td>2012</td>\n",
              "      <td>87000</td>\n",
              "      <td>Diesel</td>\n",
              "      <td>Manual</td>\n",
              "      <td>First</td>\n",
              "      <td>20.77</td>\n",
              "      <td>1248</td>\n",
              "      <td>88.76 bhp</td>\n",
              "      <td>7.0</td>\n",
              "      <td>NaN</td>\n",
              "      <td>6.00</td>\n",
              "    </tr>\n",
              "    <tr>\n",
              "      <th>4</th>\n",
              "      <td>Audi A4 New 2.0 TDI Multitronic</td>\n",
              "      <td>Coimbatore</td>\n",
              "      <td>2013</td>\n",
              "      <td>40670</td>\n",
              "      <td>Diesel</td>\n",
              "      <td>Automatic</td>\n",
              "      <td>Second</td>\n",
              "      <td>15.2</td>\n",
              "      <td>1968</td>\n",
              "      <td>140.8 bhp</td>\n",
              "      <td>5.0</td>\n",
              "      <td>NaN</td>\n",
              "      <td>17.74</td>\n",
              "    </tr>\n",
              "    <tr>\n",
              "      <th>...</th>\n",
              "      <td>...</td>\n",
              "      <td>...</td>\n",
              "      <td>...</td>\n",
              "      <td>...</td>\n",
              "      <td>...</td>\n",
              "      <td>...</td>\n",
              "      <td>...</td>\n",
              "      <td>...</td>\n",
              "      <td>...</td>\n",
              "      <td>...</td>\n",
              "      <td>...</td>\n",
              "      <td>...</td>\n",
              "      <td>...</td>\n",
              "    </tr>\n",
              "    <tr>\n",
              "      <th>6014</th>\n",
              "      <td>Maruti Swift VDI</td>\n",
              "      <td>Delhi</td>\n",
              "      <td>2014</td>\n",
              "      <td>27365</td>\n",
              "      <td>Diesel</td>\n",
              "      <td>Manual</td>\n",
              "      <td>First</td>\n",
              "      <td>28.4</td>\n",
              "      <td>1248</td>\n",
              "      <td>74 bhp</td>\n",
              "      <td>5.0</td>\n",
              "      <td>7.88 Lakh</td>\n",
              "      <td>4.75</td>\n",
              "    </tr>\n",
              "    <tr>\n",
              "      <th>6015</th>\n",
              "      <td>Hyundai Xcent 1.1 CRDi S</td>\n",
              "      <td>Jaipur</td>\n",
              "      <td>2015</td>\n",
              "      <td>100000</td>\n",
              "      <td>Diesel</td>\n",
              "      <td>Manual</td>\n",
              "      <td>First</td>\n",
              "      <td>24.4</td>\n",
              "      <td>1120</td>\n",
              "      <td>71 bhp</td>\n",
              "      <td>5.0</td>\n",
              "      <td>NaN</td>\n",
              "      <td>4.00</td>\n",
              "    </tr>\n",
              "    <tr>\n",
              "      <th>6016</th>\n",
              "      <td>Mahindra Xylo D4 BSIV</td>\n",
              "      <td>Jaipur</td>\n",
              "      <td>2012</td>\n",
              "      <td>55000</td>\n",
              "      <td>Diesel</td>\n",
              "      <td>Manual</td>\n",
              "      <td>Second</td>\n",
              "      <td>14.0</td>\n",
              "      <td>2498</td>\n",
              "      <td>112 bhp</td>\n",
              "      <td>8.0</td>\n",
              "      <td>NaN</td>\n",
              "      <td>2.90</td>\n",
              "    </tr>\n",
              "    <tr>\n",
              "      <th>6017</th>\n",
              "      <td>Maruti Wagon R VXI</td>\n",
              "      <td>Kolkata</td>\n",
              "      <td>2013</td>\n",
              "      <td>46000</td>\n",
              "      <td>Petrol</td>\n",
              "      <td>Manual</td>\n",
              "      <td>First</td>\n",
              "      <td>18.9</td>\n",
              "      <td>998</td>\n",
              "      <td>67.1 bhp</td>\n",
              "      <td>5.0</td>\n",
              "      <td>NaN</td>\n",
              "      <td>2.65</td>\n",
              "    </tr>\n",
              "    <tr>\n",
              "      <th>6018</th>\n",
              "      <td>Chevrolet Beat Diesel</td>\n",
              "      <td>Hyderabad</td>\n",
              "      <td>2011</td>\n",
              "      <td>47000</td>\n",
              "      <td>Diesel</td>\n",
              "      <td>Manual</td>\n",
              "      <td>First</td>\n",
              "      <td>25.44</td>\n",
              "      <td>936</td>\n",
              "      <td>57.6 bhp</td>\n",
              "      <td>5.0</td>\n",
              "      <td>NaN</td>\n",
              "      <td>2.50</td>\n",
              "    </tr>\n",
              "  </tbody>\n",
              "</table>\n",
              "<p>6017 rows × 13 columns</p>\n",
              "</div>"
            ],
            "text/plain": [
              "                                  Name    Location  ...  New_Price  Price\n",
              "0               Maruti Wagon R LXI CNG      Mumbai  ...        NaN   1.75\n",
              "1     Hyundai Creta 1.6 CRDi SX Option        Pune  ...        NaN  12.50\n",
              "2                         Honda Jazz V     Chennai  ...  8.61 Lakh   4.50\n",
              "3                    Maruti Ertiga VDI     Chennai  ...        NaN   6.00\n",
              "4      Audi A4 New 2.0 TDI Multitronic  Coimbatore  ...        NaN  17.74\n",
              "...                                ...         ...  ...        ...    ...\n",
              "6014                  Maruti Swift VDI       Delhi  ...  7.88 Lakh   4.75\n",
              "6015          Hyundai Xcent 1.1 CRDi S      Jaipur  ...        NaN   4.00\n",
              "6016             Mahindra Xylo D4 BSIV      Jaipur  ...        NaN   2.90\n",
              "6017                Maruti Wagon R VXI     Kolkata  ...        NaN   2.65\n",
              "6018             Chevrolet Beat Diesel   Hyderabad  ...        NaN   2.50\n",
              "\n",
              "[6017 rows x 13 columns]"
            ]
          },
          "metadata": {},
          "execution_count": 208
        }
      ]
    },
    {
      "cell_type": "code",
      "metadata": {
        "colab": {
          "base_uri": "https://localhost:8080/"
        },
        "id": "2i89jiA9YzvZ",
        "outputId": "fb554de9-b21b-4bf2-9d46-5dcd870f5e1b"
      },
      "source": [
        "df_temp_no_null.info()"
      ],
      "execution_count": 209,
      "outputs": [
        {
          "output_type": "stream",
          "text": [
            "<class 'pandas.core.frame.DataFrame'>\n",
            "Int64Index: 5981 entries, 0 to 6018\n",
            "Data columns (total 13 columns):\n",
            " #   Column             Non-Null Count  Dtype  \n",
            "---  ------             --------------  -----  \n",
            " 0   Name               5981 non-null   object \n",
            " 1   Location           5981 non-null   object \n",
            " 2   Year               5981 non-null   int64  \n",
            " 3   Kilometers_Driven  5981 non-null   int64  \n",
            " 4   Fuel_Type          5981 non-null   object \n",
            " 5   Transmission       5981 non-null   object \n",
            " 6   Owner_Type         5981 non-null   object \n",
            " 7   Mileage            5981 non-null   object \n",
            " 8   Engine             5981 non-null   object \n",
            " 9   Power              5981 non-null   object \n",
            " 10  Seats              5975 non-null   float64\n",
            " 11  New_Price          823 non-null    object \n",
            " 12  Price              5981 non-null   float64\n",
            "dtypes: float64(2), int64(2), object(9)\n",
            "memory usage: 654.2+ KB\n"
          ],
          "name": "stdout"
        }
      ]
    },
    {
      "cell_type": "code",
      "metadata": {
        "colab": {
          "base_uri": "https://localhost:8080/"
        },
        "id": "DeUO6oJFbJ36",
        "outputId": "d5a07359-6738-491a-9948-6e52f33c9297"
      },
      "source": [
        "print(\"Length of shcp_list is\",n)"
      ],
      "execution_count": 210,
      "outputs": [
        {
          "output_type": "stream",
          "text": [
            "Length of shcp_list is 13\n"
          ],
          "name": "stdout"
        }
      ]
    },
    {
      "cell_type": "code",
      "metadata": {
        "id": "IzR_mmqzblUl"
      },
      "source": [
        "datatypes_type = type(df_temp_notnull.dtypes['Power'])"
      ],
      "execution_count": 211,
      "outputs": []
    },
    {
      "cell_type": "code",
      "metadata": {
        "colab": {
          "base_uri": "https://localhost:8080/"
        },
        "id": "MHDpl6pOb1E3",
        "outputId": "836832ed-33f7-4135-a484-728d9a927d6c"
      },
      "source": [
        "print(\"The type of the datatypes is \",datatypes_type)"
      ],
      "execution_count": 212,
      "outputs": [
        {
          "output_type": "stream",
          "text": [
            "The type of the datatypes is  <class 'numpy.dtype'>\n"
          ],
          "name": "stdout"
        }
      ]
    },
    {
      "cell_type": "code",
      "metadata": {
        "colab": {
          "base_uri": "https://localhost:8080/"
        },
        "id": "_pdYrtzVb93D",
        "outputId": "ff126cf0-85b3-4944-bf67-ad39a3d1d7d6"
      },
      "source": [
        "print(\"Datatypes is \",datatypes_type)"
      ],
      "execution_count": 213,
      "outputs": [
        {
          "output_type": "stream",
          "text": [
            "Datatypes is  <class 'numpy.dtype'>\n"
          ],
          "name": "stdout"
        }
      ]
    },
    {
      "cell_type": "code",
      "metadata": {
        "colab": {
          "base_uri": "https://localhost:8080/"
        },
        "id": "f2EyUFxr_pZi",
        "outputId": "f0bd01bb-a409-4da2-8a6d-4ac4501a87b3"
      },
      "source": [
        "df_temp_notnull.info()"
      ],
      "execution_count": 214,
      "outputs": [
        {
          "output_type": "stream",
          "text": [
            "<class 'pandas.core.frame.DataFrame'>\n",
            "Int64Index: 6017 entries, 0 to 6018\n",
            "Data columns (total 13 columns):\n",
            " #   Column             Non-Null Count  Dtype  \n",
            "---  ------             --------------  -----  \n",
            " 0   Name               6017 non-null   object \n",
            " 1   Location           6017 non-null   object \n",
            " 2   Year               6017 non-null   int64  \n",
            " 3   Kilometers_Driven  6017 non-null   int64  \n",
            " 4   Fuel_Type          6017 non-null   object \n",
            " 5   Transmission       6017 non-null   object \n",
            " 6   Owner_Type         6017 non-null   object \n",
            " 7   Mileage            6017 non-null   object \n",
            " 8   Engine             5981 non-null   object \n",
            " 9   Power              5981 non-null   object \n",
            " 10  Seats              5975 non-null   float64\n",
            " 11  New_Price          823 non-null    object \n",
            " 12  Price              6017 non-null   float64\n",
            "dtypes: float64(2), int64(2), object(9)\n",
            "memory usage: 818.1+ KB\n"
          ],
          "name": "stdout"
        }
      ]
    },
    {
      "cell_type": "code",
      "metadata": {
        "colab": {
          "base_uri": "https://localhost:8080/"
        },
        "id": "gTsOQOhd6S3O",
        "outputId": "d172de2d-5329-4941-aeec-8b8467f76ee3"
      },
      "source": [
        "print(\"Number of Varities/Brand Models of cars available \",len(list(df_temp_notnull['Name'].values)))"
      ],
      "execution_count": 215,
      "outputs": [
        {
          "output_type": "stream",
          "text": [
            "Number of Varities/Brand Models of cars available  6017\n"
          ],
          "name": "stdout"
        }
      ]
    },
    {
      "cell_type": "code",
      "metadata": {
        "id": "L8QZyctOAmH8",
        "colab": {
          "base_uri": "https://localhost:8080/"
        },
        "outputId": "880b6fcc-f40d-450f-cae4-7a7e083c5ee1"
      },
      "source": [
        "list(df_temp_notnull['Name'].values)"
      ],
      "execution_count": 216,
      "outputs": [
        {
          "output_type": "execute_result",
          "data": {
            "text/plain": [
              "['Maruti Wagon R LXI CNG',\n",
              " 'Hyundai Creta 1.6 CRDi SX Option',\n",
              " 'Honda Jazz V',\n",
              " 'Maruti Ertiga VDI',\n",
              " 'Audi A4 New 2.0 TDI Multitronic',\n",
              " 'Hyundai EON LPG Era Plus Option',\n",
              " 'Nissan Micra Diesel XV',\n",
              " 'Toyota Innova Crysta 2.8 GX AT 8S',\n",
              " 'Volkswagen Vento Diesel Comfortline',\n",
              " 'Tata Indica Vista Quadrajet LS',\n",
              " 'Maruti Ciaz Zeta',\n",
              " 'Honda City 1.5 V AT Sunroof',\n",
              " 'Maruti Swift VDI BSIV',\n",
              " 'Land Rover Range Rover 2.2L Pure',\n",
              " 'Land Rover Freelander 2 TD4 SE',\n",
              " 'Mitsubishi Pajero Sport 4X4',\n",
              " 'Honda Amaze S i-Dtech',\n",
              " 'Maruti Swift DDiS VDI',\n",
              " 'Renault Duster 85PS Diesel RxL Plus',\n",
              " 'Mercedes-Benz New C-Class C 220 CDI BE Avantgare',\n",
              " 'BMW 3 Series 320d',\n",
              " 'Maruti S Cross DDiS 200 Alpha',\n",
              " 'Audi A6 2011-2015 35 TFSI Technology',\n",
              " 'Hyundai i20 1.2 Magna',\n",
              " 'Volkswagen Vento Petrol Highline AT',\n",
              " 'Honda City Corporate Edition',\n",
              " 'Nissan Micra Diesel XV',\n",
              " 'Maruti Alto K10 2010-2014 VXI',\n",
              " 'Honda WRV i-VTEC VX',\n",
              " 'Toyota Innova 2.5 V Diesel 7-seater',\n",
              " 'Renault Duster 110PS Diesel RxZ Pack',\n",
              " 'Toyota Corolla Altis G',\n",
              " 'Mahindra Ssangyong Rexton RX7',\n",
              " 'Audi A6 2.7 TDI',\n",
              " 'Volkswagen Vento 1.6 Highline',\n",
              " 'Maruti Wagon R LXI BSIII',\n",
              " 'Maruti Vitara Brezza ZDi Plus',\n",
              " 'Mahindra KUV 100 mFALCON G80 K6 5str AW',\n",
              " 'Mercedes-Benz M-Class ML 350 CDI',\n",
              " 'Volkswagen Polo Diesel Trendline 1.2L',\n",
              " 'Maruti Alto LXi',\n",
              " 'Tata Nano LX SE',\n",
              " 'Mahindra KUV 100 mFALCON D75 K8 Dual Tone',\n",
              " 'Hyundai i20 Magna Optional 1.2',\n",
              " 'Hyundai Elantra 2.0 SX Option AT',\n",
              " 'Toyota Corolla Altis G AT',\n",
              " 'Hyundai Elantra CRDi',\n",
              " 'Toyota Innova Crysta 2.7 GX MT',\n",
              " 'Hyundai Xcent 1.1 CRDi S',\n",
              " 'Mahindra Thar CRDe AC',\n",
              " 'Audi A4 2.0 TDI 177 Bhp Premium Plus',\n",
              " 'Maruti Swift LDI',\n",
              " 'Maruti Swift Ldi BSIV',\n",
              " 'Maruti Swift VDI',\n",
              " 'Hyundai Grand i10 Sportz',\n",
              " 'Volkswagen Vento 2013-2015 1.6 Comfortline',\n",
              " 'Renault KWID RXT',\n",
              " 'Hyundai i10 Asta',\n",
              " 'Nissan X-Trail SLX AT',\n",
              " 'Maruti Zen Estilo VXI BSIII',\n",
              " 'Toyota Innova Crysta 2.4 GX MT 8S',\n",
              " 'Ford Figo Diesel Titanium',\n",
              " 'Mercedes-Benz New C-Class C 200 CGI Avantgarde',\n",
              " 'Mercedes-Benz New C-Class 200 CDI Classic',\n",
              " 'Tata Indica V2 eLS',\n",
              " 'Audi A4 2.0 TDI Multitronic',\n",
              " 'Honda City ZX CVT',\n",
              " 'Mercedes-Benz C-Class Progressive C 220d',\n",
              " 'Maruti Ertiga SHVS VDI',\n",
              " 'Hyundai Creta 1.4 E Plus Diesel',\n",
              " 'Porsche Cayenne 2009-2014 Turbo',\n",
              " 'Mahindra XUV500 W8 4WD',\n",
              " 'Hyundai i10 Sportz 1.2 AT',\n",
              " 'Nissan Terrano XV D Pre',\n",
              " 'Honda Brio VX AT',\n",
              " 'Audi A6 2.0 TDI Design Edition',\n",
              " 'Ford Fiesta 1.4 SXi TDCi',\n",
              " 'Toyota Innova 2.0 G1',\n",
              " 'Toyota Innova 2.5 VX 7 STR BSIV',\n",
              " 'Hyundai Santro Xing XL',\n",
              " 'Maruti Swift VDI',\n",
              " 'Tata Zest Revotron 1.2T XE',\n",
              " 'Honda Amaze SX i-VTEC',\n",
              " 'Ford Figo Diesel ZXI',\n",
              " 'Maruti Ritz VDi',\n",
              " 'Honda City i VTEC E',\n",
              " 'BMW 5 Series 2003-2012 525d',\n",
              " 'Hyundai i10 Sportz 1.2',\n",
              " 'Hyundai Grand i10 Sportz',\n",
              " 'Hyundai Santro Xing XO',\n",
              " 'Honda Amaze SX i-VTEC',\n",
              " 'Toyota Fortuner 4x2 Manual',\n",
              " 'Audi A6 2011-2015 35 TDI Premium',\n",
              " 'Ford Ecosport 1.5 DV5 MT Titanium Optional',\n",
              " 'Mahindra XUV500 W8 2WD',\n",
              " 'Honda Amaze SX i-DTEC',\n",
              " 'Volkswagen Polo Diesel Highline 1.2L',\n",
              " 'Hyundai Verna Transform SX VGT CRDi',\n",
              " 'Maruti Wagon R VXI BS IV',\n",
              " 'Volkswagen Polo Petrol Highline 1.6L',\n",
              " 'Hyundai i20 1.4 CRDi Sportz',\n",
              " 'Hyundai i20 Asta 1.2',\n",
              " 'Datsun GO Plus T Petrol',\n",
              " 'Audi A4 3.0 TDI Quattro Premium',\n",
              " 'Hyundai i20 2015-2017 Asta',\n",
              " 'Maruti Omni 5 Str STD',\n",
              " 'Toyota Etios Liva 1.2 G',\n",
              " 'Jaguar XF 3.0 Litre S Premium Luxury',\n",
              " 'Mahindra XUV500 W8 2WD',\n",
              " 'Hyundai Verna 1.6 SX CRDI (O) AT',\n",
              " 'Toyota Innova Crysta 2.8 ZX AT',\n",
              " 'Maruti Eeco 5 Seater AC',\n",
              " 'Tata Nano Twist XT',\n",
              " 'BMW 3 Series 320d Luxury Line',\n",
              " 'Honda Civic 2006-2010 1.8 V MT',\n",
              " 'Toyota Innova 2.5 VX (Diesel) 7 Seater',\n",
              " 'Volvo V40 Cross Country D3',\n",
              " 'Nissan Micra XV CVT',\n",
              " 'BMW 5 Series 2010-2013 525i',\n",
              " 'Maruti Vitara Brezza VDi',\n",
              " 'Hyundai Santro Xing XL eRLX Euro III',\n",
              " 'Mercedes-Benz B Class B200 CDI',\n",
              " 'Hyundai Verna CRDi 1.6 SX Option',\n",
              " 'Maruti Wagon R LXI BS IV',\n",
              " 'Tata Nano XTA',\n",
              " 'Mahindra Scorpio VLX',\n",
              " 'Mercedes-Benz New C-Class 200 K AT',\n",
              " 'Maruti Wagon R LXI CNG',\n",
              " 'Honda CR-V 2.4 MT',\n",
              " 'Volkswagen Vento 1.5 TDI Comfortline AT',\n",
              " 'Maruti Ciaz VXi Plus',\n",
              " 'Mahindra XUV500 AT W10 FWD',\n",
              " 'Maruti Ritz VXI ABS',\n",
              " 'Maruti Alto K10 VXI',\n",
              " 'Mercedes-Benz SLC 43 AMG',\n",
              " 'Hyundai Verna VTVT 1.6 AT SX Plus',\n",
              " 'Maruti Alto LXi BSIII',\n",
              " 'BMW 1 Series 118d Base',\n",
              " 'Honda Jazz 1.2 V CVT i VTEC',\n",
              " 'Honda Civic 2006-2010 1.8 V MT',\n",
              " 'Mercedes-Benz New C-Class C 220 CDI Avantgarde',\n",
              " 'Honda Amaze SX i-DTEC',\n",
              " 'Maruti Swift VVT VXI',\n",
              " 'Hyundai Santro Xing XO eRLX Euro II',\n",
              " 'Toyota Fortuner 3.0 Diesel',\n",
              " 'Chevrolet Beat LT Option',\n",
              " 'Skoda Rapid 1.5 TDI Elegance',\n",
              " 'Maruti Ciaz 1.4 Alpha',\n",
              " 'Audi RS5 Coupe',\n",
              " 'BMW 3 Series Luxury Line',\n",
              " 'Audi A4 2.0 TDI 177 Bhp Premium Plus',\n",
              " 'Maruti Swift VDI',\n",
              " 'Mercedes-Benz S Class 2005 2013 S 500',\n",
              " 'Skoda Rapid 1.5 TDI AT Elegance Plus Black Package',\n",
              " 'Skoda Superb Elegance 2.0 TDI CR AT',\n",
              " 'Hyundai EON Magna Plus',\n",
              " 'Volkswagen Polo Diesel Trendline 1.2L',\n",
              " 'Datsun GO NXT',\n",
              " 'Honda Brio S MT',\n",
              " 'Mercedes-Benz B Class B180',\n",
              " 'Honda City i DTEC V',\n",
              " 'Toyota Innova 2.5 G (Diesel) 7 Seater',\n",
              " 'Maruti Swift VXI Optional',\n",
              " 'Mahindra XUV500 W8 2WD',\n",
              " 'Ford Ecosport 1.5 DV5 MT Ambiente',\n",
              " 'Toyota Fortuner 4x2 Manual',\n",
              " 'Volkswagen Vento 1.5 Highline Plus AT 16 Alloy',\n",
              " 'Ford Figo Diesel Titanium',\n",
              " 'BMW X5 xDrive 30d',\n",
              " 'Mercedes-Benz New C-Class C 220 CDI Style',\n",
              " 'Honda Brio V MT',\n",
              " 'Hyundai i10 Magna 1.2',\n",
              " 'Mercedes-Benz GLC 220',\n",
              " 'Hyundai Grand i10 1.2 Kappa Asta',\n",
              " 'Audi A6 2011-2015 2.0 TDI Premium Plus',\n",
              " 'Volkswagen Vento Petrol Highline AT',\n",
              " 'Mini Countryman Cooper D',\n",
              " 'Hyundai i20 Asta 1.4 CRDi',\n",
              " 'Audi A6 2011-2015 2.0 TDI Premium Plus',\n",
              " 'Chevrolet Beat Diesel LT',\n",
              " 'Skoda Superb Elegance 1.8 TSI AT',\n",
              " 'Ford Fiesta 1.4 TDCi EXI Limited Edition',\n",
              " 'BMW 5 Series 520d Luxury Line',\n",
              " 'Chevrolet Optra Magnum 1.6 LS BS3',\n",
              " 'Volkswagen Polo Diesel Highline 1.2L',\n",
              " 'Renault Lodgy 110PS RxZ 8 Seater',\n",
              " 'Mercedes-Benz E-Class E250 CDI Avantgrade',\n",
              " 'Maruti Baleno Alpha',\n",
              " 'Hyundai Verna 1.6 SX',\n",
              " 'Hyundai i10 Magna 1.1',\n",
              " 'Mahindra Scorpio 1.99 S10 4WD',\n",
              " 'Land Rover Range Rover 2.2L Dynamic',\n",
              " 'Ford Figo Diesel ZXI',\n",
              " 'Maruti Ertiga ZDI',\n",
              " 'Honda City 1.5 GXI',\n",
              " 'Honda Amaze S i-Dtech',\n",
              " 'Hyundai i10 Magna',\n",
              " 'Honda Amaze S i-Dtech',\n",
              " 'Skoda Laura Ambiente',\n",
              " 'Renault Duster 85PS Diesel RxL',\n",
              " 'Mahindra NuvoSport N6',\n",
              " 'Maruti Vitara Brezza ZDi Plus Dual Tone',\n",
              " 'Hyundai i20 Asta Option 1.2',\n",
              " 'Skoda Fabia 1.4 MPI Ambiente',\n",
              " 'Tata Indigo eCS GLX',\n",
              " 'Audi Q3 2012-2015 35 TDI Quattro Premium Plus',\n",
              " 'Skoda Octavia Elegance 1.8 TSI AT',\n",
              " 'Toyota Etios Liva GD SP',\n",
              " 'Maruti Swift 1.3 VXi',\n",
              " 'Mercedes-Benz B Class B180',\n",
              " 'Honda Amaze S Diesel',\n",
              " 'Hyundai Verna 1.6 SX',\n",
              " 'Renault Duster 85PS Diesel RxL Optional',\n",
              " 'Hyundai Creta 1.6 VTVT S',\n",
              " 'Maruti Wagon R AMT VXI',\n",
              " 'Mercedes-Benz New C-Class C250 Avantgarde',\n",
              " 'Audi A8 L 3.0 TDI quattro',\n",
              " 'Hyundai i10 Magna 1.1',\n",
              " 'Skoda Rapid 1.6 MPI AT Style Black Package',\n",
              " 'Skoda Superb Style 1.8 TSI AT',\n",
              " 'Hyundai i20 Active 1.2 SX',\n",
              " 'Honda Amaze VX i-DTEC',\n",
              " 'Maruti Wagon R LXI',\n",
              " 'Mahindra Verito 1.5 D4 BSIV',\n",
              " 'Mercedes-Benz New C-Class C 220d Avantgarde Edition C',\n",
              " 'Maruti Wagon R VXI',\n",
              " 'Nissan Terrano XV Premium 110 PS Anniversary Edition',\n",
              " 'Maruti Swift VDI BSIV',\n",
              " 'Mini Cooper Convertible S',\n",
              " 'Ford Figo Diesel',\n",
              " 'Tata Indica V2 DLS BSII',\n",
              " 'Chevrolet Beat LT',\n",
              " 'Volkswagen Polo Diesel Comfortline 1.2L',\n",
              " 'Maruti Swift ZDi',\n",
              " 'Ford Figo Diesel EXI',\n",
              " 'Toyota Innova Crysta 2.8 GX AT',\n",
              " 'Hyundai Santa Fe 4x4 AT',\n",
              " 'Honda City i-VTEC V',\n",
              " 'Hyundai i20 1.2 Magna Executive',\n",
              " 'Mercedes-Benz New C-Class C 220d Avantgarde Edition C',\n",
              " 'Chevrolet Beat Diesel LT',\n",
              " 'Hyundai i20 Sportz 1.4 CRDi',\n",
              " 'Toyota Innova 2.5 Z Diesel 7 Seater',\n",
              " 'Maruti Ertiga VDI',\n",
              " 'Toyota Innova 2.5 V Diesel 7-seater',\n",
              " 'Hyundai Santro Xing XO eRLX Euro II',\n",
              " 'Honda City i VTEC V',\n",
              " 'BMW X1 sDrive20d',\n",
              " 'Hyundai Grand i10 CRDi Era',\n",
              " 'Maruti Ciaz 1.3 Alpha',\n",
              " 'Skoda Rapid Leisure 1.6 TDI MT',\n",
              " 'Hyundai Accent CRDi',\n",
              " 'Volkswagen Polo GT 1.5 TDI',\n",
              " 'Honda Jazz 1.2 VX i VTEC',\n",
              " 'Hyundai i10 Era',\n",
              " 'Hyundai Tucson 2.0 e-VGT 2WD AT GLS',\n",
              " 'Toyota Innova Crysta 2.4 ZX MT',\n",
              " 'Maruti Omni MPI CARGO BSIII W/ IMMOBILISER',\n",
              " 'Maruti Swift VXI BSIV',\n",
              " 'Hyundai Grand i10 Magna',\n",
              " 'Maruti Swift VDI',\n",
              " 'Hyundai Verna CRDi 1.6 SX',\n",
              " 'Hyundai Santro Xing XL',\n",
              " 'Hyundai i20 1.2 Sportz',\n",
              " 'Mercedes-Benz GLE 350d',\n",
              " 'Mercedes-Benz New C-Class C 220 CDI CLASSIC',\n",
              " 'Maruti Ritz ZDi',\n",
              " 'Hyundai Creta 1.6 CRDi SX',\n",
              " 'Maruti A-Star Vxi',\n",
              " 'Renault Duster 110PS Diesel RXZ Option',\n",
              " 'Fiat Grande Punto 1.3 Emotion Pack (Diesel)',\n",
              " 'BMW X3 xDrive30d M Sport',\n",
              " 'Hyundai i10 Sportz',\n",
              " 'Toyota Innova 2.5 G4 Diesel 7-seater',\n",
              " 'Maruti Zen VXI BSII',\n",
              " 'Maruti Swift VDI',\n",
              " 'Mahindra Scorpio VLX 2.2 mHawk Airbag BSIV',\n",
              " 'Tata Zest Quadrajet 1.3 75PS XE',\n",
              " 'Ford EcoSport 1.0 Ecoboost Titanium Plus',\n",
              " 'Maruti Swift Dzire ZDI',\n",
              " 'Maruti Alto 800 LXI',\n",
              " 'Honda City 1.5 S MT',\n",
              " 'Audi Q7 3.0 TDI Quattro Technology',\n",
              " 'Skoda Laura 1.9 TDI AT Ambiente',\n",
              " 'Hyundai Verna 1.6 SX VTVT (O)',\n",
              " 'Honda City 1.5 V AT',\n",
              " 'Hyundai i20 Magna Optional 1.4 CRDi',\n",
              " 'Hyundai i20 Sportz AT 1.4',\n",
              " 'Volkswagen Vento Diesel Highline',\n",
              " 'Honda City i VTEC VX',\n",
              " 'Tata Zest Quadrajet 1.3 75PS XE',\n",
              " 'BMW 5 Series 2003-2012 520d',\n",
              " 'Maruti Wagon R LXI Minor',\n",
              " 'Honda Jazz VX',\n",
              " 'Volkswagen Jetta 2007-2011 2.0 TDI Comfortline',\n",
              " 'Hyundai i10 Magna 1.2',\n",
              " 'Mercedes-Benz New C-Class C 220 CDI Avantgarde',\n",
              " 'Hyundai i10 Magna 1.2 iTech SE',\n",
              " 'Toyota Innova Crysta 2.4 ZX MT',\n",
              " 'Audi A6 2011-2015 2.0 TDI Technology',\n",
              " 'Toyota Innova 2.5 VX (Diesel) 7 Seater',\n",
              " 'Volkswagen Polo Petrol Trendline 1.2L',\n",
              " 'Maruti Alto K10 LXI',\n",
              " 'Honda City i-VTEC CVT ZX',\n",
              " 'Tata Indigo LX',\n",
              " 'Audi A6 2011-2015 2.0 TDI Premium Plus',\n",
              " 'Mercedes-Benz GLA Class 200 CDI SPORT',\n",
              " 'Hyundai Santro Xing XL',\n",
              " 'Maruti Swift VDI BSIV',\n",
              " 'Maruti Celerio VXI AT',\n",
              " 'Mercedes-Benz GLE 250d',\n",
              " 'Land Rover Range Rover HSE Dynamic',\n",
              " 'Volkswagen Vento Diesel Trendline',\n",
              " 'Maruti Omni 8 Seater BSIV',\n",
              " 'Honda Brio 1.2 VX MT',\n",
              " 'Tata Sumo Delux',\n",
              " 'Tata Indica Vista Aura 1.3 Quadrajet',\n",
              " 'Maruti Wagon R LXI BS IV',\n",
              " 'Mahindra XUV500 W8 4WD',\n",
              " 'Tata Indigo LS Dicor',\n",
              " 'Maruti Ertiga Paseo VXI',\n",
              " 'Honda Accord 2.4 A/T',\n",
              " 'Maruti Swift Dzire VDi',\n",
              " 'Ford Fiesta EXi 1.4 TDCi Ltd',\n",
              " 'Honda City ZX GXi',\n",
              " 'Audi A6 2011-2015 2.0 TDI Premium Plus',\n",
              " 'BMW 6 Series 640d Gran Coupe',\n",
              " 'Audi Q7 45 TDI Quattro Technology',\n",
              " 'Maruti Zen Estilo LXI Green (CNG)',\n",
              " 'Hyundai i20 1.4 CRDi Asta',\n",
              " 'Hyundai i10 Sportz AT',\n",
              " 'Honda Jazz 1.2 V CVT i VTEC',\n",
              " 'Maruti Swift VDI BSIV',\n",
              " 'Hyundai i20 Asta 1.2',\n",
              " 'Volkswagen Polo Petrol Comfortline 1.2L',\n",
              " 'Maruti Alto LXi',\n",
              " 'Toyota Corolla H4',\n",
              " 'Maruti Alto LXi',\n",
              " 'Tata Manza ELAN Quadrajet BS IV',\n",
              " 'Maruti Alto LXi',\n",
              " 'Skoda Octavia Ambition Plus 2.0 TDI AT',\n",
              " 'Toyota Corolla H4',\n",
              " 'Hyundai i20 Asta Option 1.2',\n",
              " 'Maruti Vitara Brezza LDi',\n",
              " 'Honda City 1.5 V MT',\n",
              " 'Tata Indica Vista Aqua 1.3 Quadrajet',\n",
              " 'Honda Amaze S i-Dtech',\n",
              " 'Hyundai EON D Lite Plus',\n",
              " 'BMW 3 Series Luxury Line',\n",
              " 'Hyundai Verna 1.6 SX',\n",
              " 'Tata Manza Club Class Quadrajet90 LS',\n",
              " 'Skoda Octavia RS',\n",
              " 'Maruti Alto K10 VXI',\n",
              " 'Ford Ecosport 1.5 DV5 MT Titanium Optional',\n",
              " 'Chevrolet Spark 1.0 LS',\n",
              " 'Jaguar XF 2.0 Diesel Portfolio',\n",
              " 'Honda CR-V RVi MT',\n",
              " 'Skoda Superb L&K 1.8 TSI AT',\n",
              " 'Hyundai i10 Magna 1.2',\n",
              " 'Maruti Swift LDI',\n",
              " 'Maruti Swift Dzire VXi AT',\n",
              " 'Nissan Micra Diesel XV',\n",
              " 'Maruti Swift Dzire Tour LDI',\n",
              " 'Ford Fiesta Classic 1.4 Duratorq CLXI',\n",
              " 'Maruti Zen LX',\n",
              " 'Mini Clubman Cooper S',\n",
              " 'Toyota Etios GD',\n",
              " 'Maruti Alto 800 2016-2019 LXI',\n",
              " 'Maruti Alto VXi',\n",
              " 'BMW X5 3.0d',\n",
              " 'Nissan Teana XV',\n",
              " 'Hyundai Grand i10 AT Asta',\n",
              " 'Maruti Vitara Brezza ZDi Plus',\n",
              " 'Audi Q7 3.0 TDI Quattro Premium Plus',\n",
              " 'Mercedes-Benz GLA Class 200 CDI',\n",
              " 'Maruti 800 AC',\n",
              " 'Renault Duster 85PS Diesel RxL',\n",
              " 'Toyota Corolla Altis D-4D GL',\n",
              " 'Mercedes-Benz New C-Class 220',\n",
              " 'Maruti Ritz VDi',\n",
              " 'Honda BRV i-VTEC V CVT',\n",
              " 'Hyundai Xcent 1.1 CRDi Base',\n",
              " 'Mercedes-Benz E-Class 2009-2013 E250 CDI Avantgarde',\n",
              " 'Mercedes-Benz B Class B180',\n",
              " 'Mercedes-Benz E-Class 2015-2017 E250 Edition E',\n",
              " 'Honda City i VTEC VX Option',\n",
              " 'Hyundai Santro Xing XL eRLX Euro III',\n",
              " 'Honda City 1.5 S MT',\n",
              " 'Hyundai Verna Transform VTVT',\n",
              " 'Jaguar XE Portfolio',\n",
              " 'Honda Amaze S i-Vtech',\n",
              " 'Mini Cooper Convertible 1.6',\n",
              " 'Mercedes-Benz S Class 2005 2013 S 350 CDI',\n",
              " 'Hyundai EON Magna Plus',\n",
              " 'Maruti Wagon R VXI BS IV',\n",
              " 'Maruti Ritz LDi',\n",
              " 'BMW 3 Series 320d Sedan',\n",
              " 'Tata Xenon XT EX 4X2',\n",
              " 'Audi A3 35 TDI Attraction',\n",
              " 'Land Rover Range Rover 2.2L Dynamic',\n",
              " 'Mercedes-Benz GL-Class 2007 2012 350 CDI Luxury',\n",
              " 'Mitsubishi Pajero Sport 4X2 AT DualTone BlackTop',\n",
              " 'Maruti Alto LX',\n",
              " 'Maruti Wagon R LXI BSIII',\n",
              " 'Land Rover Range Rover 2.2L Prestige',\n",
              " 'Hyundai Verna 1.6 SX VTVT',\n",
              " 'BMW 5 Series 525d Sedan',\n",
              " 'Jaguar XF Diesel',\n",
              " 'Skoda Superb Elegance 1.8 TSI AT',\n",
              " 'Audi Q3 35 TDI Quattro Premium',\n",
              " 'Land Rover Range Rover 2.2L Pure',\n",
              " 'Mercedes-Benz New C-Class 220 CDI AT',\n",
              " 'Mahindra Scorpio S10 4WD',\n",
              " 'BMW 3 Series Luxury Line',\n",
              " 'Honda BR-V i-VTEC S MT',\n",
              " 'Volvo S80 2006-2013 D5',\n",
              " 'Hyundai Accent GLE',\n",
              " 'Hyundai i20 Active SX Petrol',\n",
              " 'Mercedes-Benz GLC 43 AMG Coupe',\n",
              " 'Hyundai EON Magna Plus',\n",
              " 'Hyundai Grand i10 SportZ Edition',\n",
              " 'Honda City 1.5 EXI S',\n",
              " 'Volkswagen Polo Petrol Trendline 1.2L',\n",
              " 'Audi A6 35 TFSI Matrix',\n",
              " 'Volkswagen Jetta 2007-2011 1.9 L TDI',\n",
              " 'Hyundai Creta 1.6 SX Plus Dual Tone Petrol',\n",
              " 'Mercedes-Benz New C-Class C 200 CGI Avantgarde',\n",
              " 'Mini Cooper Convertible S',\n",
              " 'Hyundai Santro Xing XO eRLX Euro II',\n",
              " 'Toyota Etios VD',\n",
              " 'Honda Brio S MT',\n",
              " 'Maruti Baleno Alpha Automatic',\n",
              " 'Skoda Laura Ambiente 2.0 TDI CR AT',\n",
              " 'Hyundai EON Era Plus',\n",
              " 'Renault Captur 1.5 Diesel RXL',\n",
              " 'BMW 5 Series 2003-2012 GT 530d LE',\n",
              " 'Maruti Alto 800 LXI',\n",
              " 'Volvo V40 D3',\n",
              " 'Maruti Wagon R LXI BSII',\n",
              " 'Honda City ZX GXi',\n",
              " 'Maruti Eeco 5 STR With AC Plus HTR CNG',\n",
              " 'Chevrolet Enjoy 1.4 LS 8',\n",
              " 'Mahindra Bolero ZLX',\n",
              " 'Hyundai Santro GLS I - Euro I',\n",
              " 'Hyundai EON D Lite',\n",
              " 'Hyundai Creta 1.6 SX Plus Petrol Automatic',\n",
              " 'Volkswagen Vento 1.6 Comfortline',\n",
              " 'Honda Civic 2006-2010 1.8 S AT',\n",
              " 'Tata Indica Vista Quadrajet LS',\n",
              " 'Mahindra XUV500 W8 2WD',\n",
              " 'Hyundai i20 1.2 Asta Option',\n",
              " 'Audi Q5 30 TDI quattro Premium Plus',\n",
              " 'Maruti Ritz VXi',\n",
              " 'Mitsubishi Cedia Sports',\n",
              " 'Toyota Innova 2.5 V Diesel 7-seater',\n",
              " 'Maruti Celerio LDi',\n",
              " 'Maruti S-Cross Delta DDiS 200 SH',\n",
              " 'Audi Q3 35 TDI Quattro Premium Plus',\n",
              " 'BMW 3 Series Luxury Line',\n",
              " 'Audi Q7 4.2 TDI Quattro Technology',\n",
              " 'Hyundai i20 2015-2017 Asta 1.2',\n",
              " 'Renault Duster 110PS Diesel RxL',\n",
              " 'Hyundai Xcent 1.1 CRDi S Celebration Edition',\n",
              " 'Ford Ecosport 1.5 DV5 MT Titanium',\n",
              " 'Volkswagen Polo Petrol Trendline 1.2L',\n",
              " 'Hyundai Grand i10 CRDi Magna',\n",
              " 'Tata Manza Aqua Quadrajet BS IV',\n",
              " 'Honda City 1.5 V MT',\n",
              " 'Hyundai Santro Xing GLS',\n",
              " 'Toyota Innova 2.5 VX (Diesel) 7 Seater',\n",
              " 'Maruti Ciaz 1.3 S',\n",
              " 'Toyota Fortuner 4x4 MT TRD Sportivo',\n",
              " 'Ford Fiesta 1.6 SXI ABS Duratec',\n",
              " 'Mercedes-Benz E-Class E 220 d',\n",
              " 'Mercedes-Benz New C-Class 220 CDI MT',\n",
              " 'Skoda Yeti Ambition 4X2',\n",
              " 'Hyundai Grand i10 Sportz',\n",
              " 'Ford Figo 2015-2019 1.2P Titanium MT',\n",
              " 'Skoda Octavia Ambition 1.4 TSI MT',\n",
              " 'Renault Duster 85PS Diesel RxL Option',\n",
              " 'Land Rover Range Rover Evoque 2.0 TD4 Pure',\n",
              " 'Ford Figo Diesel EXI',\n",
              " 'Ford Endeavour Hurricane Limited Edition',\n",
              " 'Toyota Fortuner 4x4 MT',\n",
              " 'Volkswagen Polo Diesel Comfortline 1.2L',\n",
              " 'Maruti Ritz VDi',\n",
              " 'Nissan Micra Diesel XV Premium',\n",
              " 'Hyundai Verna 1.6 SX',\n",
              " 'BMW 5 Series 2003-2012 523i',\n",
              " 'Mercedes-Benz GLS 350d 4MATIC',\n",
              " 'Honda CR-V 2.4L 4WD AT',\n",
              " 'Hyundai Creta 1.6 CRDi AT SX Plus',\n",
              " 'Hyundai i10 Era',\n",
              " 'Mercedes-Benz A Class A200 CDI Sport',\n",
              " 'Maruti Ertiga VXI',\n",
              " 'Skoda Octavia Classic 1.9 TDI MT',\n",
              " 'Honda Amaze VX i-Vtech',\n",
              " 'Maruti Zen LXi BSII',\n",
              " 'Maruti SX4 ZXI MT BSIV',\n",
              " 'Honda Brio VX AT',\n",
              " 'Maruti Wagon R VXI',\n",
              " 'Toyota Camry A/T',\n",
              " 'Chevrolet Beat LS',\n",
              " 'Toyota Fortuner 4x4 AT',\n",
              " 'Ford Ecosport 1.5 DV5 MT Titanium Optional',\n",
              " 'Maruti Swift Vdi BSIII',\n",
              " 'Mercedes-Benz S Class 2005 2013 S 350 CDI',\n",
              " 'Honda Mobilio S i VTEC',\n",
              " 'Hyundai Grand i10 Sportz',\n",
              " 'Mahindra XUV500 AT W8 FWD',\n",
              " 'Skoda Fabia 1.6 MPI Elegance',\n",
              " 'Hyundai Santro Xing GLS',\n",
              " 'Hyundai Creta 1.6 SX Plus Dual Tone Petrol',\n",
              " 'Mahindra Scorpio 1.99 S8',\n",
              " 'Skoda Rapid 1.6 TDI Ambition',\n",
              " 'Renault Duster 110PS Diesel RxZ',\n",
              " 'BMW X5 xDrive 30d',\n",
              " 'Toyota Etios G',\n",
              " 'Maruti Wagon R LXI',\n",
              " 'Hyundai Creta 1.6 SX',\n",
              " 'Maruti Celerio VXI',\n",
              " 'Land Rover Range Rover HSE Dynamic',\n",
              " 'Chevrolet Beat LT',\n",
              " 'Tata Nano Twist XT',\n",
              " 'Audi A6 2011-2015 35 TDI Technology',\n",
              " 'Mercedes-Benz E-Class 280 CDI',\n",
              " 'Maruti Swift VXI',\n",
              " 'Fiat Linea T Jet',\n",
              " 'Maruti Swift VXI Optional',\n",
              " 'Toyota Fortuner 3.0 Diesel',\n",
              " 'Maruti Ertiga ZXI',\n",
              " 'BMW 3 Series 320i Sedan',\n",
              " 'Maruti Ertiga VXI',\n",
              " 'Honda City 1.5 V AT',\n",
              " 'Hyundai Santa Fe 4X4',\n",
              " 'Tata Indigo LS',\n",
              " 'Mercedes-Benz E-Class 2009-2013 E 250 Elegance',\n",
              " 'Maruti Swift Dzire LDi',\n",
              " 'Ford Fiesta Classic 1.4 Duratorq CLXI',\n",
              " 'Honda City i VTEC CVT VX',\n",
              " 'Toyota Fortuner 4x2 Manual',\n",
              " 'Honda Amaze VX O i VTEC',\n",
              " 'Hyundai i20 Asta 1.4 CRDi',\n",
              " 'Chevrolet Enjoy TCDi LTZ 7 Seater',\n",
              " 'Mercedes-Benz New C-Class Progressive C 200',\n",
              " 'Maruti SX4 ZXI AT Leather',\n",
              " 'Toyota Innova 2.5 VX (Diesel) 7 Seater',\n",
              " 'BMW 5 Series 2003-2012 520d',\n",
              " 'Renault Duster 110PS Diesel RxZ',\n",
              " 'BMW X1 sDrive 20d xLine',\n",
              " 'Honda City ZX GXi',\n",
              " 'Maruti Ciaz RS ZDi Plus SHVS',\n",
              " 'Maruti Swift Dzire VXi',\n",
              " 'Mahindra XUV500 W6 2WD',\n",
              " 'Honda Civic 2006-2010 1.8 S MT',\n",
              " 'Maruti Ertiga ZDI',\n",
              " 'Toyota Etios Liva GD',\n",
              " 'Audi TT 2.0 TFSI',\n",
              " 'Skoda Rapid 1.5 TDI Style',\n",
              " 'Volkswagen Polo 1.5 TDI Highline',\n",
              " 'Skoda Laura 1.9 TDI AT Elegance',\n",
              " 'Mahindra Renault Logan 1.5 DLE Diesel',\n",
              " 'Toyota Innova Crysta 2.8 GX AT',\n",
              " 'BMW 3 Series 320d Luxury Line',\n",
              " 'Honda Jazz 1.5 S i DTEC',\n",
              " 'Honda Amaze VX i-DTEC',\n",
              " 'Jaguar XF 2.2 Litre Luxury',\n",
              " 'Maruti Swift Dzire VDI',\n",
              " 'Jeep Compass 2.0 Limited',\n",
              " 'Toyota Corolla Altis 1.8 Sport',\n",
              " 'Honda City 1.5 V MT',\n",
              " 'Maruti Swift ZXI',\n",
              " 'Hyundai Verna 1.6 SX CRDI (O) AT',\n",
              " 'Mahindra Bolero ZLX',\n",
              " 'Maruti Swift VDI',\n",
              " 'Hyundai Santro Xing XO',\n",
              " 'Audi A6 2011-2015 2.0 TDI Premium Plus',\n",
              " 'Ford Ikon 1.3 LXi NXt',\n",
              " 'Volkswagen Polo 1.5 TDI Highline',\n",
              " 'Mahindra Bolero VLX CRDe',\n",
              " 'Honda City i DTEC VX Option',\n",
              " 'Chevrolet Sail Hatchback 1.2 LS',\n",
              " 'Hyundai i20 1.2 Spotz',\n",
              " 'BMW X1 sDrive 20d Sportline',\n",
              " 'BMW X1 sDrive 20d Exclusive',\n",
              " 'Toyota Fortuner 4x2 AT',\n",
              " 'Audi Q7 4.2 TDI Quattro Technology',\n",
              " 'Maruti Ertiga VDI',\n",
              " 'Hyundai i20 1.2 Magna',\n",
              " 'Mercedes-Benz S Class 2005 2013 S 350 L',\n",
              " 'Renault Duster 85PS Diesel RxL',\n",
              " 'Mahindra Quanto C2',\n",
              " 'Toyota Fortuner 4x2 AT',\n",
              " 'BMW X5 2014-2019 xDrive 30d Design Pure Experience 7 Seater',\n",
              " 'Maruti Swift Dzire VDi',\n",
              " 'Maruti Swift LDI Optional',\n",
              " 'Audi A6 2011-2015 35 TFSI Technology',\n",
              " 'Mitsubishi Pajero 2.8 SFX BSIV Dual Tone',\n",
              " 'Jaguar XF 2.2 Litre Executive',\n",
              " 'Toyota Innova Crysta 2.8 ZX AT',\n",
              " 'Skoda Octavia Ambition 2.0 TDI AT',\n",
              " 'Toyota Corolla Altis VL AT',\n",
              " 'Maruti Omni 8 Seater BSII',\n",
              " 'Mercedes-Benz GLC 220d 4MATIC Style',\n",
              " 'Volkswagen Vento 1.5 TDI Highline AT',\n",
              " 'Mahindra XUV500 W10 2WD',\n",
              " 'Nissan Terrano XL 85 PS',\n",
              " 'Hyundai Verna 1.6 SX CRDi (O)',\n",
              " 'BMW 5 Series 2013-2017 530d M Sport',\n",
              " 'Mahindra Scorpio S4 Plus',\n",
              " 'Hyundai Verna 1.6 CRDi SX',\n",
              " 'Audi Q7 3.0 TDI Quattro Premium Plus',\n",
              " 'Chevrolet Aveo U-VA 1.2 LT',\n",
              " 'Mahindra Bolero ZLX BSIII',\n",
              " 'Hyundai Xcent 1.2 Kappa S',\n",
              " 'Toyota Innova Crysta 2.4 GX MT 8S',\n",
              " 'Hyundai EON Era Plus',\n",
              " 'Volkswagen Polo Diesel Comfortline 1.2L',\n",
              " 'Maruti Vitara Brezza ZDi',\n",
              " 'BMW 3 Series 320d Prestige',\n",
              " 'Hyundai EON Sportz',\n",
              " 'Honda City 1.5 S MT',\n",
              " 'Honda Accord 2.4 MT',\n",
              " 'Mahindra Xylo E8',\n",
              " 'BMW 3 Series 320d',\n",
              " 'Honda City V MT',\n",
              " 'Mahindra XUV500 W10 2WD',\n",
              " 'Hyundai i20 Asta 1.4 CRDi',\n",
              " 'Toyota Fortuner 4x2 Manual',\n",
              " 'Mahindra Bolero DI BSII',\n",
              " 'Maruti Esteem Vxi - BSIII',\n",
              " 'Hyundai Santro LS zipPlus',\n",
              " 'Mini Cooper 5 DOOR D',\n",
              " 'Audi Q3 35 TDI Quattro Premium',\n",
              " 'Hyundai i20 Sportz Option',\n",
              " 'Tata Safari Storme VX Varicor 400',\n",
              " 'Honda BR-V i-DTEC VX MT',\n",
              " 'Volkswagen Jetta 2013-2015 2.0L TDI Highline',\n",
              " 'Hyundai Xcent 1.2 Kappa S Option',\n",
              " 'Maruti Ignis 1.2 Alpha',\n",
              " 'BMW 5 Series 2013-2017 520d Luxury Line',\n",
              " 'Ford Ikon 1.3 CLXi',\n",
              " 'Hyundai i10 Sportz',\n",
              " 'Hyundai Verna 1.6 CRDI',\n",
              " 'BMW 3 Series 320d Highline',\n",
              " 'Mercedes-Benz E-Class 2009-2013 E200 CGI Blue Efficiency',\n",
              " 'Chevrolet Beat Option Pack',\n",
              " 'Hyundai Santro Xing XP',\n",
              " 'Tata Indica DLS',\n",
              " 'Mahindra XUV500 W8 2WD',\n",
              " 'Maruti Ciaz ZDi Plus SHVS',\n",
              " 'Mercedes-Benz New C-Class C 250 CDI Avantgarde',\n",
              " 'Honda City ZX CVT',\n",
              " 'Toyota Fortuner 4x2 4 Speed AT',\n",
              " 'Maruti Alto K10 VXI',\n",
              " 'Jaguar XJ 2.0L Portfolio',\n",
              " 'Hyundai i20 1.4 Magna ABS',\n",
              " 'Honda BRV i-VTEC V CVT',\n",
              " 'Toyota Corolla Executive (HE)',\n",
              " 'Audi A6 2011-2015 2.0 TDI Premium Plus',\n",
              " 'Toyota Innova 2.5 ZX Diesel 7 Seater BSIII',\n",
              " 'Hyundai Grand i10 CRDi Sportz',\n",
              " 'Volkswagen Vento IPL II Petrol Highline AT',\n",
              " 'Toyota Innova 2.5 VX (Diesel) 7 Seater BS IV',\n",
              " 'Hyundai Verna CRDi SX',\n",
              " 'Maruti Ritz VDi',\n",
              " 'Audi Q7 3.0 TDI Quattro Technology',\n",
              " 'Hyundai i20 Asta Option 1.2',\n",
              " 'Maruti Vitara Brezza ZDi Plus Dual Tone',\n",
              " 'Honda City i VTEC S',\n",
              " 'Maruti Ciaz ZXi',\n",
              " 'Nissan Sunny XV CVT',\n",
              " 'Volkswagen Polo Diesel Highline 1.2L',\n",
              " 'Maruti Ertiga ZDI',\n",
              " 'Maruti Swift Dzire VDI',\n",
              " 'Mercedes-Benz New C-Class C 220 CDI Elegance AT',\n",
              " 'Honda Brio S MT',\n",
              " 'Hyundai i10 Magna Optional 1.1L',\n",
              " 'Hyundai Verna 1.6 SX CRDi (O)',\n",
              " 'Maruti Ciaz VDI SHVS',\n",
              " 'Ford Ikon 1.3 Flair',\n",
              " 'Volkswagen Polo 1.2 MPI Highline',\n",
              " 'Honda Jazz 1.2 V i VTEC',\n",
              " 'Honda Amaze EX i-Dtech',\n",
              " 'Hyundai i20 Asta 1.4 CRDi',\n",
              " 'Maruti Ritz VDi',\n",
              " 'Honda City V MT',\n",
              " 'Skoda Superb 1.8 TSI MT',\n",
              " 'Maruti Vitara Brezza LDi Option',\n",
              " 'Hyundai i20 Asta',\n",
              " 'Maruti Alto K10 VXI AGS',\n",
              " 'Hyundai EON Era Plus',\n",
              " 'Hyundai i10 Sportz',\n",
              " 'Mercedes-Benz SLK-Class SLK 350',\n",
              " 'Audi A6 2.0 TDI Design Edition',\n",
              " 'Ford EcoSport 1.5 TDCi Titanium',\n",
              " 'Volkswagen Passat Highline DSG',\n",
              " 'Toyota Innova Crysta 2.4 ZX MT',\n",
              " 'Ford Figo Diesel ZXI',\n",
              " 'Chevrolet Aveo 1.4',\n",
              " 'Maruti Ritz LXi',\n",
              " 'Land Rover Freelander 2 SE',\n",
              " 'Hyundai Grand i10 Asta',\n",
              " 'Ford Endeavour 3.2 Trend AT 4X4',\n",
              " 'Audi Q5 2008-2012 2.0 TDI',\n",
              " 'Hyundai Verna 1.6 VTVT',\n",
              " 'Mercedes-Benz E-Class 2015-2017 E250 CDI Avantgarde',\n",
              " 'Mercedes-Benz M-Class ML 350 4Matic',\n",
              " 'Maruti Swift Dzire ZXi',\n",
              " 'Honda City 1.3 EXI S',\n",
              " 'Renault Duster 85PS Diesel RxL Optional',\n",
              " 'Mercedes-Benz New C-Class 220 CDI AT',\n",
              " 'BMW X5 xDrive 30d Design Pure Experience 5 Seater',\n",
              " 'Hyundai Xcent 1.2 Kappa SX Option',\n",
              " 'Maruti Dzire AMT ZXI Plus',\n",
              " 'BMW 3 Series 320d Corporate Edition',\n",
              " 'Maruti Alto 800 LXI',\n",
              " 'Audi A4 2.0 TDI 177 Bhp Premium Plus',\n",
              " 'Mini Cooper S',\n",
              " 'Audi Q7 3.0 TDI Quattro Premium Plus',\n",
              " 'Chevrolet Beat Diesel LT',\n",
              " 'Maruti Wagon R LXI BS IV',\n",
              " 'Nissan Terrano XV Premium 110 PS',\n",
              " 'BMW 3 Series 320d Luxury Plus',\n",
              " 'Maruti Swift Dzire VXI',\n",
              " 'Skoda Yeti Elegance 4X2',\n",
              " 'Ford EcoSport 1.5 Ti VCT AT Titanium',\n",
              " 'Hyundai i20 1.2 Magna',\n",
              " 'Maruti S Cross DDiS 200 Sigma Option',\n",
              " 'Hyundai Verna Transform VTVT',\n",
              " 'BMW 3 Series 320d Luxury Line',\n",
              " 'Hyundai Grand i10 1.2 CRDi Magna',\n",
              " 'Honda City i-VTEC V',\n",
              " 'Maruti Swift 1.3 VXi',\n",
              " 'Maruti Swift VDI BSIV',\n",
              " 'Maruti Baleno Zeta 1.3',\n",
              " 'Tata Safari Storme 2012-2015 LX',\n",
              " 'Hyundai Accent GLS',\n",
              " 'Maruti Swift LDI SP Limited Edition',\n",
              " 'Maruti Swift VDI BSIV',\n",
              " 'Tata Nano XTA',\n",
              " 'Maruti Ertiga VDI',\n",
              " 'Maruti Celerio VXI AMT',\n",
              " 'Maruti Swift VDI BSIV',\n",
              " 'Volkswagen Vento Petrol Highline',\n",
              " 'Volkswagen Jetta 2007-2011 1.9 Highline TDI',\n",
              " 'Mini Cooper 5 DOOR D',\n",
              " 'Tata Indica V2 DLS',\n",
              " 'Hyundai Santro Xing XO',\n",
              " 'Land Rover Range Rover 3.0 D',\n",
              " 'Honda City i-VTEC CVT VX',\n",
              " 'Jaguar XF 2.2 Litre Luxury',\n",
              " 'Mercedes-Benz E-Class 2015-2017 E250 Edition E',\n",
              " 'Chevrolet Cruze LTZ',\n",
              " 'Mahindra XUV500 W8 2WD',\n",
              " 'Mercedes-Benz New C-Class C 200 CGI Avantgarde',\n",
              " 'Honda Jazz VX',\n",
              " 'Toyota Etios G',\n",
              " 'Maruti Alto LXi BSIII',\n",
              " 'Maruti Swift VXI BSIV',\n",
              " 'Maruti A-Star Vxi',\n",
              " 'Tata Nano Lx BSIV',\n",
              " 'Ford Figo Titanium Diesel',\n",
              " 'Fiat Linea Emotion',\n",
              " 'Ford Figo Aspire 1.2 Ti-VCT Trend',\n",
              " 'Maruti Baleno LXI',\n",
              " 'BMW 3 Series 320d Luxury Line',\n",
              " 'Chevrolet Cruze LTZ',\n",
              " 'Mahindra Scorpio 2.6 DX',\n",
              " 'Tata Indica V2 eLS',\n",
              " 'Chevrolet Cruze LTZ AT',\n",
              " 'Toyota Innova 2.5 V Diesel 8-seater',\n",
              " 'Mercedes-Benz New C-Class C 220d Avantgarde Edition C',\n",
              " 'Maruti Ritz VXi',\n",
              " 'Toyota Innova 2.5 GX (Diesel) 8 Seater BS IV',\n",
              " 'Toyota Fortuner 4x4 MT',\n",
              " 'Hyundai i10 Sportz AT',\n",
              " 'Hyundai Verna 1.6 SX',\n",
              " 'Audi Q3 2012-2015 35 TDI Quattro Premium Plus',\n",
              " 'Chevrolet Beat LS',\n",
              " 'Ford Fiesta 1.4 Duratorq ZXI',\n",
              " 'Ford Figo Diesel EXI',\n",
              " 'Maruti Celerio VXI AT',\n",
              " 'Mercedes-Benz A Class A180 CDI',\n",
              " 'Hyundai Creta 1.6 SX',\n",
              " 'Maruti Wagon R VXI BS IV',\n",
              " 'Mercedes-Benz E-Class 2009-2013 E 220 CDI Avantgarde',\n",
              " 'Ford EcoSport 1.5 Ti VCT MT Titanium BE',\n",
              " 'Renault Koleos 2.0 Diesel',\n",
              " 'Mahindra XUV500 W10 2WD',\n",
              " 'Maruti Omni E 8 Str STD',\n",
              " 'Maruti Wagon R VXI',\n",
              " 'Ford Endeavour XLT TDCi 4X2',\n",
              " 'Hyundai Verna 1.6 SX',\n",
              " 'Hyundai i20 Magna 1.2',\n",
              " 'Maruti Ertiga ZXI',\n",
              " 'Mahindra XUV500 W9 AT',\n",
              " 'Maruti SX4 S Cross DDiS 200 Zeta',\n",
              " 'Mercedes-Benz SLK-Class SLK 350',\n",
              " 'Volkswagen Polo Diesel Comfortline 1.2L',\n",
              " 'Toyota Fortuner 4x4 MT',\n",
              " 'Mahindra XUV500 W10 2WD',\n",
              " 'Mercedes-Benz GLE 250d',\n",
              " 'Honda Jazz 1.2 VX i VTEC',\n",
              " 'Maruti Swift Dzire VDI',\n",
              " 'Hyundai Verna 1.6 SX VTVT',\n",
              " 'Ford Endeavour 3.2 Titanium AT 4X4',\n",
              " 'Hyundai i20 1.2 Asta Option',\n",
              " 'Honda City 1.5 V MT Sunroof',\n",
              " 'Honda Amaze VX Diesel',\n",
              " 'Hyundai Verna 1.6 SX VTVT (O)',\n",
              " 'Honda Mobilio S i DTEC',\n",
              " 'Maruti Ertiga ZDI',\n",
              " 'Maruti Alto K10 LXI',\n",
              " 'Toyota Qualis FS B2',\n",
              " 'Hyundai i10 Sportz',\n",
              " 'Skoda Laura 1.9 TDI AT Ambiente',\n",
              " 'Hyundai i20 Asta Option 1.2',\n",
              " 'BMW 5 Series 2003-2012 530d Highline',\n",
              " 'BMW 3 Series 320d M Sport',\n",
              " 'Chevrolet Aveo 1.4 LT ABS BSIV',\n",
              " 'Mercedes-Benz E-Class 2009-2013 E250 CDI Elegance',\n",
              " 'Audi A6 2011-2015 2.0 TDI Premium Plus',\n",
              " 'Maruti Wagon R LXI BS IV',\n",
              " 'Renault KWID RXT',\n",
              " 'Volkswagen Ameo 1.5 TDI Highline',\n",
              " 'Volkswagen Polo Diesel Comfortline 1.2L',\n",
              " 'Maruti Alto 800 LXI',\n",
              " 'Hyundai i20 Asta Option 1.2',\n",
              " 'Toyota Etios Liva G',\n",
              " 'Hyundai i20 1.2 Sportz',\n",
              " 'Hyundai i20 1.4 Asta',\n",
              " 'Maruti Wagon R LXI Optional',\n",
              " 'Hyundai i20 1.4 Asta Option',\n",
              " 'Volkswagen Polo GT TSI',\n",
              " 'Ford Figo Diesel Titanium',\n",
              " 'Maruti Swift ZXI',\n",
              " 'Hyundai Grand i10 CRDi Magna',\n",
              " 'Mahindra Xylo H4',\n",
              " 'Maruti Alto Green LXi (CNG)',\n",
              " 'Hyundai i10 Magna 1.1',\n",
              " 'Skoda Octavia Elegance 2.0 TDI AT',\n",
              " 'BMW X5 2014-2019 xDrive 30d Design Pure Experience 7 Seater',\n",
              " 'Maruti Celerio VXI AT',\n",
              " 'Volkswagen Vento Diesel Comfortline',\n",
              " 'BMW 3 Series 320d Highline',\n",
              " 'Maruti Ertiga ZDI',\n",
              " 'Ford Figo Diesel ZXI',\n",
              " 'Volkswagen Polo 1.2 MPI Highline',\n",
              " 'Audi A6 3.0 TDI quattro',\n",
              " 'Toyota Innova Crysta 2.4 ZX MT',\n",
              " 'Hyundai Verna 1.6 CRDi EX AT',\n",
              " 'Hyundai Santro Xing GL Plus',\n",
              " 'Audi A4 2.0 TDI',\n",
              " 'Audi A4 2.0 TDI',\n",
              " 'Skoda Laura 1.9 TDI MT Ambiente',\n",
              " 'Honda CR-V 2.0L 2WD AT',\n",
              " 'Hyundai Verna 1.6 SX CRDi (O)',\n",
              " 'Honda Mobilio RS i DTEC',\n",
              " 'Hyundai i20 1.2 Asta Option',\n",
              " 'Toyota Innova 2.5 G (Diesel) 7 Seater BS IV',\n",
              " 'Hyundai i20 Magna 1.2',\n",
              " 'Mahindra Bolero VLX BS IV',\n",
              " 'Volkswagen Vento 1.5 TDI Comfortline',\n",
              " 'Jaguar XF 2.2 Litre Luxury',\n",
              " 'Maruti Zen LXi - BS III',\n",
              " 'Mercedes-Benz E-Class Facelift',\n",
              " 'Toyota Fortuner 3.0 Diesel',\n",
              " 'Hyundai Grand i10 AT Asta',\n",
              " 'Hyundai Xcent 1.2 CRDi S',\n",
              " 'Hyundai Creta 1.6 VTVT S',\n",
              " 'Hyundai i10 Sportz',\n",
              " 'Honda Brio S MT',\n",
              " 'Toyota Fortuner 4x2 AT',\n",
              " 'Audi A4 2.0 TDI Multitronic',\n",
              " 'Toyota Innova Crysta 2.8 ZX AT',\n",
              " 'Honda City i DTEC VX',\n",
              " 'Honda City i DTEC VX',\n",
              " 'Renault KWID 1.0 RXT Optional',\n",
              " 'Maruti Swift DDiS ZDI Plus',\n",
              " 'Maruti Celerio VXI Optional AMT',\n",
              " 'Mahindra XUV500 W8 2WD',\n",
              " 'Hyundai i10 Magna',\n",
              " 'Hyundai i10 Magna 1.1',\n",
              " 'Maruti Dzire VXI',\n",
              " 'Maruti Grand Vitara AT',\n",
              " 'Audi TT 40 TFSI',\n",
              " 'Mercedes-Benz New C-Class C 200 CGI',\n",
              " 'Nissan Sunny 2011-2014 Diesel XV',\n",
              " 'Maruti Wagon R LXI',\n",
              " 'Maruti Swift Dzire ZDI',\n",
              " 'Honda Amaze S i-Dtech',\n",
              " 'Maruti Swift ZDI',\n",
              " 'Hyundai Accent Executive CNG',\n",
              " 'Mahindra Scorpio LX 2.6 Turbo',\n",
              " 'Mercedes-Benz E-Class E250 CDI Avantgrade',\n",
              " 'Toyota Fortuner 4x2 Manual',\n",
              " 'Datsun redi-GO T Option',\n",
              " 'Honda City V MT',\n",
              " 'Toyota Camry Hybrid',\n",
              " 'Honda City i DTec V',\n",
              " 'Volkswagen Jetta 2012-2014 2.0L TDI Trendline',\n",
              " 'Audi A6 2011-2015 2.0 TDI',\n",
              " 'Maruti Ertiga VDI',\n",
              " 'Mercedes-Benz New C-Class C 220 CDI Style',\n",
              " 'Maruti Swift Dzire Vdi BSIV',\n",
              " 'Renault Duster 110PS Diesel RxZ Pack',\n",
              " 'Maruti Ritz VDi',\n",
              " 'Maruti Swift Dzire VXI',\n",
              " 'Maruti Swift ZDi',\n",
              " 'Hyundai EON Sportz',\n",
              " 'Maruti Zen VXI BSII',\n",
              " 'Maruti Eeco 7 Seater Standard',\n",
              " 'Audi Q5 30 TDI quattro Premium',\n",
              " 'Audi Q3 2.0 TDI',\n",
              " 'Smart Fortwo CDI AT',\n",
              " 'Maruti Swift Dzire VDi',\n",
              " 'Tata Sumo DX',\n",
              " 'BMW X5 2014-2019 xDrive 30d Design Pure Experience 7 Seater',\n",
              " 'Honda City i-VTEC CVT VX',\n",
              " 'Tata Indigo eCS eLX BS IV',\n",
              " 'Volkswagen Vento TSI',\n",
              " 'Maruti Celerio VXI',\n",
              " 'Toyota Fortuner 3.0 Diesel',\n",
              " 'Mitsubishi Outlander 2.4',\n",
              " 'Volkswagen Jetta 2007-2011 1.9 Highline TDI',\n",
              " 'Porsche Cayman 2009-2012 S',\n",
              " 'Hyundai Creta 1.6 CRDi SX',\n",
              " 'Skoda Fabia 1.2 MPI Ambiente Petrol',\n",
              " 'Ford EcoSport 1.5 TDCi Titanium',\n",
              " 'Maruti Zen Estilo 1.1 LXI BSIII',\n",
              " 'Maruti Ciaz 1.4 Delta',\n",
              " 'Mercedes-Benz New C-Class C 200 Avantgarde Edition C',\n",
              " 'Honda Amaze SX i-VTEC',\n",
              " 'Toyota Etios GD',\n",
              " 'Renault Duster 85PS Diesel RxL',\n",
              " 'Maruti Wagon R LXI LPG BSIV',\n",
              " 'Volkswagen Polo Petrol Highline 1.2L',\n",
              " 'Hyundai Creta 1.6 SX Plus Diesel',\n",
              " 'Jaguar XF Diesel',\n",
              " 'Jeep Compass 2.0 Limited 4X4',\n",
              " 'Land Rover Range Rover Evoque 2.0 TD4 HSE Dynamic',\n",
              " 'Maruti Baleno Alpha Diesel',\n",
              " 'Maruti Ciaz ZDi SHVS',\n",
              " 'Maruti SX4 Vxi BSIII',\n",
              " 'Hyundai Elantra CRDi SX',\n",
              " 'Mitsubishi Pajero Sport 4X4',\n",
              " 'Volkswagen Ameo 1.2 MPI Comfortline',\n",
              " 'Maruti Ritz VXi',\n",
              " 'Hyundai Verna CRDi SX',\n",
              " 'Maruti Swift Dzire Tour LDI',\n",
              " 'Mahindra KUV 100 mFALCON D75 K6',\n",
              " 'Toyota Innova Crysta 2.4 ZX MT',\n",
              " 'Maruti Baleno Delta 1.2',\n",
              " 'Honda Jazz VX Diesel',\n",
              " 'Hyundai i20 1.2 Asta',\n",
              " 'Hyundai i20 Sportz Diesel',\n",
              " 'Mercedes-Benz New C-Class C 220d Avantgarde Edition C',\n",
              " 'Hyundai Xcent 1.2 Kappa Base',\n",
              " 'Hyundai Grand i10 AT Asta',\n",
              " 'Maruti Alto 800 VXI',\n",
              " 'Chevrolet Sail Hatchback 1.2 LS',\n",
              " 'Mercedes-Benz C-Class Progressive C 220d',\n",
              " 'Skoda Superb Elegance 1.8 TSI AT',\n",
              " 'Audi A4 2.0 TDI',\n",
              " 'Toyota Innova 2.5 G (Diesel) 7 Seater BS IV',\n",
              " 'Mercedes-Benz CLA 200 CDI Sport',\n",
              " 'Hyundai i10 Era',\n",
              " 'Maruti Swift Dzire VXi',\n",
              " 'Skoda Rapid 1.5 TDI AT Ambition',\n",
              " 'Maruti Ritz VDi',\n",
              " 'Hyundai Accent GLS 1.6',\n",
              " 'Honda Amaze SX i-VTEC',\n",
              " 'Maruti Wagon R LXI',\n",
              " 'Volkswagen Polo Diesel Comfortline 1.2L',\n",
              " 'Ford Endeavour 2.2 Trend AT 4X2',\n",
              " 'Hyundai i20 1.2 Sportz',\n",
              " 'Chevrolet Beat Diesel PS',\n",
              " 'Honda Civic 2010-2013 1.8 V MT',\n",
              " 'Maruti Wagon R VXI BS IV',\n",
              " 'Skoda Rapid 1.6 MPI Ambition Plus',\n",
              " 'Maruti Baleno Vxi - BSIII',\n",
              " 'Ford EcoSport 1.5 TDCi Titanium',\n",
              " 'Hyundai Accent GLE',\n",
              " 'BMW 5 Series 520d Luxury Line',\n",
              " 'Maruti Alto K10 2010-2014 VXI',\n",
              " 'Audi Q3 2012-2015 2.0 TDI Quattro Premium Plus',\n",
              " 'Maruti Wagon R LXI DUO BSIII',\n",
              " 'Toyota Corolla H4',\n",
              " 'Volvo XC60 D5',\n",
              " 'Honda Jazz 1.5 VX i DTEC',\n",
              " 'Maruti Ciaz 1.3 Alpha',\n",
              " 'Maruti Swift VXI BSIV',\n",
              " 'Mercedes-Benz New C-Class C 220 CDI Avantgarde',\n",
              " 'Maruti Wagon R VXI Minor',\n",
              " 'Mercedes-Benz A Class A180 Sport',\n",
              " 'Hyundai Santro Xing GL',\n",
              " 'Maruti Swift Dzire AMT ZDI',\n",
              " 'Hyundai Grand i10 AT Asta',\n",
              " 'Nissan Sunny 2011-2014 XV Special Edition',\n",
              " ...]"
            ]
          },
          "metadata": {},
          "execution_count": 216
        }
      ]
    },
    {
      "cell_type": "code",
      "metadata": {
        "colab": {
          "base_uri": "https://localhost:8080/"
        },
        "id": "y3lYPhB8_x_k",
        "outputId": "baff84b5-71f1-4a4c-8edf-7ebd65756365"
      },
      "source": [
        "df_temp_notnull['Name'] = df_temp_notnull['Name'].apply(str)"
      ],
      "execution_count": 217,
      "outputs": [
        {
          "output_type": "stream",
          "text": [
            "/usr/local/lib/python3.7/dist-packages/ipykernel_launcher.py:1: SettingWithCopyWarning: \n",
            "A value is trying to be set on a copy of a slice from a DataFrame.\n",
            "Try using .loc[row_indexer,col_indexer] = value instead\n",
            "\n",
            "See the caveats in the documentation: https://pandas.pydata.org/pandas-docs/stable/user_guide/indexing.html#returning-a-view-versus-a-copy\n",
            "  \"\"\"Entry point for launching an IPython kernel.\n"
          ],
          "name": "stderr"
        }
      ]
    },
    {
      "cell_type": "code",
      "metadata": {
        "colab": {
          "base_uri": "https://localhost:8080/"
        },
        "id": "gwzi06NYAQxZ",
        "outputId": "b86ee593-dd2a-46e0-ec69-e1006578f09c"
      },
      "source": [
        "df_temp_notnull.info()"
      ],
      "execution_count": 218,
      "outputs": [
        {
          "output_type": "stream",
          "text": [
            "<class 'pandas.core.frame.DataFrame'>\n",
            "Int64Index: 6017 entries, 0 to 6018\n",
            "Data columns (total 13 columns):\n",
            " #   Column             Non-Null Count  Dtype  \n",
            "---  ------             --------------  -----  \n",
            " 0   Name               6017 non-null   object \n",
            " 1   Location           6017 non-null   object \n",
            " 2   Year               6017 non-null   int64  \n",
            " 3   Kilometers_Driven  6017 non-null   int64  \n",
            " 4   Fuel_Type          6017 non-null   object \n",
            " 5   Transmission       6017 non-null   object \n",
            " 6   Owner_Type         6017 non-null   object \n",
            " 7   Mileage            6017 non-null   object \n",
            " 8   Engine             5981 non-null   object \n",
            " 9   Power              5981 non-null   object \n",
            " 10  Seats              5975 non-null   float64\n",
            " 11  New_Price          823 non-null    object \n",
            " 12  Price              6017 non-null   float64\n",
            "dtypes: float64(2), int64(2), object(9)\n",
            "memory usage: 818.1+ KB\n"
          ],
          "name": "stdout"
        }
      ]
    },
    {
      "cell_type": "code",
      "metadata": {
        "id": "tG1xlsFivYFM"
      },
      "source": [
        "mean_value = {}"
      ],
      "execution_count": 219,
      "outputs": []
    },
    {
      "cell_type": "code",
      "metadata": {
        "id": "dtH_kTq6vzwY"
      },
      "source": [
        "temp_list2 = list(df_temp_notnull)"
      ],
      "execution_count": 220,
      "outputs": []
    },
    {
      "cell_type": "code",
      "metadata": {
        "id": "S1znp2Y3vtQA"
      },
      "source": [
        "n = len(shcp_list)"
      ],
      "execution_count": 221,
      "outputs": []
    },
    {
      "cell_type": "code",
      "metadata": {
        "colab": {
          "base_uri": "https://localhost:8080/"
        },
        "id": "sQjVJ1wXBjSf",
        "outputId": "0b0afa48-ac8b-40ae-d8bd-ad04a0668973"
      },
      "source": [
        "print(\"n is \",n)"
      ],
      "execution_count": 222,
      "outputs": [
        {
          "output_type": "stream",
          "text": [
            "n is  13\n"
          ],
          "name": "stdout"
        }
      ]
    },
    {
      "cell_type": "code",
      "metadata": {
        "id": "XW5yT6THwwp6"
      },
      "source": [
        "shcp_numerical_notnull = df_temp_notnull.select_dtypes(include = ['int64','float64'], exclude = None)"
      ],
      "execution_count": 223,
      "outputs": []
    },
    {
      "cell_type": "code",
      "metadata": {
        "colab": {
          "base_uri": "https://localhost:8080/",
          "height": 419
        },
        "id": "9ETDWAJKw302",
        "outputId": "9f35a699-a91e-4706-e4f0-406a9298d757"
      },
      "source": [
        "shcp_numerical_notnull"
      ],
      "execution_count": 224,
      "outputs": [
        {
          "output_type": "execute_result",
          "data": {
            "text/html": [
              "<div>\n",
              "<style scoped>\n",
              "    .dataframe tbody tr th:only-of-type {\n",
              "        vertical-align: middle;\n",
              "    }\n",
              "\n",
              "    .dataframe tbody tr th {\n",
              "        vertical-align: top;\n",
              "    }\n",
              "\n",
              "    .dataframe thead th {\n",
              "        text-align: right;\n",
              "    }\n",
              "</style>\n",
              "<table border=\"1\" class=\"dataframe\">\n",
              "  <thead>\n",
              "    <tr style=\"text-align: right;\">\n",
              "      <th></th>\n",
              "      <th>Year</th>\n",
              "      <th>Kilometers_Driven</th>\n",
              "      <th>Seats</th>\n",
              "      <th>Price</th>\n",
              "    </tr>\n",
              "  </thead>\n",
              "  <tbody>\n",
              "    <tr>\n",
              "      <th>0</th>\n",
              "      <td>2010</td>\n",
              "      <td>72000</td>\n",
              "      <td>5.0</td>\n",
              "      <td>1.75</td>\n",
              "    </tr>\n",
              "    <tr>\n",
              "      <th>1</th>\n",
              "      <td>2015</td>\n",
              "      <td>41000</td>\n",
              "      <td>5.0</td>\n",
              "      <td>12.50</td>\n",
              "    </tr>\n",
              "    <tr>\n",
              "      <th>2</th>\n",
              "      <td>2011</td>\n",
              "      <td>46000</td>\n",
              "      <td>5.0</td>\n",
              "      <td>4.50</td>\n",
              "    </tr>\n",
              "    <tr>\n",
              "      <th>3</th>\n",
              "      <td>2012</td>\n",
              "      <td>87000</td>\n",
              "      <td>7.0</td>\n",
              "      <td>6.00</td>\n",
              "    </tr>\n",
              "    <tr>\n",
              "      <th>4</th>\n",
              "      <td>2013</td>\n",
              "      <td>40670</td>\n",
              "      <td>5.0</td>\n",
              "      <td>17.74</td>\n",
              "    </tr>\n",
              "    <tr>\n",
              "      <th>...</th>\n",
              "      <td>...</td>\n",
              "      <td>...</td>\n",
              "      <td>...</td>\n",
              "      <td>...</td>\n",
              "    </tr>\n",
              "    <tr>\n",
              "      <th>6014</th>\n",
              "      <td>2014</td>\n",
              "      <td>27365</td>\n",
              "      <td>5.0</td>\n",
              "      <td>4.75</td>\n",
              "    </tr>\n",
              "    <tr>\n",
              "      <th>6015</th>\n",
              "      <td>2015</td>\n",
              "      <td>100000</td>\n",
              "      <td>5.0</td>\n",
              "      <td>4.00</td>\n",
              "    </tr>\n",
              "    <tr>\n",
              "      <th>6016</th>\n",
              "      <td>2012</td>\n",
              "      <td>55000</td>\n",
              "      <td>8.0</td>\n",
              "      <td>2.90</td>\n",
              "    </tr>\n",
              "    <tr>\n",
              "      <th>6017</th>\n",
              "      <td>2013</td>\n",
              "      <td>46000</td>\n",
              "      <td>5.0</td>\n",
              "      <td>2.65</td>\n",
              "    </tr>\n",
              "    <tr>\n",
              "      <th>6018</th>\n",
              "      <td>2011</td>\n",
              "      <td>47000</td>\n",
              "      <td>5.0</td>\n",
              "      <td>2.50</td>\n",
              "    </tr>\n",
              "  </tbody>\n",
              "</table>\n",
              "<p>6017 rows × 4 columns</p>\n",
              "</div>"
            ],
            "text/plain": [
              "      Year  Kilometers_Driven  Seats  Price\n",
              "0     2010              72000    5.0   1.75\n",
              "1     2015              41000    5.0  12.50\n",
              "2     2011              46000    5.0   4.50\n",
              "3     2012              87000    7.0   6.00\n",
              "4     2013              40670    5.0  17.74\n",
              "...    ...                ...    ...    ...\n",
              "6014  2014              27365    5.0   4.75\n",
              "6015  2015             100000    5.0   4.00\n",
              "6016  2012              55000    8.0   2.90\n",
              "6017  2013              46000    5.0   2.65\n",
              "6018  2011              47000    5.0   2.50\n",
              "\n",
              "[6017 rows x 4 columns]"
            ]
          },
          "metadata": {},
          "execution_count": 224
        }
      ]
    },
    {
      "cell_type": "code",
      "metadata": {
        "id": "d_LXZzhzvSah"
      },
      "source": [
        "shcp_numerical_temp = shcp_train_data.select_dtypes(include = 'number', exclude = None)"
      ],
      "execution_count": 225,
      "outputs": []
    },
    {
      "cell_type": "code",
      "metadata": {
        "colab": {
          "base_uri": "https://localhost:8080/",
          "height": 297
        },
        "id": "irGax1wmfjlH",
        "outputId": "b209a34a-7e3f-40f5-878b-c84cf6c3df6f"
      },
      "source": [
        "shcp_train_data.describe()"
      ],
      "execution_count": 226,
      "outputs": [
        {
          "output_type": "execute_result",
          "data": {
            "text/html": [
              "<div>\n",
              "<style scoped>\n",
              "    .dataframe tbody tr th:only-of-type {\n",
              "        vertical-align: middle;\n",
              "    }\n",
              "\n",
              "    .dataframe tbody tr th {\n",
              "        vertical-align: top;\n",
              "    }\n",
              "\n",
              "    .dataframe thead th {\n",
              "        text-align: right;\n",
              "    }\n",
              "</style>\n",
              "<table border=\"1\" class=\"dataframe\">\n",
              "  <thead>\n",
              "    <tr style=\"text-align: right;\">\n",
              "      <th></th>\n",
              "      <th>Year</th>\n",
              "      <th>Kilometers_Driven</th>\n",
              "      <th>Seats</th>\n",
              "      <th>Price</th>\n",
              "    </tr>\n",
              "  </thead>\n",
              "  <tbody>\n",
              "    <tr>\n",
              "      <th>count</th>\n",
              "      <td>6019.000000</td>\n",
              "      <td>6.019000e+03</td>\n",
              "      <td>5977.000000</td>\n",
              "      <td>6019.000000</td>\n",
              "    </tr>\n",
              "    <tr>\n",
              "      <th>mean</th>\n",
              "      <td>2013.358199</td>\n",
              "      <td>5.873838e+04</td>\n",
              "      <td>5.278735</td>\n",
              "      <td>9.479468</td>\n",
              "    </tr>\n",
              "    <tr>\n",
              "      <th>std</th>\n",
              "      <td>3.269742</td>\n",
              "      <td>9.126884e+04</td>\n",
              "      <td>0.808840</td>\n",
              "      <td>11.187917</td>\n",
              "    </tr>\n",
              "    <tr>\n",
              "      <th>min</th>\n",
              "      <td>1998.000000</td>\n",
              "      <td>1.710000e+02</td>\n",
              "      <td>0.000000</td>\n",
              "      <td>0.440000</td>\n",
              "    </tr>\n",
              "    <tr>\n",
              "      <th>25%</th>\n",
              "      <td>2011.000000</td>\n",
              "      <td>3.400000e+04</td>\n",
              "      <td>5.000000</td>\n",
              "      <td>3.500000</td>\n",
              "    </tr>\n",
              "    <tr>\n",
              "      <th>50%</th>\n",
              "      <td>2014.000000</td>\n",
              "      <td>5.300000e+04</td>\n",
              "      <td>5.000000</td>\n",
              "      <td>5.640000</td>\n",
              "    </tr>\n",
              "    <tr>\n",
              "      <th>75%</th>\n",
              "      <td>2016.000000</td>\n",
              "      <td>7.300000e+04</td>\n",
              "      <td>5.000000</td>\n",
              "      <td>9.950000</td>\n",
              "    </tr>\n",
              "    <tr>\n",
              "      <th>max</th>\n",
              "      <td>2019.000000</td>\n",
              "      <td>6.500000e+06</td>\n",
              "      <td>10.000000</td>\n",
              "      <td>160.000000</td>\n",
              "    </tr>\n",
              "  </tbody>\n",
              "</table>\n",
              "</div>"
            ],
            "text/plain": [
              "              Year  Kilometers_Driven        Seats        Price\n",
              "count  6019.000000       6.019000e+03  5977.000000  6019.000000\n",
              "mean   2013.358199       5.873838e+04     5.278735     9.479468\n",
              "std       3.269742       9.126884e+04     0.808840    11.187917\n",
              "min    1998.000000       1.710000e+02     0.000000     0.440000\n",
              "25%    2011.000000       3.400000e+04     5.000000     3.500000\n",
              "50%    2014.000000       5.300000e+04     5.000000     5.640000\n",
              "75%    2016.000000       7.300000e+04     5.000000     9.950000\n",
              "max    2019.000000       6.500000e+06    10.000000   160.000000"
            ]
          },
          "metadata": {},
          "execution_count": 226
        }
      ]
    },
    {
      "cell_type": "code",
      "metadata": {
        "colab": {
          "base_uri": "https://localhost:8080/"
        },
        "id": "Kos-g10Mfo9x",
        "outputId": "7caed1b3-b079-46af-9dc7-60d7663f7118"
      },
      "source": [
        "shcp_train_data.info()"
      ],
      "execution_count": 227,
      "outputs": [
        {
          "output_type": "stream",
          "text": [
            "<class 'pandas.core.frame.DataFrame'>\n",
            "RangeIndex: 6019 entries, 0 to 6018\n",
            "Data columns (total 13 columns):\n",
            " #   Column             Non-Null Count  Dtype  \n",
            "---  ------             --------------  -----  \n",
            " 0   Name               6019 non-null   object \n",
            " 1   Location           6019 non-null   object \n",
            " 2   Year               6019 non-null   int64  \n",
            " 3   Kilometers_Driven  6019 non-null   int64  \n",
            " 4   Fuel_Type          6019 non-null   object \n",
            " 5   Transmission       6019 non-null   object \n",
            " 6   Owner_Type         6019 non-null   object \n",
            " 7   Mileage            6017 non-null   object \n",
            " 8   Engine             5983 non-null   object \n",
            " 9   Power              5983 non-null   object \n",
            " 10  Seats              5977 non-null   float64\n",
            " 11  New_Price          824 non-null    object \n",
            " 12  Price              6019 non-null   float64\n",
            "dtypes: float64(2), int64(2), object(9)\n",
            "memory usage: 611.4+ KB\n"
          ],
          "name": "stdout"
        }
      ]
    },
    {
      "cell_type": "code",
      "metadata": {
        "colab": {
          "base_uri": "https://localhost:8080/"
        },
        "id": "cOVsmw6qfsfW",
        "outputId": "9960ec53-8823-4601-ae9e-6b961685f940"
      },
      "source": [
        "shcp_train_data.nunique"
      ],
      "execution_count": 228,
      "outputs": [
        {
          "output_type": "execute_result",
          "data": {
            "text/plain": [
              "<bound method DataFrame.nunique of                                   Name    Location  ...  New_Price  Price\n",
              "0               Maruti Wagon R LXI CNG      Mumbai  ...        NaN   1.75\n",
              "1     Hyundai Creta 1.6 CRDi SX Option        Pune  ...        NaN  12.50\n",
              "2                         Honda Jazz V     Chennai  ...  8.61 Lakh   4.50\n",
              "3                    Maruti Ertiga VDI     Chennai  ...        NaN   6.00\n",
              "4      Audi A4 New 2.0 TDI Multitronic  Coimbatore  ...        NaN  17.74\n",
              "...                                ...         ...  ...        ...    ...\n",
              "6014                  Maruti Swift VDI       Delhi  ...  7.88 Lakh   4.75\n",
              "6015          Hyundai Xcent 1.1 CRDi S      Jaipur  ...        NaN   4.00\n",
              "6016             Mahindra Xylo D4 BSIV      Jaipur  ...        NaN   2.90\n",
              "6017                Maruti Wagon R VXI     Kolkata  ...        NaN   2.65\n",
              "6018             Chevrolet Beat Diesel   Hyderabad  ...        NaN   2.50\n",
              "\n",
              "[6019 rows x 13 columns]>"
            ]
          },
          "metadata": {},
          "execution_count": 228
        }
      ]
    },
    {
      "cell_type": "code",
      "metadata": {
        "colab": {
          "base_uri": "https://localhost:8080/"
        },
        "id": "Tx_v0V6D-r2G",
        "outputId": "8a8a2352-61dc-4853-a871-a50592af6afa"
      },
      "source": [
        "print(shcp_categorical)"
      ],
      "execution_count": 229,
      "outputs": [
        {
          "output_type": "stream",
          "text": [
            "                                  Name    Location  ...  New_Price  Price\n",
            "0               Maruti Wagon R LXI CNG      Mumbai  ...        NaN   1.75\n",
            "1     Hyundai Creta 1.6 CRDi SX Option        Pune  ...        NaN  12.50\n",
            "2                         Honda Jazz V     Chennai  ...  8.61 Lakh   4.50\n",
            "3                    Maruti Ertiga VDI     Chennai  ...        NaN   6.00\n",
            "4      Audi A4 New 2.0 TDI Multitronic  Coimbatore  ...        NaN  17.74\n",
            "...                                ...         ...  ...        ...    ...\n",
            "6014                               NaN         NaN  ...        NaN   4.75\n",
            "6015                               NaN         NaN  ...        NaN   4.00\n",
            "6016                               NaN         NaN  ...        NaN   2.90\n",
            "6017                               NaN         NaN  ...        NaN   2.65\n",
            "6018                               NaN         NaN  ...        NaN   2.50\n",
            "\n",
            "[11931 rows x 13 columns]\n"
          ],
          "name": "stdout"
        }
      ]
    },
    {
      "cell_type": "code",
      "metadata": {
        "colab": {
          "base_uri": "https://localhost:8080/",
          "height": 419
        },
        "id": "naT24PhQ_PEE",
        "outputId": "77d1e0f1-00ed-4794-cbb1-1c6ec91c9baa"
      },
      "source": [
        "shcp_numerical.drop(['Year'], axis = 1)"
      ],
      "execution_count": 230,
      "outputs": [
        {
          "output_type": "execute_result",
          "data": {
            "text/html": [
              "<div>\n",
              "<style scoped>\n",
              "    .dataframe tbody tr th:only-of-type {\n",
              "        vertical-align: middle;\n",
              "    }\n",
              "\n",
              "    .dataframe tbody tr th {\n",
              "        vertical-align: top;\n",
              "    }\n",
              "\n",
              "    .dataframe thead th {\n",
              "        text-align: right;\n",
              "    }\n",
              "</style>\n",
              "<table border=\"1\" class=\"dataframe\">\n",
              "  <thead>\n",
              "    <tr style=\"text-align: right;\">\n",
              "      <th></th>\n",
              "      <th>Kilometers_Driven</th>\n",
              "      <th>Seats</th>\n",
              "      <th>Price</th>\n",
              "    </tr>\n",
              "  </thead>\n",
              "  <tbody>\n",
              "    <tr>\n",
              "      <th>0</th>\n",
              "      <td>72000</td>\n",
              "      <td>5.0</td>\n",
              "      <td>1.75</td>\n",
              "    </tr>\n",
              "    <tr>\n",
              "      <th>1</th>\n",
              "      <td>41000</td>\n",
              "      <td>5.0</td>\n",
              "      <td>12.50</td>\n",
              "    </tr>\n",
              "    <tr>\n",
              "      <th>2</th>\n",
              "      <td>46000</td>\n",
              "      <td>5.0</td>\n",
              "      <td>4.50</td>\n",
              "    </tr>\n",
              "    <tr>\n",
              "      <th>3</th>\n",
              "      <td>87000</td>\n",
              "      <td>7.0</td>\n",
              "      <td>6.00</td>\n",
              "    </tr>\n",
              "    <tr>\n",
              "      <th>4</th>\n",
              "      <td>40670</td>\n",
              "      <td>5.0</td>\n",
              "      <td>17.74</td>\n",
              "    </tr>\n",
              "    <tr>\n",
              "      <th>...</th>\n",
              "      <td>...</td>\n",
              "      <td>...</td>\n",
              "      <td>...</td>\n",
              "    </tr>\n",
              "    <tr>\n",
              "      <th>6014</th>\n",
              "      <td>27365</td>\n",
              "      <td>5.0</td>\n",
              "      <td>4.75</td>\n",
              "    </tr>\n",
              "    <tr>\n",
              "      <th>6015</th>\n",
              "      <td>100000</td>\n",
              "      <td>5.0</td>\n",
              "      <td>4.00</td>\n",
              "    </tr>\n",
              "    <tr>\n",
              "      <th>6016</th>\n",
              "      <td>55000</td>\n",
              "      <td>8.0</td>\n",
              "      <td>2.90</td>\n",
              "    </tr>\n",
              "    <tr>\n",
              "      <th>6017</th>\n",
              "      <td>46000</td>\n",
              "      <td>5.0</td>\n",
              "      <td>2.65</td>\n",
              "    </tr>\n",
              "    <tr>\n",
              "      <th>6018</th>\n",
              "      <td>47000</td>\n",
              "      <td>5.0</td>\n",
              "      <td>2.50</td>\n",
              "    </tr>\n",
              "  </tbody>\n",
              "</table>\n",
              "<p>6019 rows × 3 columns</p>\n",
              "</div>"
            ],
            "text/plain": [
              "      Kilometers_Driven  Seats  Price\n",
              "0                 72000    5.0   1.75\n",
              "1                 41000    5.0  12.50\n",
              "2                 46000    5.0   4.50\n",
              "3                 87000    7.0   6.00\n",
              "4                 40670    5.0  17.74\n",
              "...                 ...    ...    ...\n",
              "6014              27365    5.0   4.75\n",
              "6015             100000    5.0   4.00\n",
              "6016              55000    8.0   2.90\n",
              "6017              46000    5.0   2.65\n",
              "6018              47000    5.0   2.50\n",
              "\n",
              "[6019 rows x 3 columns]"
            ]
          },
          "metadata": {},
          "execution_count": 230
        }
      ]
    },
    {
      "cell_type": "code",
      "metadata": {
        "colab": {
          "base_uri": "https://localhost:8080/"
        },
        "id": "BjCVcIqr6vNe",
        "outputId": "edea8b2b-0c32-4460-d16b-8777fabd3ca2"
      },
      "source": [
        "df_temp_no_null['New_Price'] = df_temp_no_null['New_Price'].str.replace(r' Lakh', '')"
      ],
      "execution_count": 231,
      "outputs": [
        {
          "output_type": "stream",
          "text": [
            "/usr/local/lib/python3.7/dist-packages/ipykernel_launcher.py:1: SettingWithCopyWarning: \n",
            "A value is trying to be set on a copy of a slice from a DataFrame.\n",
            "Try using .loc[row_indexer,col_indexer] = value instead\n",
            "\n",
            "See the caveats in the documentation: https://pandas.pydata.org/pandas-docs/stable/user_guide/indexing.html#returning-a-view-versus-a-copy\n",
            "  \"\"\"Entry point for launching an IPython kernel.\n"
          ],
          "name": "stderr"
        }
      ]
    },
    {
      "cell_type": "code",
      "metadata": {
        "colab": {
          "base_uri": "https://localhost:8080/",
          "height": 204
        },
        "id": "L7Y3uQaj68h4",
        "outputId": "73bfc557-6762-4773-c61e-be7fc49e5be6"
      },
      "source": [
        "df_temp_no_null.head()"
      ],
      "execution_count": 232,
      "outputs": [
        {
          "output_type": "execute_result",
          "data": {
            "text/html": [
              "<div>\n",
              "<style scoped>\n",
              "    .dataframe tbody tr th:only-of-type {\n",
              "        vertical-align: middle;\n",
              "    }\n",
              "\n",
              "    .dataframe tbody tr th {\n",
              "        vertical-align: top;\n",
              "    }\n",
              "\n",
              "    .dataframe thead th {\n",
              "        text-align: right;\n",
              "    }\n",
              "</style>\n",
              "<table border=\"1\" class=\"dataframe\">\n",
              "  <thead>\n",
              "    <tr style=\"text-align: right;\">\n",
              "      <th></th>\n",
              "      <th>Name</th>\n",
              "      <th>Location</th>\n",
              "      <th>Year</th>\n",
              "      <th>Kilometers_Driven</th>\n",
              "      <th>Fuel_Type</th>\n",
              "      <th>Transmission</th>\n",
              "      <th>Owner_Type</th>\n",
              "      <th>Mileage</th>\n",
              "      <th>Engine</th>\n",
              "      <th>Power</th>\n",
              "      <th>Seats</th>\n",
              "      <th>New_Price</th>\n",
              "      <th>Price</th>\n",
              "    </tr>\n",
              "  </thead>\n",
              "  <tbody>\n",
              "    <tr>\n",
              "      <th>0</th>\n",
              "      <td>Maruti Wagon R LXI CNG</td>\n",
              "      <td>Mumbai</td>\n",
              "      <td>2010</td>\n",
              "      <td>72000</td>\n",
              "      <td>CNG</td>\n",
              "      <td>Manual</td>\n",
              "      <td>First</td>\n",
              "      <td>26.6</td>\n",
              "      <td>998</td>\n",
              "      <td>58.16</td>\n",
              "      <td>5.0</td>\n",
              "      <td>NaN</td>\n",
              "      <td>1.75</td>\n",
              "    </tr>\n",
              "    <tr>\n",
              "      <th>1</th>\n",
              "      <td>Hyundai Creta 1.6 CRDi SX Option</td>\n",
              "      <td>Pune</td>\n",
              "      <td>2015</td>\n",
              "      <td>41000</td>\n",
              "      <td>Diesel</td>\n",
              "      <td>Manual</td>\n",
              "      <td>First</td>\n",
              "      <td>19.67</td>\n",
              "      <td>1582</td>\n",
              "      <td>126.2</td>\n",
              "      <td>5.0</td>\n",
              "      <td>NaN</td>\n",
              "      <td>12.50</td>\n",
              "    </tr>\n",
              "    <tr>\n",
              "      <th>2</th>\n",
              "      <td>Honda Jazz V</td>\n",
              "      <td>Chennai</td>\n",
              "      <td>2011</td>\n",
              "      <td>46000</td>\n",
              "      <td>Petrol</td>\n",
              "      <td>Manual</td>\n",
              "      <td>First</td>\n",
              "      <td>18.2</td>\n",
              "      <td>1199</td>\n",
              "      <td>88.7</td>\n",
              "      <td>5.0</td>\n",
              "      <td>8.61</td>\n",
              "      <td>4.50</td>\n",
              "    </tr>\n",
              "    <tr>\n",
              "      <th>3</th>\n",
              "      <td>Maruti Ertiga VDI</td>\n",
              "      <td>Chennai</td>\n",
              "      <td>2012</td>\n",
              "      <td>87000</td>\n",
              "      <td>Diesel</td>\n",
              "      <td>Manual</td>\n",
              "      <td>First</td>\n",
              "      <td>20.77</td>\n",
              "      <td>1248</td>\n",
              "      <td>88.76</td>\n",
              "      <td>7.0</td>\n",
              "      <td>NaN</td>\n",
              "      <td>6.00</td>\n",
              "    </tr>\n",
              "    <tr>\n",
              "      <th>4</th>\n",
              "      <td>Audi A4 New 2.0 TDI Multitronic</td>\n",
              "      <td>Coimbatore</td>\n",
              "      <td>2013</td>\n",
              "      <td>40670</td>\n",
              "      <td>Diesel</td>\n",
              "      <td>Automatic</td>\n",
              "      <td>Second</td>\n",
              "      <td>15.2</td>\n",
              "      <td>1968</td>\n",
              "      <td>140.8</td>\n",
              "      <td>5.0</td>\n",
              "      <td>NaN</td>\n",
              "      <td>17.74</td>\n",
              "    </tr>\n",
              "  </tbody>\n",
              "</table>\n",
              "</div>"
            ],
            "text/plain": [
              "                               Name    Location  Year  ...  Seats New_Price  Price\n",
              "0            Maruti Wagon R LXI CNG      Mumbai  2010  ...    5.0       NaN   1.75\n",
              "1  Hyundai Creta 1.6 CRDi SX Option        Pune  2015  ...    5.0       NaN  12.50\n",
              "2                      Honda Jazz V     Chennai  2011  ...    5.0      8.61   4.50\n",
              "3                 Maruti Ertiga VDI     Chennai  2012  ...    7.0       NaN   6.00\n",
              "4   Audi A4 New 2.0 TDI Multitronic  Coimbatore  2013  ...    5.0       NaN  17.74\n",
              "\n",
              "[5 rows x 13 columns]"
            ]
          },
          "metadata": {},
          "execution_count": 232
        }
      ]
    },
    {
      "cell_type": "code",
      "metadata": {
        "colab": {
          "base_uri": "https://localhost:8080/"
        },
        "id": "Rzp6N70o6GWx",
        "outputId": "8c0d020b-fda6-44a3-d320-957d8092038d"
      },
      "source": [
        "df_temp_no_null.info()"
      ],
      "execution_count": 233,
      "outputs": [
        {
          "output_type": "stream",
          "text": [
            "<class 'pandas.core.frame.DataFrame'>\n",
            "Int64Index: 5981 entries, 0 to 6018\n",
            "Data columns (total 13 columns):\n",
            " #   Column             Non-Null Count  Dtype  \n",
            "---  ------             --------------  -----  \n",
            " 0   Name               5981 non-null   object \n",
            " 1   Location           5981 non-null   object \n",
            " 2   Year               5981 non-null   int64  \n",
            " 3   Kilometers_Driven  5981 non-null   int64  \n",
            " 4   Fuel_Type          5981 non-null   object \n",
            " 5   Transmission       5981 non-null   object \n",
            " 6   Owner_Type         5981 non-null   object \n",
            " 7   Mileage            5981 non-null   object \n",
            " 8   Engine             5981 non-null   object \n",
            " 9   Power              5981 non-null   object \n",
            " 10  Seats              5975 non-null   float64\n",
            " 11  New_Price          823 non-null    object \n",
            " 12  Price              5981 non-null   float64\n",
            "dtypes: float64(2), int64(2), object(9)\n",
            "memory usage: 654.2+ KB\n"
          ],
          "name": "stdout"
        }
      ]
    },
    {
      "cell_type": "markdown",
      "metadata": {
        "id": "kEvLriZf5eWf"
      },
      "source": [
        "### Value Counts of each of the Feature Attirbutes"
      ]
    },
    {
      "cell_type": "code",
      "metadata": {
        "colab": {
          "base_uri": "https://localhost:8080/"
        },
        "id": "xNhN1F0q54Pk",
        "outputId": "ad8baba3-e9f9-4791-f79b-73ecc7306d89"
      },
      "source": [
        "df_temp_no_null.value_counts()"
      ],
      "execution_count": 234,
      "outputs": [
        {
          "output_type": "execute_result",
          "data": {
            "text/plain": [
              "Name                                 Location   Year  Kilometers_Driven  Fuel_Type  Transmission  Owner_Type  Mileage  Engine  Power    Seats  New_Price  Price\n",
              "Volvo V40 D3 R Design                Hyderabad  2015  38000              Diesel     Automatic     Second      16.8     1969    150      5.0    37.9       24.00    1\n",
              "Hyundai Xcent 1.2 CRDi S             Kolkata    2016  26000              Diesel     Manual        First       25.4     1186    73.97    5.0    8.23       5.00     1\n",
              "Jaguar XE 2.0L Diesel Prestige       Delhi      2018  1000               Diesel     Automatic     First       13.6     1999    177      5.0    52.77      40.00    1\n",
              "Isuzu MUX 4WD                        Jaipur     2017  34429              Diesel     Automatic     First       13.8     2999    174.57   7.0    33.68      20.00    1\n",
              "Hyundai i20 Active SX Petrol         Jaipur     2017  40250              Petrol     Manual        First       17.19    1197    81.86    5.0    9.74       6.90     1\n",
              "                                                                                                                                                                  ..\n",
              "Mercedes-Benz GLA Class 200 d Style  Kochi      2016  26212              Diesel     Automatic     First       17.9     2143    136      5.0    38.72      24.46    1\n",
              "Mercedes-Benz GLA Class 200 d Sport  Pune       2017  35000              Diesel     Automatic     First       17.9     2143    136      5.0    41.94      23.50    1\n",
              "                                     Mumbai     2018  10000              Diesel     Automatic     First       17.9     2143    136      5.0    41.94      28.90    1\n",
              "Mercedes-Benz GLA Class 200 Sport    Kochi      2018  17773              Petrol     Automatic     First       13.7     1991    183      5.0    39.22      26.76    1\n",
              "Audi A3 35 TDI Premium Plus          Mumbai     2016  39000              Diesel     Automatic     First       20.38    1968    143      5.0    42.89      18.90    1\n",
              "Length: 823, dtype: int64"
            ]
          },
          "metadata": {},
          "execution_count": 234
        }
      ]
    },
    {
      "cell_type": "code",
      "metadata": {
        "colab": {
          "base_uri": "https://localhost:8080/"
        },
        "id": "Fv6oh-9c7VY2",
        "outputId": "27aba612-68f4-497b-e879-3ef46df728fa"
      },
      "source": [
        "for col in shcp_list:\n",
        "  print(df_temp_no_null[col].value_counts(),end=\"\\n\\n\\n\")"
      ],
      "execution_count": 235,
      "outputs": [
        {
          "output_type": "stream",
          "text": [
            "Mahindra XUV500 W8 2WD                              49\n",
            "Maruti Swift VDI                                    45\n",
            "Maruti Swift Dzire VDI                              34\n",
            "Honda City 1.5 S MT                                 34\n",
            "Maruti Swift VDI BSIV                               31\n",
            "                                                    ..\n",
            "Skoda Yeti Elegance 4X2                              1\n",
            "Hyundai Elantra CRDi                                 1\n",
            "Mahindra XUV500 W7                                   1\n",
            "BMW 5 Series 530d Highline Sedan                     1\n",
            "Mitsubishi Pajero Sport 4X2 AT DualTone BlackTop     1\n",
            "Name: Name, Length: 1858, dtype: int64\n",
            "\n",
            "\n",
            "Mumbai        785\n",
            "Hyderabad     741\n",
            "Kochi         648\n",
            "Coimbatore    634\n",
            "Pune          613\n",
            "Delhi         549\n",
            "Kolkata       531\n",
            "Chennai       492\n",
            "Jaipur        411\n",
            "Bangalore     354\n",
            "Ahmedabad     223\n",
            "Name: Location, dtype: int64\n",
            "\n",
            "\n",
            "2014    795\n",
            "2015    742\n",
            "2016    740\n",
            "2013    648\n",
            "2017    586\n",
            "2012    573\n",
            "2011    461\n",
            "2010    340\n",
            "2018    298\n",
            "2009    196\n",
            "2008    171\n",
            "2007    123\n",
            "2019    102\n",
            "2006     75\n",
            "2005     56\n",
            "2004     29\n",
            "2003     15\n",
            "2002     14\n",
            "2001      7\n",
            "1998      4\n",
            "2000      4\n",
            "1999      2\n",
            "Name: Year, dtype: int64\n",
            "\n",
            "\n",
            "60000    82\n",
            "45000    70\n",
            "65000    67\n",
            "70000    60\n",
            "50000    60\n",
            "         ..\n",
            "50446     1\n",
            "54540     1\n",
            "70920     1\n",
            "75014     1\n",
            "83969     1\n",
            "Name: Kilometers_Driven, Length: 3081, dtype: int64\n",
            "\n",
            "\n",
            "Diesel    3197\n",
            "Petrol    2718\n",
            "CNG         56\n",
            "LPG         10\n",
            "Name: Fuel_Type, dtype: int64\n",
            "\n",
            "\n",
            "Manual       4271\n",
            "Automatic    1710\n",
            "Name: Transmission, dtype: int64\n",
            "\n",
            "\n",
            "First             4905\n",
            "Second             957\n",
            "Third              111\n",
            "Fourth & Above       8\n",
            "Name: Owner_Type, dtype: int64\n",
            "\n",
            "\n",
            "18.9      172\n",
            "17.0      171\n",
            "18.6      119\n",
            "20.36      88\n",
            "21.1       87\n",
            "         ... \n",
            "9.1         1\n",
            "8.0         1\n",
            "16.12       1\n",
            "16.7        1\n",
            "8.3         1\n",
            "Name: Mileage, Length: 430, dtype: int64\n",
            "\n",
            "\n",
            "1197     606\n",
            "1248     512\n",
            "1498     304\n",
            "998      259\n",
            "2179     240\n",
            "        ... \n",
            "2720       1\n",
            "2349       1\n",
            "3197       1\n",
            "2995       1\n",
            "5998       1\n",
            "Name: Engine, Length: 145, dtype: int64\n",
            "\n",
            "\n",
            "74         235\n",
            "98.6       131\n",
            "73.9       125\n",
            "140        123\n",
            "78.9       111\n",
            "          ... \n",
            "560          1\n",
            "340          1\n",
            "116.9        1\n",
            "103          1\n",
            "120.33       1\n",
            "Name: Power, Length: 371, dtype: int64\n",
            "\n",
            "\n",
            "5.0     5012\n",
            "7.0      674\n",
            "8.0      134\n",
            "4.0       99\n",
            "6.0       31\n",
            "2.0       16\n",
            "10.0       5\n",
            "9.0        3\n",
            "0.0        1\n",
            "Name: Seats, dtype: int64\n",
            "\n",
            "\n",
            "95.13    6\n",
            "63.71    6\n",
            "4.78     6\n",
            "11.67    5\n",
            "4.98     5\n",
            "        ..\n",
            "25.75    1\n",
            "33.21    1\n",
            "8.38     1\n",
            "5.57     1\n",
            "4.69     1\n",
            "Name: New_Price, Length: 540, dtype: int64\n",
            "\n",
            "\n",
            "4.50     88\n",
            "5.50     84\n",
            "3.50     82\n",
            "4.25     73\n",
            "3.25     70\n",
            "         ..\n",
            "11.96     1\n",
            "5.76      1\n",
            "24.99     1\n",
            "42.75     1\n",
            "16.42     1\n",
            "Name: Price, Length: 1369, dtype: int64\n",
            "\n",
            "\n"
          ],
          "name": "stdout"
        }
      ]
    },
    {
      "cell_type": "markdown",
      "metadata": {
        "id": "65ELH4pJ4efk"
      },
      "source": [
        "## (iii) Data Visualization"
      ]
    },
    {
      "cell_type": "markdown",
      "metadata": {
        "id": "4zErmn1r40be"
      },
      "source": [
        "### (a) Polynomial Scatter Plot (For Analysing Trend)"
      ]
    },
    {
      "cell_type": "code",
      "metadata": {
        "colab": {
          "base_uri": "https://localhost:8080/",
          "height": 265
        },
        "id": "SHA4_0YHN1T8",
        "outputId": "4137a194-4e98-4a73-b7cb-5f97f5fbec38"
      },
      "source": [
        "fig, ax = plt.subplots()\n",
        "for color in ['tab:blue', 'tab:orange', 'tab:green']:\n",
        "    ax.scatter(list(df_temp_no_null['Transmission']),list(df_temp_no_null['Price']), c=color, label=color,\n",
        "               alpha=0.5, edgecolors='none')\n",
        "\n",
        "ax.legend()\n",
        "ax.grid(True)\n",
        "plt.show()"
      ],
      "execution_count": 370,
      "outputs": [
        {
          "output_type": "display_data",
          "data": {
            "image/png": "[encoded data removed]",
            "text/plain": [
              "<Figure size 432x288 with 1 Axes>"
            ]
          },
          "metadata": {
            "needs_background": "light"
          }
        }
      ]
    },
    {
      "cell_type": "code",
      "metadata": {
        "colab": {
          "base_uri": "https://localhost:8080/",
          "height": 265
        },
        "id": "JL_fQGGNN1ha",
        "outputId": "a4551b10-a8bd-49ab-94d5-ce6ed6cf884e"
      },
      "source": [
        "fig, ax = plt.subplots()\n",
        "for color in ['tab:blue', 'tab:orange', 'tab:green']:\n",
        "    ax.scatter(list(df_temp_no_null['Power']),list(df_temp_no_null['Price']), c=color, label=color,\n",
        "               alpha=0.5, edgecolors='none')\n",
        "\n",
        "ax.legend()\n",
        "ax.grid(True)\n",
        "plt.show()"
      ],
      "execution_count": 371,
      "outputs": [
        {
          "output_type": "display_data",
          "data": {
            "image/png": "[encoded data removed]",
            "text/plain": [
              "<Figure size 432x288 with 1 Axes>"
            ]
          },
          "metadata": {
            "needs_background": "light"
          }
        }
      ]
    },
    {
      "cell_type": "code",
      "metadata": {
        "colab": {
          "base_uri": "https://localhost:8080/",
          "height": 265
        },
        "id": "s-FI9-1ZN1uT",
        "outputId": "84ae27fc-b003-42f0-cf8b-bc0e176ffba2"
      },
      "source": [
        "fig, ax = plt.subplots()\n",
        "for color in ['tab:blue', 'tab:orange', 'tab:green']:\n",
        "    ax.scatter(list(df_temp_no_null['Mileage']),list(df_temp_no_null['Price']), c=color, label=color,\n",
        "               alpha=0.5, edgecolors='none')\n",
        "\n",
        "ax.legend()\n",
        "ax.grid(True)\n",
        "plt.show()"
      ],
      "execution_count": 372,
      "outputs": [
        {
          "output_type": "display_data",
          "data": {
            "image/png": "[encoded data removed]",
            "text/plain": [
              "<Figure size 432x288 with 1 Axes>"
            ]
          },
          "metadata": {
            "needs_background": "light"
          }
        }
      ]
    },
    {
      "cell_type": "code",
      "metadata": {
        "colab": {
          "base_uri": "https://localhost:8080/",
          "height": 265
        },
        "id": "NF6Ej3HrN14h",
        "outputId": "9c48c3eb-dcfd-419d-da2e-fffbd0b7f85c"
      },
      "source": [
        "fig, ax = plt.subplots()\n",
        "for color in ['tab:blue', 'tab:orange', 'tab:green']:\n",
        "    ax.scatter(list(df_temp_no_null['Engine']),list(df_temp_no_null['Price']), c=color, label=color,\n",
        "               alpha=0.5, edgecolors='none')\n",
        "\n",
        "ax.legend()\n",
        "ax.grid(True)\n",
        "plt.show()"
      ],
      "execution_count": 375,
      "outputs": [
        {
          "output_type": "display_data",
          "data": {
            "image/png": "[encoded data removed]",
            "text/plain": [
              "<Figure size 432x288 with 1 Axes>"
            ]
          },
          "metadata": {
            "needs_background": "light"
          }
        }
      ]
    },
    {
      "cell_type": "code",
      "metadata": {
        "colab": {
          "base_uri": "https://localhost:8080/",
          "height": 265
        },
        "id": "bNy6pziBcU5u",
        "outputId": "03f1e25b-4f48-4621-abe6-c751d7525fd8"
      },
      "source": [
        "fig, ax = plt.subplots()\n",
        "for color in ['tab:blue', 'tab:orange', 'tab:green']:\n",
        "    ax.scatter(list(df_temp_no_null['Owner_Type']),list(df_temp_no_null['Price']), c=color, label=color,\n",
        "               alpha=0.5, edgecolors='none')\n",
        "\n",
        "ax.legend()\n",
        "ax.grid(True)\n",
        "plt.show()"
      ],
      "execution_count": 376,
      "outputs": [
        {
          "output_type": "display_data",
          "data": {
            "image/png": "[encoded data removed]",
            "text/plain": [
              "<Figure size 432x288 with 1 Axes>"
            ]
          },
          "metadata": {
            "needs_background": "light"
          }
        }
      ]
    },
    {
      "cell_type": "markdown",
      "metadata": {
        "id": "QnZ2UF51CVrG"
      },
      "source": [
        ""
      ]
    },
    {
      "cell_type": "markdown",
      "metadata": {
        "id": "zdJoVscVEUv9"
      },
      "source": [
        "## Understanding the Correlation of all the attributes with each other"
      ]
    },
    {
      "cell_type": "code",
      "metadata": {
        "colab": {
          "base_uri": "https://localhost:8080/",
          "height": 270
        },
        "id": "PvqvrCXSEUAc",
        "outputId": "f3760d97-5683-49bc-b747-3cc812b8f099"
      },
      "source": [
        "ax = sns.heatmap(df_temp_no_null.corr(), center = 0.5 , annot=True)"
      ],
      "execution_count": 237,
      "outputs": [
        {
          "output_type": "display_data",
          "data": {
            "image/png": "[encoded data removed]",
            "text/plain": [
              "<Figure size 432x288 with 2 Axes>"
            ]
          },
          "metadata": {
            "needs_background": "light"
          }
        }
      ]
    },
    {
      "cell_type": "code",
      "metadata": {
        "id": "k51ZYRDNOLmf"
      },
      "source": [
        "#Kendall Coefficient"
      ],
      "execution_count": null,
      "outputs": []
    },
    {
      "cell_type": "markdown",
      "metadata": {
        "id": "n_1mJyaMHDl-"
      },
      "source": [
        "## (iv) Data Transformation "
      ]
    },
    {
      "cell_type": "markdown",
      "metadata": {
        "id": "t24-cuLTHSq3"
      },
      "source": [
        "### Data types before Applying Label Encoding"
      ]
    },
    {
      "cell_type": "code",
      "metadata": {
        "colab": {
          "base_uri": "https://localhost:8080/"
        },
        "id": "jSQmmLptGyD5",
        "outputId": "99e78e4d-fb65-4ce1-b60c-079bd368dde9"
      },
      "source": [
        "df_temp_no_null.info()"
      ],
      "execution_count": 342,
      "outputs": [
        {
          "output_type": "stream",
          "text": [
            "<class 'pandas.core.frame.DataFrame'>\n",
            "Int64Index: 5981 entries, 0 to 6018\n",
            "Data columns (total 13 columns):\n",
            " #   Column             Non-Null Count  Dtype  \n",
            "---  ------             --------------  -----  \n",
            " 0   Name               5981 non-null   object \n",
            " 1   Location           5981 non-null   object \n",
            " 2   Year               5981 non-null   int64  \n",
            " 3   Kilometers_Driven  5981 non-null   int64  \n",
            " 4   Fuel_Type          5981 non-null   object \n",
            " 5   Transmission       5981 non-null   object \n",
            " 6   Owner_Type         5981 non-null   object \n",
            " 7   Mileage            5981 non-null   object \n",
            " 8   Engine             5981 non-null   object \n",
            " 9   Power              5981 non-null   object \n",
            " 10  Seats              5975 non-null   float64\n",
            " 11  New_Price          823 non-null    object \n",
            " 12  Price              5981 non-null   float64\n",
            "dtypes: float64(2), int64(2), object(9)\n",
            "memory usage: 814.2+ KB\n"
          ],
          "name": "stdout"
        }
      ]
    },
    {
      "cell_type": "code",
      "metadata": {
        "colab": {
          "base_uri": "https://localhost:8080/"
        },
        "id": "MahM0pzkHgFC",
        "outputId": "a6b7b1e6-2919-4250-aeb3-ff8ed0fdd551"
      },
      "source": [
        "shcp_train_data.info()"
      ],
      "execution_count": 343,
      "outputs": [
        {
          "output_type": "stream",
          "text": [
            "<class 'pandas.core.frame.DataFrame'>\n",
            "RangeIndex: 6019 entries, 0 to 6018\n",
            "Data columns (total 13 columns):\n",
            " #   Column             Non-Null Count  Dtype  \n",
            "---  ------             --------------  -----  \n",
            " 0   Name               6019 non-null   object \n",
            " 1   Location           6019 non-null   object \n",
            " 2   Year               6019 non-null   int64  \n",
            " 3   Kilometers_Driven  6019 non-null   int64  \n",
            " 4   Fuel_Type          6019 non-null   object \n",
            " 5   Transmission       6019 non-null   object \n",
            " 6   Owner_Type         6019 non-null   object \n",
            " 7   Mileage            6019 non-null   object \n",
            " 8   Engine             6019 non-null   object \n",
            " 9   Power              6019 non-null   object \n",
            " 10  Seats              6019 non-null   float64\n",
            " 11  New_Price          824 non-null    object \n",
            " 12  Price              6019 non-null   float64\n",
            "dtypes: float64(2), int64(2), object(9)\n",
            "memory usage: 611.4+ KB\n"
          ],
          "name": "stdout"
        }
      ]
    },
    {
      "cell_type": "code",
      "metadata": {
        "id": "rqUI8orQOS5d"
      },
      "source": [
        "df_temp_numerical = copy.copy(df_temp_no_null)"
      ],
      "execution_count": 344,
      "outputs": []
    },
    {
      "cell_type": "code",
      "metadata": {
        "id": "Q3FUx4-jPJ3p"
      },
      "source": [
        "df_temp_numerical.drop(['Name', 'Location' , 'Year' , 'Kilometers_Driven' ,'Fuel_Type' ,'Transmission','Owner_Type','New_Price'], axis = 1, inplace = True) "
      ],
      "execution_count": 345,
      "outputs": []
    },
    {
      "cell_type": "code",
      "metadata": {
        "colab": {
          "base_uri": "https://localhost:8080/",
          "height": 204
        },
        "id": "XXW27N5yPn7i",
        "outputId": "8c74cd0a-ec55-4a9e-ffce-77d5ffdfc332"
      },
      "source": [
        "df_temp_numerical.head()"
      ],
      "execution_count": 346,
      "outputs": [
        {
          "output_type": "execute_result",
          "data": {
            "text/html": [
              "<div>\n",
              "<style scoped>\n",
              "    .dataframe tbody tr th:only-of-type {\n",
              "        vertical-align: middle;\n",
              "    }\n",
              "\n",
              "    .dataframe tbody tr th {\n",
              "        vertical-align: top;\n",
              "    }\n",
              "\n",
              "    .dataframe thead th {\n",
              "        text-align: right;\n",
              "    }\n",
              "</style>\n",
              "<table border=\"1\" class=\"dataframe\">\n",
              "  <thead>\n",
              "    <tr style=\"text-align: right;\">\n",
              "      <th></th>\n",
              "      <th>Mileage</th>\n",
              "      <th>Engine</th>\n",
              "      <th>Power</th>\n",
              "      <th>Seats</th>\n",
              "      <th>Price</th>\n",
              "    </tr>\n",
              "  </thead>\n",
              "  <tbody>\n",
              "    <tr>\n",
              "      <th>0</th>\n",
              "      <td>26.6</td>\n",
              "      <td>998</td>\n",
              "      <td>58.16</td>\n",
              "      <td>5.0</td>\n",
              "      <td>1.75</td>\n",
              "    </tr>\n",
              "    <tr>\n",
              "      <th>1</th>\n",
              "      <td>19.67</td>\n",
              "      <td>1582</td>\n",
              "      <td>126.2</td>\n",
              "      <td>5.0</td>\n",
              "      <td>12.50</td>\n",
              "    </tr>\n",
              "    <tr>\n",
              "      <th>2</th>\n",
              "      <td>18.2</td>\n",
              "      <td>1199</td>\n",
              "      <td>88.7</td>\n",
              "      <td>5.0</td>\n",
              "      <td>4.50</td>\n",
              "    </tr>\n",
              "    <tr>\n",
              "      <th>3</th>\n",
              "      <td>20.77</td>\n",
              "      <td>1248</td>\n",
              "      <td>88.76</td>\n",
              "      <td>7.0</td>\n",
              "      <td>6.00</td>\n",
              "    </tr>\n",
              "    <tr>\n",
              "      <th>4</th>\n",
              "      <td>15.2</td>\n",
              "      <td>1968</td>\n",
              "      <td>140.8</td>\n",
              "      <td>5.0</td>\n",
              "      <td>17.74</td>\n",
              "    </tr>\n",
              "  </tbody>\n",
              "</table>\n",
              "</div>"
            ],
            "text/plain": [
              "  Mileage Engine   Power  Seats  Price\n",
              "0   26.6    998   58.16     5.0   1.75\n",
              "1  19.67   1582   126.2     5.0  12.50\n",
              "2   18.2   1199    88.7     5.0   4.50\n",
              "3  20.77   1248   88.76     7.0   6.00\n",
              "4   15.2   1968   140.8     5.0  17.74"
            ]
          },
          "metadata": {},
          "execution_count": 346
        }
      ]
    },
    {
      "cell_type": "code",
      "metadata": {
        "id": "rcy1aEStS-Nn"
      },
      "source": [
        "numerical_cols = list(df_temp_numerical.columns)"
      ],
      "execution_count": 347,
      "outputs": []
    },
    {
      "cell_type": "code",
      "metadata": {
        "colab": {
          "base_uri": "https://localhost:8080/"
        },
        "id": "t2cGPAJRTEYO",
        "outputId": "4e2a9ad1-2272-4298-9fef-cf9cb7356b4e"
      },
      "source": [
        "numerical_cols"
      ],
      "execution_count": 348,
      "outputs": [
        {
          "output_type": "execute_result",
          "data": {
            "text/plain": [
              "['Mileage', 'Engine', 'Power', 'Seats', 'Price']"
            ]
          },
          "metadata": {},
          "execution_count": 348
        }
      ]
    },
    {
      "cell_type": "code",
      "metadata": {
        "id": "IYli_GHHQGfk"
      },
      "source": [
        "df_temp_categorical = copy.copy(df_temp_no_null)"
      ],
      "execution_count": 349,
      "outputs": []
    },
    {
      "cell_type": "code",
      "metadata": {
        "id": "TNAdIUgrQa23"
      },
      "source": [
        "df_temp_categorical.drop(['Mileage','Engine','Power','Seats','Price','New_Price','Name','Location','Year','Kilometers_Driven'], axis = 1, inplace = True)"
      ],
      "execution_count": 350,
      "outputs": []
    },
    {
      "cell_type": "code",
      "metadata": {
        "colab": {
          "base_uri": "https://localhost:8080/",
          "height": 419
        },
        "id": "-Kk9lsGXRxHi",
        "outputId": "db008faf-1fa7-4795-f054-e6947fadab85"
      },
      "source": [
        "df_temp_categorical"
      ],
      "execution_count": 351,
      "outputs": [
        {
          "output_type": "execute_result",
          "data": {
            "text/html": [
              "<div>\n",
              "<style scoped>\n",
              "    .dataframe tbody tr th:only-of-type {\n",
              "        vertical-align: middle;\n",
              "    }\n",
              "\n",
              "    .dataframe tbody tr th {\n",
              "        vertical-align: top;\n",
              "    }\n",
              "\n",
              "    .dataframe thead th {\n",
              "        text-align: right;\n",
              "    }\n",
              "</style>\n",
              "<table border=\"1\" class=\"dataframe\">\n",
              "  <thead>\n",
              "    <tr style=\"text-align: right;\">\n",
              "      <th></th>\n",
              "      <th>Fuel_Type</th>\n",
              "      <th>Transmission</th>\n",
              "      <th>Owner_Type</th>\n",
              "    </tr>\n",
              "  </thead>\n",
              "  <tbody>\n",
              "    <tr>\n",
              "      <th>0</th>\n",
              "      <td>CNG</td>\n",
              "      <td>Manual</td>\n",
              "      <td>First</td>\n",
              "    </tr>\n",
              "    <tr>\n",
              "      <th>1</th>\n",
              "      <td>Diesel</td>\n",
              "      <td>Manual</td>\n",
              "      <td>First</td>\n",
              "    </tr>\n",
              "    <tr>\n",
              "      <th>2</th>\n",
              "      <td>Petrol</td>\n",
              "      <td>Manual</td>\n",
              "      <td>First</td>\n",
              "    </tr>\n",
              "    <tr>\n",
              "      <th>3</th>\n",
              "      <td>Diesel</td>\n",
              "      <td>Manual</td>\n",
              "      <td>First</td>\n",
              "    </tr>\n",
              "    <tr>\n",
              "      <th>4</th>\n",
              "      <td>Diesel</td>\n",
              "      <td>Automatic</td>\n",
              "      <td>Second</td>\n",
              "    </tr>\n",
              "    <tr>\n",
              "      <th>...</th>\n",
              "      <td>...</td>\n",
              "      <td>...</td>\n",
              "      <td>...</td>\n",
              "    </tr>\n",
              "    <tr>\n",
              "      <th>6014</th>\n",
              "      <td>Diesel</td>\n",
              "      <td>Manual</td>\n",
              "      <td>First</td>\n",
              "    </tr>\n",
              "    <tr>\n",
              "      <th>6015</th>\n",
              "      <td>Diesel</td>\n",
              "      <td>Manual</td>\n",
              "      <td>First</td>\n",
              "    </tr>\n",
              "    <tr>\n",
              "      <th>6016</th>\n",
              "      <td>Diesel</td>\n",
              "      <td>Manual</td>\n",
              "      <td>Second</td>\n",
              "    </tr>\n",
              "    <tr>\n",
              "      <th>6017</th>\n",
              "      <td>Petrol</td>\n",
              "      <td>Manual</td>\n",
              "      <td>First</td>\n",
              "    </tr>\n",
              "    <tr>\n",
              "      <th>6018</th>\n",
              "      <td>Diesel</td>\n",
              "      <td>Manual</td>\n",
              "      <td>First</td>\n",
              "    </tr>\n",
              "  </tbody>\n",
              "</table>\n",
              "<p>5981 rows × 3 columns</p>\n",
              "</div>"
            ],
            "text/plain": [
              "     Fuel_Type Transmission Owner_Type\n",
              "0          CNG       Manual      First\n",
              "1       Diesel       Manual      First\n",
              "2       Petrol       Manual      First\n",
              "3       Diesel       Manual      First\n",
              "4       Diesel    Automatic     Second\n",
              "...        ...          ...        ...\n",
              "6014    Diesel       Manual      First\n",
              "6015    Diesel       Manual      First\n",
              "6016    Diesel       Manual     Second\n",
              "6017    Petrol       Manual      First\n",
              "6018    Diesel       Manual      First\n",
              "\n",
              "[5981 rows x 3 columns]"
            ]
          },
          "metadata": {},
          "execution_count": 351
        }
      ]
    },
    {
      "cell_type": "code",
      "metadata": {
        "id": "awDm1rQ9STpE"
      },
      "source": [
        "categorical_cols = list(df_temp_categorical.columns)"
      ],
      "execution_count": 352,
      "outputs": []
    },
    {
      "cell_type": "code",
      "metadata": {
        "colab": {
          "base_uri": "https://localhost:8080/"
        },
        "id": "5i57HGgvSdSC",
        "outputId": "05213cd1-ed9a-4ba6-f310-f8d0df035e01"
      },
      "source": [
        "categorical_cols"
      ],
      "execution_count": 353,
      "outputs": [
        {
          "output_type": "execute_result",
          "data": {
            "text/plain": [
              "['Fuel_Type', 'Transmission', 'Owner_Type']"
            ]
          },
          "metadata": {},
          "execution_count": 353
        }
      ]
    },
    {
      "cell_type": "markdown",
      "metadata": {
        "id": "ciIlpEHgJBjg"
      },
      "source": [
        "### **Applying Label Encoding**"
      ]
    },
    {
      "cell_type": "code",
      "metadata": {
        "id": "GsjQ6XbvJAos"
      },
      "source": [
        "le=preprocessing.LabelEncoder()\n",
        "for i in categorical_cols:\n",
        "    df_temp_categorical[i]=le.fit_transform(df_temp_categorical[i])"
      ],
      "execution_count": 354,
      "outputs": []
    },
    {
      "cell_type": "code",
      "metadata": {
        "colab": {
          "base_uri": "https://localhost:8080/",
          "height": 204
        },
        "id": "hgtlNg7IP2bK",
        "outputId": "8f4bf62c-9f31-4949-db5f-81e252e57043"
      },
      "source": [
        "df_temp_categorical.head()"
      ],
      "execution_count": 355,
      "outputs": [
        {
          "output_type": "execute_result",
          "data": {
            "text/html": [
              "<div>\n",
              "<style scoped>\n",
              "    .dataframe tbody tr th:only-of-type {\n",
              "        vertical-align: middle;\n",
              "    }\n",
              "\n",
              "    .dataframe tbody tr th {\n",
              "        vertical-align: top;\n",
              "    }\n",
              "\n",
              "    .dataframe thead th {\n",
              "        text-align: right;\n",
              "    }\n",
              "</style>\n",
              "<table border=\"1\" class=\"dataframe\">\n",
              "  <thead>\n",
              "    <tr style=\"text-align: right;\">\n",
              "      <th></th>\n",
              "      <th>Fuel_Type</th>\n",
              "      <th>Transmission</th>\n",
              "      <th>Owner_Type</th>\n",
              "    </tr>\n",
              "  </thead>\n",
              "  <tbody>\n",
              "    <tr>\n",
              "      <th>0</th>\n",
              "      <td>0</td>\n",
              "      <td>1</td>\n",
              "      <td>0</td>\n",
              "    </tr>\n",
              "    <tr>\n",
              "      <th>1</th>\n",
              "      <td>1</td>\n",
              "      <td>1</td>\n",
              "      <td>0</td>\n",
              "    </tr>\n",
              "    <tr>\n",
              "      <th>2</th>\n",
              "      <td>3</td>\n",
              "      <td>1</td>\n",
              "      <td>0</td>\n",
              "    </tr>\n",
              "    <tr>\n",
              "      <th>3</th>\n",
              "      <td>1</td>\n",
              "      <td>1</td>\n",
              "      <td>0</td>\n",
              "    </tr>\n",
              "    <tr>\n",
              "      <th>4</th>\n",
              "      <td>1</td>\n",
              "      <td>0</td>\n",
              "      <td>2</td>\n",
              "    </tr>\n",
              "  </tbody>\n",
              "</table>\n",
              "</div>"
            ],
            "text/plain": [
              "   Fuel_Type  Transmission  Owner_Type\n",
              "0          0             1           0\n",
              "1          1             1           0\n",
              "2          3             1           0\n",
              "3          1             1           0\n",
              "4          1             0           2"
            ]
          },
          "metadata": {},
          "execution_count": 355
        }
      ]
    },
    {
      "cell_type": "code",
      "metadata": {
        "colab": {
          "base_uri": "https://localhost:8080/"
        },
        "id": "xEbuxR4FJwIi",
        "outputId": "156947ee-2764-40a4-a314-9f95dd966696"
      },
      "source": [
        "df_temp_categorical.info()"
      ],
      "execution_count": 356,
      "outputs": [
        {
          "output_type": "stream",
          "text": [
            "<class 'pandas.core.frame.DataFrame'>\n",
            "Int64Index: 5981 entries, 0 to 6018\n",
            "Data columns (total 3 columns):\n",
            " #   Column        Non-Null Count  Dtype\n",
            "---  ------        --------------  -----\n",
            " 0   Fuel_Type     5981 non-null   int64\n",
            " 1   Transmission  5981 non-null   int64\n",
            " 2   Owner_Type    5981 non-null   int64\n",
            "dtypes: int64(3)\n",
            "memory usage: 346.9 KB\n"
          ],
          "name": "stdout"
        }
      ]
    },
    {
      "cell_type": "code",
      "metadata": {
        "colab": {
          "base_uri": "https://localhost:8080/"
        },
        "id": "8Xf5UU9NTezc",
        "outputId": "acb393ba-7abe-4e37-9ca7-767c7005bd74"
      },
      "source": [
        "df_temp_numerical.info()"
      ],
      "execution_count": 357,
      "outputs": [
        {
          "output_type": "stream",
          "text": [
            "<class 'pandas.core.frame.DataFrame'>\n",
            "Int64Index: 5981 entries, 0 to 6018\n",
            "Data columns (total 5 columns):\n",
            " #   Column   Non-Null Count  Dtype  \n",
            "---  ------   --------------  -----  \n",
            " 0   Mileage  5981 non-null   object \n",
            " 1   Engine   5981 non-null   object \n",
            " 2   Power    5981 non-null   object \n",
            " 3   Seats    5975 non-null   float64\n",
            " 4   Price    5981 non-null   float64\n",
            "dtypes: float64(2), object(3)\n",
            "memory usage: 440.4+ KB\n"
          ],
          "name": "stdout"
        }
      ]
    },
    {
      "cell_type": "code",
      "metadata": {
        "colab": {
          "base_uri": "https://localhost:8080/"
        },
        "id": "Ot_dRxdQU3uG",
        "outputId": "8947930b-8846-4b3b-a47e-b07baf76edc9"
      },
      "source": [
        "df_temp_numerical['Mileage'][len(df_temp_numerical)-1] = float(df_temp_numerical['Mileage'][len(df_temp_numerical)-1])"
      ],
      "execution_count": 358,
      "outputs": [
        {
          "output_type": "stream",
          "text": [
            "/usr/local/lib/python3.7/dist-packages/ipykernel_launcher.py:1: SettingWithCopyWarning: \n",
            "A value is trying to be set on a copy of a slice from a DataFrame\n",
            "\n",
            "See the caveats in the documentation: https://pandas.pydata.org/pandas-docs/stable/user_guide/indexing.html#returning-a-view-versus-a-copy\n",
            "  \"\"\"Entry point for launching an IPython kernel.\n"
          ],
          "name": "stderr"
        }
      ]
    },
    {
      "cell_type": "code",
      "metadata": {
        "colab": {
          "base_uri": "https://localhost:8080/"
        },
        "id": "GcsQi2jBUsPn",
        "outputId": "28cda746-404c-44c4-c4b6-13306e400843"
      },
      "source": [
        "print(df_temp_numerical['Mileage'][len(df_temp_numerical)-1])"
      ],
      "execution_count": 359,
      "outputs": [
        {
          "output_type": "stream",
          "text": [
            "18.5\n"
          ],
          "name": "stdout"
        }
      ]
    },
    {
      "cell_type": "code",
      "metadata": {
        "id": "pFUqM_HbUSkM"
      },
      "source": [
        "df_temp_numerical['Mileage'] = pd.to_numeric(df_temp_numerical['Mileage'], errors='coerce')\n",
        "df_temp_numerical['Engine'] = pd.to_numeric(df_temp_numerical['Engine'], errors='coerce')\n",
        "df_temp_numerical['Power'] = pd.to_numeric(df_temp_numerical['Power'], errors='coerce')\n",
        "df_temp_numerical['Price'] = pd.to_numeric(df_temp_numerical['Power'], errors='coerce')"
      ],
      "execution_count": 360,
      "outputs": []
    },
    {
      "cell_type": "code",
      "metadata": {
        "colab": {
          "base_uri": "https://localhost:8080/"
        },
        "id": "GynPVCLOTsUw",
        "outputId": "8c3d6a91-4771-4efb-f5b3-23d626452a81"
      },
      "source": [
        "df_temp_numerical.info()"
      ],
      "execution_count": 325,
      "outputs": [
        {
          "output_type": "stream",
          "text": [
            "<class 'pandas.core.frame.DataFrame'>\n",
            "Int64Index: 5981 entries, 0 to 6018\n",
            "Data columns (total 5 columns):\n",
            " #   Column   Non-Null Count  Dtype  \n",
            "---  ------   --------------  -----  \n",
            " 0   Mileage  5981 non-null   float64\n",
            " 1   Engine   5981 non-null   int64  \n",
            " 2   Power    5874 non-null   float64\n",
            " 3   Seats    5975 non-null   float64\n",
            " 4   Price    5874 non-null   float64\n",
            "dtypes: float64(4), int64(1)\n",
            "memory usage: 440.4 KB\n"
          ],
          "name": "stdout"
        }
      ]
    },
    {
      "cell_type": "code",
      "metadata": {
        "id": "0YYzndhHS2YJ"
      },
      "source": [
        "min_max_sca=preprocessing.MinMaxScaler()\n",
        "min_max_sca.fit(df_temp_numerical)\n",
        "df_temp_numerical_ndarr=min_max_sca.transform(df_temp_numerical)"
      ],
      "execution_count": 361,
      "outputs": []
    },
    {
      "cell_type": "code",
      "metadata": {
        "colab": {
          "base_uri": "https://localhost:8080/"
        },
        "id": "dla-tNaGWM4U",
        "outputId": "9ad7a211-03e3-431c-eb1d-5d8904aa7d21"
      },
      "source": [
        "df_temp_numerical_ndarr"
      ],
      "execution_count": 362,
      "outputs": [
        {
          "output_type": "execute_result",
          "data": {
            "text/plain": [
              "array([[0.79308289, 0.06959434, 0.04556866, 0.5       , 0.04556866],\n",
              "       [0.58646392, 0.17826572, 0.17497147, 0.5       , 0.17497147],\n",
              "       [0.54263566, 0.10699665, 0.10365158, 0.5       , 0.10365158],\n",
              "       ...,\n",
              "       [0.41741205, 0.34871604, 0.14796501, 0.8       , 0.14796501],\n",
              "       [0.56350626, 0.06959434, 0.06257132, 0.5       , 0.06257132],\n",
              "       [0.75849732, 0.05805731, 0.04450361, 0.5       , 0.04450361]])"
            ]
          },
          "metadata": {},
          "execution_count": 362
        }
      ]
    },
    {
      "cell_type": "code",
      "metadata": {
        "id": "bPgbu7j9Xevx"
      },
      "source": [
        "index = ['Mileage', 'Power' ,'Engine','Seats']"
      ],
      "execution_count": 364,
      "outputs": []
    },
    {
      "cell_type": "code",
      "metadata": {
        "id": "JH1KecMsXG73"
      },
      "source": [
        "df_temp_final = pd.DataFrame(df_temp_numerical_ndarr)"
      ],
      "execution_count": 365,
      "outputs": []
    },
    {
      "cell_type": "code",
      "metadata": {
        "colab": {
          "base_uri": "https://localhost:8080/",
          "height": 204
        },
        "id": "T0-cNTsXXMzc",
        "outputId": "0ec59c99-1864-48ec-e385-808c262743b2"
      },
      "source": [
        "df_temp_final.head()"
      ],
      "execution_count": 366,
      "outputs": [
        {
          "output_type": "execute_result",
          "data": {
            "text/html": [
              "<div>\n",
              "<style scoped>\n",
              "    .dataframe tbody tr th:only-of-type {\n",
              "        vertical-align: middle;\n",
              "    }\n",
              "\n",
              "    .dataframe tbody tr th {\n",
              "        vertical-align: top;\n",
              "    }\n",
              "\n",
              "    .dataframe thead th {\n",
              "        text-align: right;\n",
              "    }\n",
              "</style>\n",
              "<table border=\"1\" class=\"dataframe\">\n",
              "  <thead>\n",
              "    <tr style=\"text-align: right;\">\n",
              "      <th></th>\n",
              "      <th>0</th>\n",
              "      <th>1</th>\n",
              "      <th>2</th>\n",
              "      <th>3</th>\n",
              "      <th>4</th>\n",
              "    </tr>\n",
              "  </thead>\n",
              "  <tbody>\n",
              "    <tr>\n",
              "      <th>0</th>\n",
              "      <td>0.793083</td>\n",
              "      <td>0.069594</td>\n",
              "      <td>0.045569</td>\n",
              "      <td>0.5</td>\n",
              "      <td>0.045569</td>\n",
              "    </tr>\n",
              "    <tr>\n",
              "      <th>1</th>\n",
              "      <td>0.586464</td>\n",
              "      <td>0.178266</td>\n",
              "      <td>0.174971</td>\n",
              "      <td>0.5</td>\n",
              "      <td>0.174971</td>\n",
              "    </tr>\n",
              "    <tr>\n",
              "      <th>2</th>\n",
              "      <td>0.542636</td>\n",
              "      <td>0.106997</td>\n",
              "      <td>0.103652</td>\n",
              "      <td>0.5</td>\n",
              "      <td>0.103652</td>\n",
              "    </tr>\n",
              "    <tr>\n",
              "      <th>3</th>\n",
              "      <td>0.619261</td>\n",
              "      <td>0.116115</td>\n",
              "      <td>0.103766</td>\n",
              "      <td>0.7</td>\n",
              "      <td>0.103766</td>\n",
              "    </tr>\n",
              "    <tr>\n",
              "      <th>4</th>\n",
              "      <td>0.453190</td>\n",
              "      <td>0.250093</td>\n",
              "      <td>0.202739</td>\n",
              "      <td>0.5</td>\n",
              "      <td>0.202739</td>\n",
              "    </tr>\n",
              "  </tbody>\n",
              "</table>\n",
              "</div>"
            ],
            "text/plain": [
              "          0         1         2    3         4\n",
              "0  0.793083  0.069594  0.045569  0.5  0.045569\n",
              "1  0.586464  0.178266  0.174971  0.5  0.174971\n",
              "2  0.542636  0.106997  0.103652  0.5  0.103652\n",
              "3  0.619261  0.116115  0.103766  0.7  0.103766\n",
              "4  0.453190  0.250093  0.202739  0.5  0.202739"
            ]
          },
          "metadata": {},
          "execution_count": 366
        }
      ]
    },
    {
      "cell_type": "code",
      "metadata": {
        "id": "BXeRoxwUHZwq"
      },
      "source": [
        "Mileage_mean = df_temp_final[0].mean()\n",
        "Power_mean = df_temp_final[1].mean()\n",
        "Engine_mean = df_temp_final[2].mean()\n",
        "Seats_mean = df_temp_final[3].mean()"
      ],
      "execution_count": 332,
      "outputs": []
    },
    {
      "cell_type": "code",
      "metadata": {
        "colab": {
          "base_uri": "https://localhost:8080/"
        },
        "id": "2hCCsv2yIjCp",
        "outputId": "6813c90c-c97c-4f2a-e2db-ae3c9f7a3218"
      },
      "source": [
        "print(\"Mean of Mileages\" , Mileage_mean)\n",
        "print(\"Mean of Power\" , Power_mean)\n",
        "print(\"Mean of Engines\" , Engine_mean)\n",
        "print(\"Mean of Seats\" , Seats_mean)"
      ],
      "execution_count": 334,
      "outputs": [
        {
          "output_type": "stream",
          "text": [
            "Mean of Mileages 0.5418981814505641\n",
            "Mean of Power 0.1856170330223871\n",
            "Mean of Engines 0.1503845624346846\n",
            "Mean of Seats 0.5278828451882821\n"
          ],
          "name": "stdout"
        }
      ]
    },
    {
      "cell_type": "code",
      "metadata": {
        "id": "T0NzYxmtYSju"
      },
      "source": [
        "shcp_train_data[\"Mileage\"].fillna(Mileage_mean, inplace = True)\n",
        "shcp_train_data[\"Power\"].fillna(Power_mean, inplace = True)\n",
        "shcp_train_data[\"Engine\"].fillna(Engine_mean, inplace = True)\n",
        "shcp_train_data[\"Seats\"].fillna(Seats_mean, inplace = True)"
      ],
      "execution_count": 338,
      "outputs": []
    },
    {
      "cell_type": "markdown",
      "metadata": {
        "id": "CFRtOKc1dN0v"
      },
      "source": [
        "### Box Plot for analysing the number of Outliers in numerical data and where they are present"
      ]
    },
    {
      "cell_type": "code",
      "metadata": {
        "colab": {
          "base_uri": "https://localhost:8080/",
          "height": 504
        },
        "id": "HE8h7wmJdLme",
        "outputId": "4c118b30-5ce3-42de-d78c-e7689ec6fb3a"
      },
      "source": [
        "plt.figure(figsize=(20,10))\n",
        "plt.title('Boxplot of Mileage')\n",
        "sns.boxplot(data=df_temp_numerical, x='Mileage',color=\"purple\")"
      ],
      "execution_count": 385,
      "outputs": [
        {
          "output_type": "execute_result",
          "data": {
            "text/plain": [
              "<matplotlib.axes._subplots.AxesSubplot at 0x7fdc39be0bd0>"
            ]
          },
          "metadata": {},
          "execution_count": 385
        },
        {
          "output_type": "display_data",
          "data": {
            "image/png": "[encoded data removed]",
            "text/plain": [
              "<Figure size 1440x720 with 1 Axes>"
            ]
          },
          "metadata": {
            "needs_background": "light"
          }
        }
      ]
    },
    {
      "cell_type": "code",
      "metadata": {
        "colab": {
          "base_uri": "https://localhost:8080/",
          "height": 504
        },
        "id": "oB1hakaFdoLK",
        "outputId": "2989eb6e-e350-4fac-e768-dceefffbd628"
      },
      "source": [
        "plt.figure(figsize=(20,10))\n",
        "plt.title('Boxplot of Power')\n",
        "sns.boxplot(data=df_temp_numerical, x='Power',color=\"blue\")"
      ],
      "execution_count": 386,
      "outputs": [
        {
          "output_type": "execute_result",
          "data": {
            "text/plain": [
              "<matplotlib.axes._subplots.AxesSubplot at 0x7fdc39af2650>"
            ]
          },
          "metadata": {},
          "execution_count": 386
        },
        {
          "output_type": "display_data",
          "data": {
            "image/png": "[encoded data removed]",
            "text/plain": [
              "<Figure size 1440x720 with 1 Axes>"
            ]
          },
          "metadata": {
            "needs_background": "light"
          }
        }
      ]
    },
    {
      "cell_type": "code",
      "metadata": {
        "colab": {
          "base_uri": "https://localhost:8080/",
          "height": 504
        },
        "id": "7mEXGkdMdyNT",
        "outputId": "c21ecf82-b903-4b88-dad3-fde7cbed00c0"
      },
      "source": [
        "plt.figure(figsize=(20,10))\n",
        "plt.title('Boxplot of Engine')\n",
        "sns.boxplot(data=df_temp_numerical, x='Engine',color=\"orange\")"
      ],
      "execution_count": 387,
      "outputs": [
        {
          "output_type": "execute_result",
          "data": {
            "text/plain": [
              "<matplotlib.axes._subplots.AxesSubplot at 0x7fdc39aca490>"
            ]
          },
          "metadata": {},
          "execution_count": 387
        },
        {
          "output_type": "display_data",
          "data": {
            "image/png": "[encoded data removed]",
            "text/plain": [
              "<Figure size 1440x720 with 1 Axes>"
            ]
          },
          "metadata": {
            "needs_background": "light"
          }
        }
      ]
    },
    {
      "cell_type": "markdown",
      "metadata": {
        "id": "gV-el4e9eVX2"
      },
      "source": [
        "### (b) Pair Plot"
      ]
    },
    {
      "cell_type": "code",
      "metadata": {
        "colab": {
          "base_uri": "https://localhost:8080/",
          "height": 918
        },
        "id": "7vXxwHDKeUfR",
        "outputId": "cccd3e46-fba1-4e5b-a61b-cab0a07d6f97"
      },
      "source": [
        "sns.pairplot(df_temp_numerical)"
      ],
      "execution_count": 388,
      "outputs": [
        {
          "output_type": "execute_result",
          "data": {
            "text/plain": [
              "<seaborn.axisgrid.PairGrid at 0x7fdc39c33150>"
            ]
          },
          "metadata": {},
          "execution_count": 388
        },
        {
          "output_type": "display_data",
          "data": {
            "image/png": "[encoded data removed]",
            "text/plain": [
              "<Figure size 900x900 with 30 Axes>"
            ]
          },
          "metadata": {
            "needs_background": "light"
          }
        }
      ]
    },
    {
      "cell_type": "code",
      "metadata": {
        "colab": {
          "base_uri": "https://localhost:8080/",
          "height": 269
        },
        "id": "RlDkr-beaHgN",
        "outputId": "47e6ec7d-06dc-4dd4-f944-3d1e2921f9b7"
      },
      "source": [
        "ax = sns.heatmap(df_temp_final.corr(), center = 0.5 , annot=True)"
      ],
      "execution_count": 367,
      "outputs": [
        {
          "output_type": "display_data",
          "data": {
            "image/png": "[encoded data removed]",
            "text/plain": [
              "<Figure size 432x288 with 2 Axes>"
            ]
          },
          "metadata": {
            "needs_background": "light"
          }
        }
      ]
    },
    {
      "cell_type": "code",
      "metadata": {
        "id": "H-9YqQ0SaZ9f"
      },
      "source": [
        ""
      ],
      "execution_count": null,
      "outputs": []
    }
  ]
}